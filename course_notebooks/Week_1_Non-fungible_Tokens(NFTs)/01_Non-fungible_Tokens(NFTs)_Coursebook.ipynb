{
 "cells": [
  {
   "cell_type": "markdown",
   "metadata": {},
   "source": [
    "# 💻Welcome to Week 1 of the BC101 Bootcamp \n",
    "\n",
    "You have successfully finished the first coursebook! This is a great achievement as the first dive into Blockchain can be overwhelming. This week we will focus on developing and building your own NFT project.\n",
    "\n",
    "## 📕 Learning Objectives\n",
    "\n",
    "* Go through the theory of NFTs and what makes them unique.\n",
    "* Learn about the importance of NFT metdata and IPFS, and dive into the questionable decentralisation of NFTs.\n",
    "* Build your own unique NFT project and deploy it to the web.\n",
    "\n",
    "## 📅 Weekly Progress\n",
    "\n",
    "|Week | Content | Learning Objectives|\n",
    "|:--- |:--- | :--- |\n",
    "| 0 | Hello Blockchain World | Get to know more about your classmates, the mentors, and learn about the fundamental concepts of the Blockchain, how it works, and write your first smart contract.|\n",
    "| **1** | **Non-fungible Tokens (NFTs)**| **Learn more about Non-fungible Tokens (NFTs) and go through the protocols that make them unique and valuable. Create your own NFT collection, deploy it to a Testnet and view it on OpenSea.** |\n",
    "| 2 | Decentralised Finance (DeFi)| Understand the major innovation behind DeFi, learn about the most popular DeFi protocols, and create your own cryptocurrency and DeFi project for others to interact with. |\n",
    "| 3 | GameFi & SocialFi | Discover a new field in Blockchain that has experienced explosive growth and tapped into concepts such as play-to-earn that currently push the boundaries of blockchain technology application beyond finance. Integrate your own SocialFi project with your DeFi and NFT project. |\n",
    "| 4 | Decentralised Autonomous Orgaizations (DAOs)  | Find out why DAOs are the industries standard as the governing entity for blockchain-based organizations and how they handle voting mechanisms and tokenomics to make the entire organization function. Go through the process of building your own DAO. |\n",
    "| 5 | Personal Project & Graduation | Research, gather feedback, write an article and pitch a potential Blockchain project to the class. Successfully graduate from the Bootcamp and receive your Blockchain certification. |"
   ]
  },
  {
   "cell_type": "markdown",
   "metadata": {},
   "source": []
  }
 ],
 "metadata": {
  "language_info": {
   "name": "python"
  },
  "orig_nbformat": 4
 },
 "nbformat": 4,
 "nbformat_minor": 2
}
