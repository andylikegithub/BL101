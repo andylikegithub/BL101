{
 "cells": [
  {
   "cell_type": "markdown",
   "metadata": {},
   "source": [
    "# 💻Week 2 Workbook of unpackAI \"DL101 Bootcamp\""
   ]
  },
  {
   "cell_type": "markdown",
   "metadata": {},
   "source": [
    "## 📕 Learning Objectives of the Week\n",
    "\n",
    "* Understand the process of minting NFTs\n",
    "* Build, deploy and mint your own NFT: off-chain, on-chain and on IPFS\n",
    "* Create a frontend and connect it with a wallet"
   ]
  },
  {
   "cell_type": "markdown",
   "metadata": {},
   "source": [
    "\n",
    " \n",
    ">**🎯 Our Goal**: We will guide you thru the way to mint your own NFT. We will cover the whole process from crating the contract till building the user frontend. In fact, we will build three different NFTs: one off-chain, one on-chain, and one collectible. Follow the instructions in this Workbook. *We try to keep the process as simple as possible*. "
   ]
  },
  {
   "cell_type": "markdown",
   "metadata": {},
   "source": [
    "## Assigment 1a: Create an off-chain NFT\n",
    ">👉🏻👨‍💻 Quicklink to your [Assignment 1a on replit](https://replit.com/team/Blockchain101/1-my-first-NFT)  \n",
    "\n",
    ">🎯 *You will write a smart contract from scratch which points to the metadata and image stored on the internet. You will then deploy the contract and watch your result on Opensea.*    \n",
    "\n",
    ">🧐 **Why is this important?** *Off-chain NFTs provide you the cheapest way to mint NFTs and might be an alternative for organizations to mint manymany tokens and where data can be stored on it's own server. (Think about a company which wants to mint an NFT for each employee but wants to host images and metadata on its own server (for privacy reason or to save `gas`).)*"
   ]
  },
  {
   "cell_type": "markdown",
   "metadata": {},
   "source": [
    "### 🖥 Make yourself familiar with `replit` \n",
    "We provided an online **IDE** (Inegrated Development Environment) where you can run and test code and experiment it in a save environment without any hassle of set-up and configuration.   \n",
    "\n",
    "If you go to [replit.com/1-myfirstNFT](https://replit.com/team/Blockchain101/1-my-first-NFT) you asked to create a new **replit** account. \n",
    "\n",
    "After seeting up your account you will see a three-window panel:      \n",
    "\n",
    "![Replit Interface](images/replit-introduction.png)\n",
    " \n",
    " - On the **left** site is the **explorer** with all files, data, configs, images, etc. we need. We already provided all necessary files and did the intial set-up for you. So you can solely concentrate on writing your contract and deploying your NFT to the blockchain. \n",
    " - In the **middle** is the editor where you can write your code. Keep in mind that you dont't have to save. Every change will be saved immediately.\n",
    " - On the **right** side you find the **Shell** to execute system relevant code and a **Markdown** Preview for the README.md where we provide some instructions for you. The **Console** is not important in this course.\n"
   ]
  },
  {
   "cell_type": "markdown",
   "metadata": {},
   "source": [
    "### 🦊 MINT YOUR FIRST NFT\n",
    "### 1️⃣ Create your Metadata\n",
    "1. 🛫 upload an image or peace of art (e.g. on [imgur.com](https://imgur.com)). Copy the `url` to your image.\n",
    "2. ✍️ create your NFTs metadata and paste your image url from 1️⃣ like here:  \n",
    "    ```\n",
    "      {\n",
    "        \"name\": \"My first NFT\",\n",
    "        \"description\": \"An awesome NFT everybody should know about!!!\",\n",
    "        \"image\": \"https://i.imgur.com/4tneqoC.png\"\n",
    "      }\n",
    "    ```  \n",
    "    Copy the metadata and 🛫 paste it *hasselfree* on [jsonkeeper](https://jsonkeeper.com/). You become an url in return. Copy it!\n",
    "    \n",
    "... we will need that **url** later. So copy and save it somewhere! 🧲   \n",
    "*Let's start with writing the smart-contract:*   "
   ]
  },
  {
   "cell_type": "markdown",
   "metadata": {},
   "source": [
    "#### 2️⃣ Create a contract that mints NFTs 👩🏾‍💻 \n",
    "Go to the left side in the explorer and add a new file under /contracts. Name it `MyFirstNFT.sol`:    \n",
    "\n",
    "![Create soldity file](images/replit-create-contract.png)  \n",
    "\n",
    "\n",
    "#### a) Solidity version 🔢\n",
    "Every solidity contract should start with the License-Identifier and the solidity version:    \n",
    "\n",
    "```\n",
    "// SPDX-License-Identifier: MIT\n",
    "pragma solidity ^0.8.1;\n",
    "```\n",
    "\n",
    ">*The License-Identifiere is optional (some IDEs might print a warning if its missing). The Solidity Version on the other hand is essential. It must match the version of all other files and configs which interacts with your contract.*\n",
    "\n",
    "> 👉🏻👉🏻 Copy it and paste it into your contract! 👩🏾‍💻  "
   ]
  },
  {
   "cell_type": "markdown",
   "metadata": {},
   "source": [
    "#### b) Zeppelin Integration 🛸\n",
    "Remember what defines an NFTs? The **ERC-721** standard. This standard consist of a bunch of methods and variables. We could could copy the code defining this standard into our contract. But instead we simply import this from [OpenZeppelin](https://docs.openzeppelin.com/contracts/4.x/erc721#constructing_an_erc721_token_contract).  \n",
    "We already did this for you (with the help of `hardhat` - a javascript based library for blockchain development).  \n",
    "If you look on the left site you will see und `/artifacts/@openzeppelin/...` the file `ERC721.json`:    \n",
    "\n",
    "![ERC721.json](images/replit-ERC721.png)    \n",
    "\n",
    "... 🖱 *we need to import it into our contract by adding this import statement:*\n",
    "\n",
    "```\n",
    "...\n",
    "import \"@openzeppelin/contracts/token/ERC721/extensions/ERC721URIStorage.sol\";\n",
    "```\n",
    "We will also add an statement which lets us increment our NFT tokens *(we will need this for later assignements)*:\n",
    "```\n",
    "import \"@openzeppelin/contracts/utils/Counters.sol\";\n",
    "import \"hardhat/console.sol\";\n",
    "```   \n",
    "\n",
    "*(the second line `import \"hardhat/console.sol\";` is for interacting with our contract from the console - don't worry about this for now)*   \n",
    "\n",
    ">👉🏻👉🏻 Add these import statements to your contract! 👩🏾‍💻"
   ]
  },
  {
   "cell_type": "markdown",
   "metadata": {},
   "source": [
    "#### c) Contract object 📜 \n",
    "Every solidity contract starts with the `contract` keyword - it is an object holding your contract functions and variables. It can itself inherit from other contracts. And this is what we do here: we inherit the **ERC-721** class into our solidity object. Add this code:  \n",
    "\n",
    "... and don't forget the closing curly brace at the end. Everything we will add must be inside these curly braces.\n",
    "\n",
    "```\n",
    "contract MyFirstNFT is ERC721URIStorage { \n",
    "                                       \n",
    "```   \n",
    "At this point we also add a counter object which helps us to keep track of our token:  \n",
    "```\n",
    "using Counters for Counters.Counter;\n",
    "  Counters.Counter private _tokenIds;\n",
    "```  \n",
    ">👉🏻👉🏻 Add these also to your contract!👩🏾‍💻"
   ]
  },
  {
   "cell_type": "markdown",
   "metadata": {},
   "source": [
    "#### d) Token Name and Symbol 🔮\n",
    "We need to pass the name of our NFTs token and its symbol. We are also adding a simple print statement:   \n",
    "\n",
    "```\n",
    "constructor() ERC721 (\"MyFirstNFT\", \"MYFIRSTNFT\") {\n",
    "    console.log(\"This is my NFT contract. Woah!\");\n",
    "  }\n",
    "```\n",
    ">👉🏻👉🏻 Add this to your contract 👨‍💻   "
   ]
  },
  {
   "cell_type": "markdown",
   "metadata": {},
   "source": [
    "#### e) Functions 🧮\n",
    "**Functions** are essential parts of smart contracts. We already learned about them in **Week 1**. With the help of functions we or interact with our NFT later on the blockchain. Let's add a function to create our token. We call it `makeAnEpicNFT()`:  \n",
    "\n",
    "```\n",
    "function mintNFT() public {   //0️⃣ \n",
    "    \n",
    "  uint256 newItemId = _tokenIds.current();    //1️⃣ \n",
    "  _safeMint(msg.sender, newItemId);   //2️⃣ \n",
    "  console.log(\"An NFT w/ ID %s has been minted to %s\", newItemId, msg.sender);\n",
    "  _setTokenURI(newItemId, \"https://jsonkeeper.com/b/PT3P\");   //3️⃣ \n",
    "  _tokenIds.increment();    //4️⃣ \n",
    "  }\n",
    "```   \n",
    "0️⃣  We declare this function as *public*, i.e. anybody can acess it. Then\n",
    "1️⃣  we get the current tokenId, starting with 0 and \n",
    "2️⃣  mint the NFT to the sender using `msg.sender`. We\n",
    "3️⃣  set the NFTs data from our json file on jsonkeeper.com and\n",
    "4️⃣  increment the counter for when the next NFT is minted\n",
    "\n",
    ">👉🏻👉🏻 Copy and paste this function into your contract and change the line `_setTokenURI(newItemId, \"https://jsonkeeper.com/b/CWYT\");` with your **json metadata url**! 👨‍💻\n",
    "\n",
    "That's it for the *coding part* 🎉🥳👯‍♀️    \n",
    "\n",
    "*If you haven't inserted the code while we went thru it, here is the whole code:*"
   ]
  },
  {
   "cell_type": "markdown",
   "metadata": {},
   "source": [
    "#### Full annotated Code (if something happened) 🌋"
   ]
  },
  {
   "cell_type": "markdown",
   "metadata": {},
   "source": [
    "```\n",
    "// SPDX-License-Identifier: MIT\n",
    "// Smart contract that creates a simple NFTs based on an on-chain stored metadata image\n",
    "pragma solidity ^0.8.1;\n",
    "\n",
    "// We first import some OpenZeppelin Contracts.\n",
    "import \"@openzeppelin/contracts/token/ERC721/extensions/ERC721URIStorage.sol\";\n",
    "import \"@openzeppelin/contracts/utils/Counters.sol\";\n",
    "import \"hardhat/console.sol\";\n",
    "\n",
    "// We inherit the contract we imported. This means we'll have access\n",
    "// to the inherited contract's methods.\n",
    "contract MyFirstNFT is ERC721URIStorage {\n",
    "  // Magic given to us by OpenZeppelin to help us keep track of tokenIds.\n",
    "  using Counters for Counters.Counter;\n",
    "  Counters.Counter private _tokenIds;\n",
    "\n",
    "  // We need to pass the name of our NFTs token and its symbol.\n",
    "  constructor() ERC721 (\"MyFirstNFT\", \"MYFIRSTNFT\") {\n",
    "    console.log(\"This is my NFT contract. Woah!\");\n",
    "  }\n",
    "\n",
    "  // A function our user will hit to get their NFT.\n",
    "  function mintNFT() public {\n",
    "     // Get the current tokenId, this starts at 0.\n",
    "    uint256 newItemId = _tokenIds.current();\n",
    "\n",
    "     // Actually mint the NFT to the sender using msg.sender.\n",
    "    _safeMint(msg.sender, newItemId);\n",
    "    console.log(\"An NFT w/ ID %s has been minted to %s\", newItemId, msg.sender);\n",
    "\n",
    "    // Set the NFTs data.\n",
    "    _setTokenURI(newItemId, \"https://jsonkeeper.com/b/Q1D9\");\n",
    "\n",
    "    // Increment the counter for when the next NFT is minted.\n",
    "    _tokenIds.increment();\n",
    "  }\n",
    "}\n",
    "````\n",
    "\n",
    "Copy and it and paste it into `MyFirstNFT.sol`.\n",
    "\n",
    "📬 *There is one last thing we need to do before we can mint our NFT. Setting up our address ...*\n"
   ]
  },
  {
   "cell_type": "markdown",
   "metadata": {},
   "source": [
    "### 4️⃣ Adding Wallet Address and Alchemy API 🔩 \n",
    "If you want to use your own Metamask wallet to sign the contract. Insert your private key to your Rinkeby account from your Metmask wallet into the `Secrets` folder on the left pane in **replit**.   \n",
    "You can also apply for an [Alchemy API]() and paste it as an environment variable into the Secrets:   \n",
    "\n",
    "![environment variable](images/replit-alchemy.png)\n",
    "\n",
    "🤨 If you don't have a private key, run the following python code. It will print out the `Metamask Wallet Private Key` we provided for you:  "
   ]
  },
  {
   "cell_type": "code",
   "execution_count": 1,
   "metadata": {},
   "outputs": [
    {
     "name": "stdout",
     "output_type": "stream",
     "text": [
      "ALCHEMY_API_KEY_URL:  https://eth-rinkeby.alchemyapi.io/v2/kWwjuwmHKr7IVcg5uXFp-IfGMOA4_cJK\n",
      "RINKEBY_PRIVATE_KEY:  0x2Cac45ad8A2D04c8a7660Ac512Be094A0149e797\n"
     ]
    }
   ],
   "source": [
    "# TO-DO: this into helpers.py\n",
    "# PRINT WALLET ADDRESS & ALCHEMY API KEY\n",
    "import os\n",
    "from dotenv import load_dotenv\n",
    "import pkg_resources\n",
    "import bl101\n",
    "\n",
    "ENVIRONMENT = pkg_resources.resource_filename('bl101', '.env')\n",
    "load_dotenv(ENVIRONMENT)\n",
    "\n",
    "# Print Metmask Private Key from unpackAI\n",
    "print(\"ALCHEMY_API_KEY_URL: \", \"https://eth-rinkeby.alchemyapi.io/v2/\" + os.getenv(\"ALCHEMY\"))\n",
    "print(\"RINKEBY_PRIVATE_KEY: \", os.getenv(\"WALLETADDRESS\"))"
   ]
  },
  {
   "cell_type": "markdown",
   "metadata": {},
   "source": [
    "### 5️⃣ Deployment 🚛  \n",
    "The last thing we need to do is write the code for deploying our smart contract. We already did this for you. But you can have a look into `scripts/deploy.js` to see how it looks like. \n",
    "\n",
    "If you now click on:    \n",
    "\n",
    "![](images/replit-run.png)  \n",
    "\n",
    "your NFT will be minted. \n",
    "\n",
    "*Follow the instructions on **Replit** and come back to the next Assignement ...*"
   ]
  },
  {
   "cell_type": "markdown",
   "metadata": {},
   "source": [
    "----"
   ]
  },
  {
   "cell_type": "markdown",
   "metadata": {},
   "source": [
    "## Assigment 1b: Create on-chain NFT Collectible\n",
    ">👉🏻👩🏾‍💻 [You find your assignment here](https://replit.com/team/Blockchain101/2-my-second-NFT)  \n",
    ">🎯 *Building on what your already did in 1a, you will create a vector image and change the contract so that it can create variations of that image. Unlike 1a image and metadata are stored fully inside the contract. Again, you will deploy and watch it on Opensea.*    \n",
    ">🧐 **Why is this important?** *SVGs stored in the contract is not very common. However, their might be use cases where you exactly want this: an NFT collection of symbols or QR-Codes which you can use in your organization as visualized proof of ownership*  "
   ]
  },
  {
   "cell_type": "markdown",
   "metadata": {},
   "source": [
    "### 🤖 Minting NFTs with static SVGs\n",
    ">So far we minted our first NFT. Of course on the Testnet (to avoid gas gee and Opensea commision). But the process is exactly the same on the mainnet (the *real* blockchain).  \n",
    ">🧐 *But another question arise ...*"
   ]
  },
  {
   "cell_type": "markdown",
   "metadata": {},
   "source": [
    "#### 👑 GENERATE NFTs ON-CHAIN\n",
    "*What happens if `imgur` goes down?   \n",
    "What happens if `jsonkeeper` goes down?*   \n",
    "Then we lose our NFT! 😳🤯🥶  \n",
    "A solution would be to store image and metadata directly on the blockchain. \n",
    "\n",
    "*That's exactly what we do in this mini-course. But we go one step further: we will not mint one NFT - we will mint many NFT, i.e. **Collectibles** ...*"
   ]
  },
  {
   "cell_type": "markdown",
   "metadata": {},
   "source": [
    "#### 💰 Changing the blockchain costs money\n",
    "The problem with on-chain NFTs: it can be costly! Whenever we change the blockchain it costs gas and the more we change the more gas. But how can we store an image on the blockchain? Technically you can store the images data in the smart contract. But unless your image is not just 8x8 pixels it would be to inefficient.    \n",
    "\n",
    "In this course we chose a different approach. We are going to store a vector image on-chain.   \n",
    "\n",
    "*You might know the difference between vector and bitmap pictures?*   \n",
    "- **Bitmaps** consists of pixels. Most pictures are bitmap format and the file size increases with the image size. Typicial file formats are `jpg` or `png`.   \n",
    "Storing a bitmap on the blockchain is very costly.  \n",
    "\n",
    "- **Vectors** on the other hand consist of geometric rules about how the image is constructed. Vectors are small in size. Usually ...\n",
    "Vectors are perfect for on-chain storage. A common format for vectors is `svg`."
   ]
  },
  {
   "cell_type": "markdown",
   "metadata": {},
   "source": [
    "#### 🎨 Create an `svg`\n",
    "Let's start by creating a simple `svg` image. Nothing fancy, just a colored rectangle with some text in the middle:\n",
    "```\n",
    "<svg xmlns=\"http://www.w3.org/2000/svg\" preserveAspectRatio=\"xMinYMin meet\" viewBox=\"0 0 200 200\">\n",
    "    <style>.base { fill: white; font-family: serif; font-size: 14px; }</style>\n",
    "    <rect width=\"100%\" height=\"100%\" fill=\"pink\" />\n",
    "    <text x=\"50%\" y=\"50%\" class=\"base\" dominant-baseline=\"middle\" text-anchor=\"middle\">MY SECOND EPIC NFT</text>\n",
    "</svg>\n",
    "```\n",
    "Copy ☝️ that `<svg>` code, paste it in an text editor and change some attributes. You can change the text, size, color, etc. \n",
    "\n",
    "*This will be our NFT image that we store on the blockchain.*\n",
    "\n",
    "Next, we need to encode our <svg> to the <base64> format. We can do this with the help of online-ecoders like [this here](https://www.utilities-online.info/base64):  \n",
    "![Encode svg to base64 format](images/online-encoder.png)   \n",
    "\n",
    "into an online svg-viewer like \n",
    "\n",
    "\n",
    "Copy your encoded SVG. We need it in \n",
    "But before, lets check how our image looks like. You can do this in your browser with this format:   \n",
    "\n",
    "`data:image/svg+xml;base64,👉🏻BASE64_ENCODED_SVG👈🏻`   \n",
    "\n",
    "So in our example it would be: \n",
    " `data:image/svg+xml;base64,PHN2ZyB4bWxucz0iaHR0...`\n",
    "\n",
    "You can paste this into your browser and you will see your image: \n",
    "![svg image](images/svg-image.png)\n",
    "\n",
    "\n",
    "#### 📄 Create `json` metadata\n",
    "Let's create some basic metadata with `name`, `description` and `image`:   \n",
    "```\n",
    "{\n",
    "  \"name\": \"MySecondEpicNFT\",\n",
    "  \"description\": \"An NFT as plain and simple as epic,\n",
    "  \"image\": \"data:image/svg+xml;base64,👉🏻YOUR_ENCODED_SVG👈🏻\"\n",
    "}\n",
    "```  \n",
    "You can chose any name and description. Then paste your encoded svg like in above 👆🏻 example. \n",
    "\n",
    "**Encode Metadata**  \n",
    "Next, we encode our metadata to `base64` like we did before with our svg:  paste the metadata into the [same site](https://www.utilities-online.info/base64), press encode and copy your encoded result. We need this in the next part to paste it into our contract:   \n",
    "![Encode Metadata to base64 format](images/encoding-metadata.png)  \n",
    "\n",
    "*If you want you can check your metadata by pasting it like this:\n",
    "`data:application/json;base64, 👉🏻ENCODED_METADATA👈🏻` into your browser. But it won't display the embedded image:*  \n",
    "![Metadata displayed in the browser](images/metadata-browser.png)\n",
    "\n",
    "#### 💉 Insert image and metadata into contract    \n",
    "*We're almost there!* 😥   \n",
    "We will now insert our encoded metadata into our contract. \n",
    "We just need to change one line (line 29) in `contracts/MyEpicNFT.sol`: \n",
    "\n",
    "`_setTokenURI(newItemId, \"data:application/json;base64,👉🏻ENCODED_METADATA👈🏻\")`  \n",
    "\n",
    "That's it! 🕺💃. We have our image embedded in our metadata and our metadata embedded in our contract. *Ready for deploying ...* 🚀🧨\n",
    "\n",
    "#### 🚀 Deploy to Rinkeby\n",
    "The final step now is to deploy our updated contract and mint our NFT:    \n",
    "Simply click `Run` 🎬 or 👩🏾‍💻 type   \n",
    "`npx hardhat run scripts/deploy.js --network rinkeby` and watch the shell output:  ![shell output after executing deploy.js](image/shell-deploy.png)\n",
    "\n",
    "##### 🌊 View on OpenSea\n",
    ">And like last time you can grab your deployment address and search for it on [opensea.io](https://testnets.opensea.io/) or see here or here:   \n",
    "![NFT on opensea testnet](images/opensea_NFT2.png)\n",
    "\n",
    "\n",
    "*And again, alternatively you can display your NFT on [Rarible](https://rinkeby.rarible.com/).* 😉\n",
    "\n",
    " \n"
   ]
  },
  {
   "cell_type": "markdown",
   "metadata": {},
   "source": [
    "## Assigment 1c: Create Collectible NFT and mint on IPFS\n",
    ">🎯 *Following directly 1a, with a few lines of code you will mint your NFT via IPFS - todays-standard for storing NFT data. Again, you can deploy and watch your NFT on Opensea.*    \n",
    ">**Why is this important?** *Storing NFTs on IPFS is the standard procedure for minting NFTs.*"
   ]
  },
  {
   "cell_type": "markdown",
   "metadata": {},
   "source": [
    ">**Why is this important?** *...*  \n",
    "\n",
    ">👉🏻👨‍💻 [You find your assignment here](https://replit.com/team/Blockchain101/3-my-first-Collectible)"
   ]
  },
  {
   "cell_type": "markdown",
   "metadata": {},
   "source": [
    "### 👯‍♂️ Our first collectible NFT on 🪐 IPFS\n",
    "🤯 *Do you remember these famous **Ape Yacht** we mentioned in the coursebook?*   \n",
    "\n",
    "In this mini course we will build something similiar, but way simpler. We will continue with our on-chain svg NFT from `2️⃣ MySecondNFT` and enchance it to a collectible NFT.  \n",
    "I.e. we will dynamically generate SVG NFTs on-chain.  \n",
    "🏎 *Let's go!*  \n",
    "\n",
    "#### 🔤 Randomly generate words on an image\n",
    "Working with randomness on the blockchain is not as easy as you would guess.\n",
    "\n",
    "You can have a look into `function pickRandomFirstWord` in `MyEpicNFT.sol`\n",
    "#### 🔬 Test locally\n",
    "You might discovered `run.js` inside the contracts folder? This time we mint our NFTs locally to check the results.\n",
    "\n",
    "Don't worry about that. Its basically the same code like if we deploy to the *real* blockchain (or actually the testnet of the *real* blockchain)\n",
    "\n",
    "Simply run `npx hardhat run scripts/run.js` and watch the shell output:\n",
    "![shell output after executing run.js](images/shell-run.png)\n",
    "We see two minted NFTs and their `<svg>`. We can copy one of the NFTs `<svg> xmlsns='...</svg> and paste it [here](https://www.svgviewer.dev/) to see our NFT:   \n",
    "![SVG of minted NFT](images/svg-image2.png)\n",
    "\n",
    "\n",
    "#### 🚀 Deploy to Rinkeby\n",
    "As in our previous courses we want to deploy our collectible to the *real* (testnet) blockchain, mint it and watch it on OpenSea. \n",
    "Run `npx hardhat run scripts/deploy.js --network rinkeby` shell, copy the deployment address:  \n",
    "![shell output after executing deploy.js](images/shell-deploy2.png)  \n",
    "\n",
    "and 🔥 fire-up [opensea.io](https://testnets.opensea.io/) and search the newly deployed contract address. Again, don't click enter. *OpenSea is weird so you'll need click the collection itself when it comes up.*\n",
    "In our example:\n",
    "![Minted collectible on OpenSea](images/deployed-collectible.png)\n",
    "\n",
    "\n",
    "Again, if it does not show up on OpenSea use **Rarible** instead:\n",
    "Create this url: `https://rinkeby.rarible.com/token/👉🏻DEPLOYMENT_ADRESS👈🏻:👉🏻TOKEN_ID👈🏻`\n",
    "For example, here's my link: `https://rinkeby.rarible.com/token/0xEd029b01E4c72B7B0868b2b43841a7Cc316a0e49:0`  \n",
    "My tokenId is 0 because it was the first mint from that contract.\n"
   ]
  },
  {
   "cell_type": "markdown",
   "metadata": {},
   "source": [
    "## Assigment 1d: Create a frontend interface to let user mint NFTs (OPTIONAL)\n",
    ">🎯 *We provide all the code to host a website which connects to the users Metamask wallet and let them mint their NFTs.*    \n",
    ">**Why is this important?** *So far we worked on the backend part. Seeing the frontend part is also important to understand the blockchain ecosystem.*\n",
    "\n",
    ">🎖 *This assignment is fully optional!*   "
   ]
  },
  {
   "cell_type": "markdown",
   "metadata": {},
   "source": [
    "---  \n",
    "# Appendix: Where can you go from here? 🚶‍♀️\n",
    ">🎖 *This part is fully optional!*  "
   ]
  },
  {
   "cell_type": "markdown",
   "metadata": {},
   "source": [
    "Why don't you mint your NFT on the *real* blockchain? You can use the same code by only changing the `alchemy` url and your wallet address:   \n",
    "1. If you haven't alread setup your Metamask Wallet as described in this weeks coursebook *(You can skip the part with the test-ether.)*.\n",
    "2. Deposit some real ether *(you need some Ether for gas and opensea fee)* following [these instructions]().\n",
    "3. Create your image\n",
    "4. Change the following code:\n",
    "```\n",
    "        ...  instruction to change code from testnet to mainnet ...\n",
    "```\n",
    "5. Press `Run`"
   ]
  }
 ],
 "metadata": {
  "interpreter": {
   "hash": "5e4dfa1f338460bcb53cb7a418ba6d77390fdc73252d0568f44114c25194db7d"
  },
  "kernelspec": {
   "display_name": "Python 3.8.8 ('base')",
   "language": "python",
   "name": "python3"
  },
  "language_info": {
   "codemirror_mode": {
    "name": "ipython",
    "version": 3
   },
   "file_extension": ".py",
   "mimetype": "text/x-python",
   "name": "python",
   "nbconvert_exporter": "python",
   "pygments_lexer": "ipython3",
   "version": "3.8.8"
  },
  "orig_nbformat": 4
 },
 "nbformat": 4,
 "nbformat_minor": 2
}
