{
 "cells": [
  {
   "cell_type": "markdown",
   "metadata": {},
   "source": [
    "Needed libraries:\n",
    "from IPython.display import YouTubeVideo"
   ]
  },
  {
   "cell_type": "markdown",
   "metadata": {},
   "source": [
    "# 💻Week 1 Workbook of unpackAI \"DL101 Bootcamp\""
   ]
  },
  {
   "cell_type": "markdown",
   "metadata": {},
   "source": [
    "## 📕 Learning Objectives of the Week\n",
    "\n",
    "* Understand the fundamental process of building your own image classification project."
   ]
  },
  {
   "cell_type": "markdown",
   "metadata": {},
   "source": [
    "## unpackAI Assignment Section\n",
    "\n",
    " \n",
    "*   **Assignment 1**: Watch the video \"Blockchain 101 - a visual Demo\", record your own verbal definition of the blockchain and share it in the student group.\n",
    "*   **Assignment 2**: "
   ]
  },
  {
   "cell_type": "markdown",
   "metadata": {},
   "source": [
    "## Assigment 1: Watch the video \"Blockchain 101 - a visual Demo\", record your own verbal definition of the blockchain and share it in the student group."
   ]
  },
  {
   "cell_type": "markdown",
   "metadata": {},
   "source": [
    "Below you can find the aforementioned video. Additionally to the content in the coursebook, it will provide you with a more clear and visual understanding of how a blockchains works, adds data entries, and why it is immutable."
   ]
  },
  {
   "cell_type": "code",
   "execution_count": 1,
   "metadata": {},
   "outputs": [
    {
     "data": {
      "text/html": [
       "\n",
       "        <iframe\n",
       "            width=\"800\"\n",
       "            height=\"600\"\n",
       "            src=\"https://www.youtube.com/embed/_160oMzblY8\"\n",
       "            frameborder=\"0\"\n",
       "            allowfullscreen\n",
       "        ></iframe>\n",
       "        "
      ],
      "text/plain": [
       "<IPython.lib.display.YouTubeVideo at 0x7f81e4681610>"
      ]
     },
     "execution_count": 1,
     "metadata": {},
     "output_type": "execute_result"
    }
   ],
   "source": [
    "from IPython.display import YouTubeVideo\n",
    "YouTubeVideo(\"_160oMzblY8\", width=800, height=600)\n",
    "#HTML video tag source"
   ]
  },
  {
   "cell_type": "markdown",
   "metadata": {},
   "source": [
    "With your combined knowledge, please record a video of yourself in which you use your own way to define the blockchain. There is no requires length or tools for you to use. We only require you to share it within the student before the next upcoming session."
   ]
  },
  {
   "cell_type": "markdown",
   "metadata": {},
   "source": [
    "## Assigment 2: "
   ]
  },
  {
   "cell_type": "markdown",
   "metadata": {},
   "source": []
  }
 ],
 "metadata": {
  "interpreter": {
   "hash": "aee8b7b246df8f9039afb4144a1f6fd8d2ca17a180786b69acc140d282b71a49"
  },
  "kernelspec": {
   "display_name": "Python 3.9.5 64-bit",
   "language": "python",
   "name": "python3"
  },
  "language_info": {
   "codemirror_mode": {
    "name": "ipython",
    "version": 3
   },
   "file_extension": ".py",
   "mimetype": "text/x-python",
   "name": "python",
   "nbconvert_exporter": "python",
   "pygments_lexer": "ipython3",
   "version": "3.9.5"
  },
  "orig_nbformat": 4
 },
 "nbformat": 4,
 "nbformat_minor": 2
}
