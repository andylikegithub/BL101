{
 "cells": [
  {
   "cell_type": "markdown",
   "metadata": {},
   "source": [
    ">Conda Environment: `blockchain39` (iMac)"
   ]
  },
  {
   "cell_type": "markdown",
   "metadata": {},
   "source": [
    "[![Open In Colab](https://colab.research.google.com/assets/colab-badge.svg)](https://colab.research.google.com/drive/1Ul1OjDmr_WF_F2mES17AYiMlG2Un3QXn?usp=sharing)"
   ]
  },
  {
   "cell_type": "code",
   "execution_count": null,
   "metadata": {},
   "outputs": [],
   "source": [
    "# MOUNT GOOGLE DRIVE\n",
    "# ... in case you want to store data\n",
    "from google.colab import drive\n",
    "drive.mount('/content/drive')"
   ]
  },
  {
   "cell_type": "markdown",
   "metadata": {},
   "source": [
    "---\n",
    "#  Week 1: HELLO BLOCKCHAIN WORLD\n",
    "---"
   ]
  },
  {
   "cell_type": "markdown",
   "metadata": {},
   "source": [
    "#### Setup & Import relevant Libraries for this Course"
   ]
  },
  {
   "cell_type": "code",
   "execution_count": 1,
   "metadata": {},
   "outputs": [],
   "source": [
    "%%capture [--no-stdout]\n",
    "\n",
    "# SETUP LIBRARIERS (ONLY ONCE)\n",
    "%pip install bl101"
   ]
  },
  {
   "cell_type": "code",
   "execution_count": 1,
   "metadata": {},
   "outputs": [
    {
     "data": {
      "text/plain": [
       "True"
      ]
     },
     "execution_count": 1,
     "metadata": {},
     "output_type": "execute_result"
    }
   ],
   "source": [
    "# IMPORT LIBRARIES\n",
    "\n",
    "# Standard library imports\n",
    "import sys\n",
    "import os\n",
    "import json\n",
    "import pkg_resources\n",
    "import time as time\n",
    "import requests\n",
    "\n",
    "# Third party imports\n",
    "import solcx\n",
    "from web3 import Web3 \n",
    "from web3.auto.gethdev import w3\n",
    "from web3 import EthereumTesterProvider\n",
    "import hashlib\n",
    "from Crypto.Hash import keccak\n",
    "from dotenv import load_dotenv\n",
    "\n",
    "# UnpackAI Trainings Module\n",
    "import bl101\n",
    "\n",
    "# Constants\n",
    "ENVIRONMENT = pkg_resources.resource_filename('bl101', '.env')\n",
    "CONTRACT_DIR = pkg_resources.resource_filename(\"bl101\", \"contracts\")\n",
    "\n",
    "# Load environment variables from .env in bl101\n",
    "load_dotenv(ENVIRONMENT)"
   ]
  },
  {
   "cell_type": "markdown",
   "metadata": {},
   "source": [
    "# Hello World"
   ]
  },
  {
   "cell_type": "markdown",
   "metadata": {},
   "source": [
    "## General Workflow\n",
    "Let's jump directly into the blockchain ecosystem by creating a **Hello World** example, i.e. we will write a program that stores *Hello World* to the blockchain.   \n",
    ">1️⃣ create `.sol` --> 2️⃣ read & compile `.sol` --> 3️⃣ build contract --> 4️⃣  deploy --> 5️⃣ interact with contract on blockchain"
   ]
  },
  {
   "cell_type": "markdown",
   "metadata": {},
   "source": [
    "## 1️⃣. Create `helloworld.sol`"
   ]
  },
  {
   "cell_type": "markdown",
   "metadata": {},
   "source": [
    "We skip this step by now and use the `helloworld.sol` contract we already written. Later we will learn more about creating so called *smart contracts*. Creating the .sol file is the coding part in the narrower sense of working. Solidity is coding language which is close to *javascript*. We later will use online tools which help us to create smart contracts."
   ]
  },
  {
   "cell_type": "markdown",
   "metadata": {},
   "source": [
    "## 2️⃣. Read and compile `helloworld.sol`"
   ]
  },
  {
   "cell_type": "markdown",
   "metadata": {},
   "source": [
    "For the beginning we use the `helloworld.sol` contract which we provide in our `bl101` module:"
   ]
  },
  {
   "cell_type": "code",
   "execution_count": 2,
   "metadata": {},
   "outputs": [],
   "source": [
    "# Load Helloworld contract from bl101 package\n",
    "contract_file = os.path.join(CONTRACT_DIR, 'helloworld.sol')\n",
    "with open(contract_file, \"r\") as file:\n",
    "    contract = file.read()"
   ]
  },
  {
   "cell_type": "code",
   "execution_count": 3,
   "metadata": {},
   "outputs": [
    {
     "name": "stdout",
     "output_type": "stream",
     "text": [
      "pragma solidity ^0.8.12;\n",
      "\n",
      "contract HelloWorld {\n",
      "\n",
      "string s = \"Hello World from Shanghai\";\n",
      "\n",
      "  function read_message() public view returns (string memory) {\n",
      "      return s;\n",
      "      }\n",
      "\n",
      "function write_message(string calldata t) public {\n",
      "        s = t;\n",
      "    }\n",
      "\n",
      "}\n"
     ]
    }
   ],
   "source": [
    "print(contract)"
   ]
  },
  {
   "cell_type": "markdown",
   "metadata": {},
   "source": [
    "👆🏻 Our contract has only a few lines of code consisting mainly of two functions for reading and writing this variable."
   ]
  },
  {
   "cell_type": "code",
   "execution_count": 4,
   "metadata": {},
   "outputs": [],
   "source": [
    "solcx.install_solc('0.8.12') # install the right solidity version\n",
    "\n",
    "compiled_contract = solcx.compile_standard(\n",
    "    {\n",
    "    \"language\": \"Solidity\",\n",
    "    \"sources\": {\"helloworld.sol\": {\"content\": contract}},\n",
    "    \"settings\": {\"outputSelection\": {\"*\": {\"*\": [\"abi\", \"metadata\", \"evm.bytecode\", \"evm.bytecode.sourceMap\"] }}},\n",
    "    \n",
    "    },\n",
    "    solc_version = \"0.8.12\"\n",
    ")\n",
    "# -> creates dict with keys: errors, sources & >>>contracts<<<"
   ]
  },
  {
   "cell_type": "markdown",
   "metadata": {},
   "source": [
    "Compiling results in a `dictionary`:"
   ]
  },
  {
   "cell_type": "code",
   "execution_count": 5,
   "metadata": {},
   "outputs": [
    {
     "data": {
      "text/plain": [
       "dict"
      ]
     },
     "execution_count": 5,
     "metadata": {},
     "output_type": "execute_result"
    }
   ],
   "source": [
    "type(compiled_contract)"
   ]
  },
  {
   "cell_type": "markdown",
   "metadata": {},
   "source": [
    "We can print out the whole `compiled_contract`:"
   ]
  },
  {
   "cell_type": "code",
   "execution_count": 6,
   "metadata": {},
   "outputs": [
    {
     "data": {
      "text/plain": [
       "{'contracts': {'helloworld.sol': {'HelloWorld': {'abi': [{'inputs': [],\n",
       "      'name': 'read_message',\n",
       "      'outputs': [{'internalType': 'string', 'name': '', 'type': 'string'}],\n",
       "      'stateMutability': 'view',\n",
       "      'type': 'function'},\n",
       "     {'inputs': [{'internalType': 'string', 'name': 't', 'type': 'string'}],\n",
       "      'name': 'write_message',\n",
       "      'outputs': [],\n",
       "      'stateMutability': 'nonpayable',\n",
       "      'type': 'function'}],\n",
       "    'evm': {'bytecode': {'functionDebugData': {'extract_byte_array_length': {'entryPoint': 308,\n",
       "        'id': None,\n",
       "        'parameterSlots': 1,\n",
       "        'returnSlots': 1},\n",
       "       'panic_error_0x22': {'entryPoint': 261,\n",
       "        'id': None,\n",
       "        'parameterSlots': 0,\n",
       "        'returnSlots': 0}},\n",
       "      'generatedSources': [{'ast': {'nodeType': 'YulBlock',\n",
       "         'src': '0:516:1',\n",
       "         'statements': [{'body': {'nodeType': 'YulBlock',\n",
       "            'src': '35:152:1',\n",
       "            'statements': [{'expression': {'arguments': [{'kind': 'number',\n",
       "                 'nodeType': 'YulLiteral',\n",
       "                 'src': '52:1:1',\n",
       "                 'type': '',\n",
       "                 'value': '0'},\n",
       "                {'kind': 'number',\n",
       "                 'nodeType': 'YulLiteral',\n",
       "                 'src': '55:77:1',\n",
       "                 'type': '',\n",
       "                 'value': '35408467139433450592217433187231851964531694900788300625387963629091585785856'}],\n",
       "               'functionName': {'name': 'mstore',\n",
       "                'nodeType': 'YulIdentifier',\n",
       "                'src': '45:6:1'},\n",
       "               'nodeType': 'YulFunctionCall',\n",
       "               'src': '45:88:1'},\n",
       "              'nodeType': 'YulExpressionStatement',\n",
       "              'src': '45:88:1'},\n",
       "             {'expression': {'arguments': [{'kind': 'number',\n",
       "                 'nodeType': 'YulLiteral',\n",
       "                 'src': '149:1:1',\n",
       "                 'type': '',\n",
       "                 'value': '4'},\n",
       "                {'kind': 'number',\n",
       "                 'nodeType': 'YulLiteral',\n",
       "                 'src': '152:4:1',\n",
       "                 'type': '',\n",
       "                 'value': '0x22'}],\n",
       "               'functionName': {'name': 'mstore',\n",
       "                'nodeType': 'YulIdentifier',\n",
       "                'src': '142:6:1'},\n",
       "               'nodeType': 'YulFunctionCall',\n",
       "               'src': '142:15:1'},\n",
       "              'nodeType': 'YulExpressionStatement',\n",
       "              'src': '142:15:1'},\n",
       "             {'expression': {'arguments': [{'kind': 'number',\n",
       "                 'nodeType': 'YulLiteral',\n",
       "                 'src': '173:1:1',\n",
       "                 'type': '',\n",
       "                 'value': '0'},\n",
       "                {'kind': 'number',\n",
       "                 'nodeType': 'YulLiteral',\n",
       "                 'src': '176:4:1',\n",
       "                 'type': '',\n",
       "                 'value': '0x24'}],\n",
       "               'functionName': {'name': 'revert',\n",
       "                'nodeType': 'YulIdentifier',\n",
       "                'src': '166:6:1'},\n",
       "               'nodeType': 'YulFunctionCall',\n",
       "               'src': '166:15:1'},\n",
       "              'nodeType': 'YulExpressionStatement',\n",
       "              'src': '166:15:1'}]},\n",
       "           'name': 'panic_error_0x22',\n",
       "           'nodeType': 'YulFunctionDefinition',\n",
       "           'src': '7:180:1'},\n",
       "          {'body': {'nodeType': 'YulBlock',\n",
       "            'src': '244:269:1',\n",
       "            'statements': [{'nodeType': 'YulAssignment',\n",
       "              'src': '254:22:1',\n",
       "              'value': {'arguments': [{'name': 'data',\n",
       "                 'nodeType': 'YulIdentifier',\n",
       "                 'src': '268:4:1'},\n",
       "                {'kind': 'number',\n",
       "                 'nodeType': 'YulLiteral',\n",
       "                 'src': '274:1:1',\n",
       "                 'type': '',\n",
       "                 'value': '2'}],\n",
       "               'functionName': {'name': 'div',\n",
       "                'nodeType': 'YulIdentifier',\n",
       "                'src': '264:3:1'},\n",
       "               'nodeType': 'YulFunctionCall',\n",
       "               'src': '264:12:1'},\n",
       "              'variableNames': [{'name': 'length',\n",
       "                'nodeType': 'YulIdentifier',\n",
       "                'src': '254:6:1'}]},\n",
       "             {'nodeType': 'YulVariableDeclaration',\n",
       "              'src': '285:38:1',\n",
       "              'value': {'arguments': [{'name': 'data',\n",
       "                 'nodeType': 'YulIdentifier',\n",
       "                 'src': '315:4:1'},\n",
       "                {'kind': 'number',\n",
       "                 'nodeType': 'YulLiteral',\n",
       "                 'src': '321:1:1',\n",
       "                 'type': '',\n",
       "                 'value': '1'}],\n",
       "               'functionName': {'name': 'and',\n",
       "                'nodeType': 'YulIdentifier',\n",
       "                'src': '311:3:1'},\n",
       "               'nodeType': 'YulFunctionCall',\n",
       "               'src': '311:12:1'},\n",
       "              'variables': [{'name': 'outOfPlaceEncoding',\n",
       "                'nodeType': 'YulTypedName',\n",
       "                'src': '289:18:1',\n",
       "                'type': ''}]},\n",
       "             {'body': {'nodeType': 'YulBlock',\n",
       "               'src': '362:51:1',\n",
       "               'statements': [{'nodeType': 'YulAssignment',\n",
       "                 'src': '376:27:1',\n",
       "                 'value': {'arguments': [{'name': 'length',\n",
       "                    'nodeType': 'YulIdentifier',\n",
       "                    'src': '390:6:1'},\n",
       "                   {'kind': 'number',\n",
       "                    'nodeType': 'YulLiteral',\n",
       "                    'src': '398:4:1',\n",
       "                    'type': '',\n",
       "                    'value': '0x7f'}],\n",
       "                  'functionName': {'name': 'and',\n",
       "                   'nodeType': 'YulIdentifier',\n",
       "                   'src': '386:3:1'},\n",
       "                  'nodeType': 'YulFunctionCall',\n",
       "                  'src': '386:17:1'},\n",
       "                 'variableNames': [{'name': 'length',\n",
       "                   'nodeType': 'YulIdentifier',\n",
       "                   'src': '376:6:1'}]}]},\n",
       "              'condition': {'arguments': [{'name': 'outOfPlaceEncoding',\n",
       "                 'nodeType': 'YulIdentifier',\n",
       "                 'src': '342:18:1'}],\n",
       "               'functionName': {'name': 'iszero',\n",
       "                'nodeType': 'YulIdentifier',\n",
       "                'src': '335:6:1'},\n",
       "               'nodeType': 'YulFunctionCall',\n",
       "               'src': '335:26:1'},\n",
       "              'nodeType': 'YulIf',\n",
       "              'src': '332:81:1'},\n",
       "             {'body': {'nodeType': 'YulBlock',\n",
       "               'src': '465:42:1',\n",
       "               'statements': [{'expression': {'arguments': [],\n",
       "                  'functionName': {'name': 'panic_error_0x22',\n",
       "                   'nodeType': 'YulIdentifier',\n",
       "                   'src': '479:16:1'},\n",
       "                  'nodeType': 'YulFunctionCall',\n",
       "                  'src': '479:18:1'},\n",
       "                 'nodeType': 'YulExpressionStatement',\n",
       "                 'src': '479:18:1'}]},\n",
       "              'condition': {'arguments': [{'name': 'outOfPlaceEncoding',\n",
       "                 'nodeType': 'YulIdentifier',\n",
       "                 'src': '429:18:1'},\n",
       "                {'arguments': [{'name': 'length',\n",
       "                   'nodeType': 'YulIdentifier',\n",
       "                   'src': '452:6:1'},\n",
       "                  {'kind': 'number',\n",
       "                   'nodeType': 'YulLiteral',\n",
       "                   'src': '460:2:1',\n",
       "                   'type': '',\n",
       "                   'value': '32'}],\n",
       "                 'functionName': {'name': 'lt',\n",
       "                  'nodeType': 'YulIdentifier',\n",
       "                  'src': '449:2:1'},\n",
       "                 'nodeType': 'YulFunctionCall',\n",
       "                 'src': '449:14:1'}],\n",
       "               'functionName': {'name': 'eq',\n",
       "                'nodeType': 'YulIdentifier',\n",
       "                'src': '426:2:1'},\n",
       "               'nodeType': 'YulFunctionCall',\n",
       "               'src': '426:38:1'},\n",
       "              'nodeType': 'YulIf',\n",
       "              'src': '423:84:1'}]},\n",
       "           'name': 'extract_byte_array_length',\n",
       "           'nodeType': 'YulFunctionDefinition',\n",
       "           'parameters': [{'name': 'data',\n",
       "             'nodeType': 'YulTypedName',\n",
       "             'src': '228:4:1',\n",
       "             'type': ''}],\n",
       "           'returnVariables': [{'name': 'length',\n",
       "             'nodeType': 'YulTypedName',\n",
       "             'src': '237:6:1',\n",
       "             'type': ''}],\n",
       "           'src': '193:320:1'}]},\n",
       "        'contents': '{\\n\\n    function panic_error_0x22() {\\n        mstore(0, 35408467139433450592217433187231851964531694900788300625387963629091585785856)\\n        mstore(4, 0x22)\\n        revert(0, 0x24)\\n    }\\n\\n    function extract_byte_array_length(data) -> length {\\n        length := div(data, 2)\\n        let outOfPlaceEncoding := and(data, 1)\\n        if iszero(outOfPlaceEncoding) {\\n            length := and(length, 0x7f)\\n        }\\n\\n        if eq(outOfPlaceEncoding, lt(length, 32)) {\\n            panic_error_0x22()\\n        }\\n    }\\n\\n}\\n',\n",
       "        'id': 1,\n",
       "        'language': 'Yul',\n",
       "        'name': '#utility.yul'}],\n",
       "      'linkReferences': {},\n",
       "      'object': '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',\n",
       "      'opcodes': 'PUSH1 0x80 PUSH1 0x40 MSTORE PUSH1 0x40 MLOAD DUP1 PUSH1 0x40 ADD PUSH1 0x40 MSTORE DUP1 PUSH1 0x19 DUP2 MSTORE PUSH1 0x20 ADD PUSH32 0x48656C6C6F20576F726C642066726F6D205368616E6768616900000000000000 DUP2 MSTORE POP PUSH1 0x0 SWAP1 DUP1 MLOAD SWAP1 PUSH1 0x20 ADD SWAP1 PUSH2 0x4F SWAP3 SWAP2 SWAP1 PUSH2 0x62 JUMP JUMPDEST POP CALLVALUE DUP1 ISZERO PUSH2 0x5C JUMPI PUSH1 0x0 DUP1 REVERT JUMPDEST POP PUSH2 0x166 JUMP JUMPDEST DUP3 DUP1 SLOAD PUSH2 0x6E SWAP1 PUSH2 0x134 JUMP JUMPDEST SWAP1 PUSH1 0x0 MSTORE PUSH1 0x20 PUSH1 0x0 KECCAK256 SWAP1 PUSH1 0x1F ADD PUSH1 0x20 SWAP1 DIV DUP2 ADD SWAP3 DUP3 PUSH2 0x90 JUMPI PUSH1 0x0 DUP6 SSTORE PUSH2 0xD7 JUMP JUMPDEST DUP3 PUSH1 0x1F LT PUSH2 0xA9 JUMPI DUP1 MLOAD PUSH1 0xFF NOT AND DUP4 DUP1 ADD OR DUP6 SSTORE PUSH2 0xD7 JUMP JUMPDEST DUP3 DUP1 ADD PUSH1 0x1 ADD DUP6 SSTORE DUP3 ISZERO PUSH2 0xD7 JUMPI SWAP2 DUP3 ADD JUMPDEST DUP3 DUP2 GT ISZERO PUSH2 0xD6 JUMPI DUP3 MLOAD DUP3 SSTORE SWAP2 PUSH1 0x20 ADD SWAP2 SWAP1 PUSH1 0x1 ADD SWAP1 PUSH2 0xBB JUMP JUMPDEST JUMPDEST POP SWAP1 POP PUSH2 0xE4 SWAP2 SWAP1 PUSH2 0xE8 JUMP JUMPDEST POP SWAP1 JUMP JUMPDEST JUMPDEST DUP1 DUP3 GT ISZERO PUSH2 0x101 JUMPI PUSH1 0x0 DUP2 PUSH1 0x0 SWAP1 SSTORE POP PUSH1 0x1 ADD PUSH2 0xE9 JUMP JUMPDEST POP SWAP1 JUMP JUMPDEST PUSH32 0x4E487B7100000000000000000000000000000000000000000000000000000000 PUSH1 0x0 MSTORE PUSH1 0x22 PUSH1 0x4 MSTORE PUSH1 0x24 PUSH1 0x0 REVERT JUMPDEST PUSH1 0x0 PUSH1 0x2 DUP3 DIV SWAP1 POP PUSH1 0x1 DUP3 AND DUP1 PUSH2 0x14C JUMPI PUSH1 0x7F DUP3 AND SWAP2 POP JUMPDEST PUSH1 0x20 DUP3 LT DUP2 EQ ISZERO PUSH2 0x160 JUMPI PUSH2 0x15F PUSH2 0x105 JUMP JUMPDEST JUMPDEST POP SWAP2 SWAP1 POP JUMP JUMPDEST PUSH2 0x3CE DUP1 PUSH2 0x175 PUSH1 0x0 CODECOPY PUSH1 0x0 RETURN INVALID PUSH1 0x80 PUSH1 0x40 MSTORE CALLVALUE DUP1 ISZERO PUSH2 0x10 JUMPI PUSH1 0x0 DUP1 REVERT JUMPDEST POP PUSH1 0x4 CALLDATASIZE LT PUSH2 0x36 JUMPI PUSH1 0x0 CALLDATALOAD PUSH1 0xE0 SHR DUP1 PUSH4 0x80B1F30C EQ PUSH2 0x3B JUMPI DUP1 PUSH4 0xEB206AF4 EQ PUSH2 0x57 JUMPI JUMPDEST PUSH1 0x0 DUP1 REVERT JUMPDEST PUSH2 0x55 PUSH1 0x4 DUP1 CALLDATASIZE SUB DUP2 ADD SWAP1 PUSH2 0x50 SWAP2 SWAP1 PUSH2 0x22F JUMP JUMPDEST PUSH2 0x75 JUMP JUMPDEST STOP JUMPDEST PUSH2 0x5F PUSH2 0x8B JUMP JUMPDEST PUSH1 0x40 MLOAD PUSH2 0x6C SWAP2 SWAP1 PUSH2 0x315 JUMP JUMPDEST PUSH1 0x40 MLOAD DUP1 SWAP2 SUB SWAP1 RETURN JUMPDEST DUP2 DUP2 PUSH1 0x0 SWAP2 SWAP1 PUSH2 0x86 SWAP3 SWAP2 SWAP1 PUSH2 0x11D JUMP JUMPDEST POP POP POP JUMP JUMPDEST PUSH1 0x60 PUSH1 0x0 DUP1 SLOAD PUSH2 0x9A SWAP1 PUSH2 0x366 JUMP JUMPDEST DUP1 PUSH1 0x1F ADD PUSH1 0x20 DUP1 SWAP2 DIV MUL PUSH1 0x20 ADD PUSH1 0x40 MLOAD SWAP1 DUP2 ADD PUSH1 0x40 MSTORE DUP1 SWAP3 SWAP2 SWAP1 DUP2 DUP2 MSTORE PUSH1 0x20 ADD DUP3 DUP1 SLOAD PUSH2 0xC6 SWAP1 PUSH2 0x366 JUMP JUMPDEST DUP1 ISZERO PUSH2 0x113 JUMPI DUP1 PUSH1 0x1F LT PUSH2 0xE8 JUMPI PUSH2 0x100 DUP1 DUP4 SLOAD DIV MUL DUP4 MSTORE SWAP2 PUSH1 0x20 ADD SWAP2 PUSH2 0x113 JUMP JUMPDEST DUP3 ADD SWAP2 SWAP1 PUSH1 0x0 MSTORE PUSH1 0x20 PUSH1 0x0 KECCAK256 SWAP1 JUMPDEST DUP2 SLOAD DUP2 MSTORE SWAP1 PUSH1 0x1 ADD SWAP1 PUSH1 0x20 ADD DUP1 DUP4 GT PUSH2 0xF6 JUMPI DUP3 SWAP1 SUB PUSH1 0x1F AND DUP3 ADD SWAP2 JUMPDEST POP POP POP POP POP SWAP1 POP SWAP1 JUMP JUMPDEST DUP3 DUP1 SLOAD PUSH2 0x129 SWAP1 PUSH2 0x366 JUMP JUMPDEST SWAP1 PUSH1 0x0 MSTORE PUSH1 0x20 PUSH1 0x0 KECCAK256 SWAP1 PUSH1 0x1F ADD PUSH1 0x20 SWAP1 DIV DUP2 ADD SWAP3 DUP3 PUSH2 0x14B JUMPI PUSH1 0x0 DUP6 SSTORE PUSH2 0x192 JUMP JUMPDEST DUP3 PUSH1 0x1F LT PUSH2 0x164 JUMPI DUP1 CALLDATALOAD PUSH1 0xFF NOT AND DUP4 DUP1 ADD OR DUP6 SSTORE PUSH2 0x192 JUMP JUMPDEST DUP3 DUP1 ADD PUSH1 0x1 ADD DUP6 SSTORE DUP3 ISZERO PUSH2 0x192 JUMPI SWAP2 DUP3 ADD JUMPDEST DUP3 DUP2 GT ISZERO PUSH2 0x191 JUMPI DUP3 CALLDATALOAD DUP3 SSTORE SWAP2 PUSH1 0x20 ADD SWAP2 SWAP1 PUSH1 0x1 ADD SWAP1 PUSH2 0x176 JUMP JUMPDEST JUMPDEST POP SWAP1 POP PUSH2 0x19F SWAP2 SWAP1 PUSH2 0x1A3 JUMP JUMPDEST POP SWAP1 JUMP JUMPDEST JUMPDEST DUP1 DUP3 GT ISZERO PUSH2 0x1BC JUMPI PUSH1 0x0 DUP2 PUSH1 0x0 SWAP1 SSTORE POP PUSH1 0x1 ADD PUSH2 0x1A4 JUMP JUMPDEST POP SWAP1 JUMP JUMPDEST PUSH1 0x0 DUP1 REVERT JUMPDEST PUSH1 0x0 DUP1 REVERT JUMPDEST PUSH1 0x0 DUP1 REVERT JUMPDEST PUSH1 0x0 DUP1 REVERT JUMPDEST PUSH1 0x0 DUP1 REVERT JUMPDEST PUSH1 0x0 DUP1 DUP4 PUSH1 0x1F DUP5 ADD SLT PUSH2 0x1EF JUMPI PUSH2 0x1EE PUSH2 0x1CA JUMP JUMPDEST JUMPDEST DUP3 CALLDATALOAD SWAP1 POP PUSH8 0xFFFFFFFFFFFFFFFF DUP2 GT ISZERO PUSH2 0x20C JUMPI PUSH2 0x20B PUSH2 0x1CF JUMP JUMPDEST JUMPDEST PUSH1 0x20 DUP4 ADD SWAP2 POP DUP4 PUSH1 0x1 DUP3 MUL DUP4 ADD GT ISZERO PUSH2 0x228 JUMPI PUSH2 0x227 PUSH2 0x1D4 JUMP JUMPDEST JUMPDEST SWAP3 POP SWAP3 SWAP1 POP JUMP JUMPDEST PUSH1 0x0 DUP1 PUSH1 0x20 DUP4 DUP6 SUB SLT ISZERO PUSH2 0x246 JUMPI PUSH2 0x245 PUSH2 0x1C0 JUMP JUMPDEST JUMPDEST PUSH1 0x0 DUP4 ADD CALLDATALOAD PUSH8 0xFFFFFFFFFFFFFFFF DUP2 GT ISZERO PUSH2 0x264 JUMPI PUSH2 0x263 PUSH2 0x1C5 JUMP JUMPDEST JUMPDEST PUSH2 0x270 DUP6 DUP3 DUP7 ADD PUSH2 0x1D9 JUMP JUMPDEST SWAP3 POP SWAP3 POP POP SWAP3 POP SWAP3 SWAP1 POP JUMP JUMPDEST PUSH1 0x0 DUP2 MLOAD SWAP1 POP SWAP2 SWAP1 POP JUMP JUMPDEST PUSH1 0x0 DUP3 DUP3 MSTORE PUSH1 0x20 DUP3 ADD SWAP1 POP SWAP3 SWAP2 POP POP JUMP JUMPDEST PUSH1 0x0 JUMPDEST DUP4 DUP2 LT ISZERO PUSH2 0x2B6 JUMPI DUP1 DUP3 ADD MLOAD DUP2 DUP5 ADD MSTORE PUSH1 0x20 DUP2 ADD SWAP1 POP PUSH2 0x29B JUMP JUMPDEST DUP4 DUP2 GT ISZERO PUSH2 0x2C5 JUMPI PUSH1 0x0 DUP5 DUP5 ADD MSTORE JUMPDEST POP POP POP POP JUMP JUMPDEST PUSH1 0x0 PUSH1 0x1F NOT PUSH1 0x1F DUP4 ADD AND SWAP1 POP SWAP2 SWAP1 POP JUMP JUMPDEST PUSH1 0x0 PUSH2 0x2E7 DUP3 PUSH2 0x27C JUMP JUMPDEST PUSH2 0x2F1 DUP2 DUP6 PUSH2 0x287 JUMP JUMPDEST SWAP4 POP PUSH2 0x301 DUP2 DUP6 PUSH1 0x20 DUP7 ADD PUSH2 0x298 JUMP JUMPDEST PUSH2 0x30A DUP2 PUSH2 0x2CB JUMP JUMPDEST DUP5 ADD SWAP2 POP POP SWAP3 SWAP2 POP POP JUMP JUMPDEST PUSH1 0x0 PUSH1 0x20 DUP3 ADD SWAP1 POP DUP2 DUP2 SUB PUSH1 0x0 DUP4 ADD MSTORE PUSH2 0x32F DUP2 DUP5 PUSH2 0x2DC JUMP JUMPDEST SWAP1 POP SWAP3 SWAP2 POP POP JUMP JUMPDEST PUSH32 0x4E487B7100000000000000000000000000000000000000000000000000000000 PUSH1 0x0 MSTORE PUSH1 0x22 PUSH1 0x4 MSTORE PUSH1 0x24 PUSH1 0x0 REVERT JUMPDEST PUSH1 0x0 PUSH1 0x2 DUP3 DIV SWAP1 POP PUSH1 0x1 DUP3 AND DUP1 PUSH2 0x37E JUMPI PUSH1 0x7F DUP3 AND SWAP2 POP JUMPDEST PUSH1 0x20 DUP3 LT DUP2 EQ ISZERO PUSH2 0x392 JUMPI PUSH2 0x391 PUSH2 0x337 JUMP JUMPDEST JUMPDEST POP SWAP2 SWAP1 POP JUMP INVALID LOG2 PUSH5 0x6970667358 0x22 SLT KECCAK256 BYTE 0xB8 SMOD 0xE7 0xC5 CODESIZE 0xEA SWAP16 0xDE NUMBER 0xE2 PUSH28 0xC3C2E65080328E48A20225EC8FF0FA093869F53764736F6C63430008 0xC STOP CALLER ',\n",
       "      'sourceMap': '26:227:0:-:0;;;49:38;;;;;;;;;;;;;;;;;;;;;;;;;;;;;;:::i;:::-;;26:227;;;;;;;;;;;;;;;;;;;:::i;:::-;;;;;;;;;;;;;;;;;;;;;;;;;;;;;;;;;;;;;;;;;;;;;;;;;;;;;;;;;;;;;;;;;;;;;;;;;;;;;;;;;;;;;;;;:::i;:::-;;;:::o;:::-;;;;;;;;;;;;;;;;;;;;;:::o;7:180:1:-;55:77;52:1;45:88;152:4;149:1;142:15;176:4;173:1;166:15;193:320;237:6;274:1;268:4;264:12;254:22;;321:1;315:4;311:12;342:18;332:81;;398:4;390:6;386:17;376:27;;332:81;460:2;452:6;449:14;429:18;426:38;423:84;;;479:18;;:::i;:::-;423:84;244:269;193:320;;;:::o;26:227:0:-;;;;;;;'}},\n",
       "    'metadata': '{\"compiler\":{\"version\":\"0.8.12+commit.f00d7308\"},\"language\":\"Solidity\",\"output\":{\"abi\":[{\"inputs\":[],\"name\":\"read_message\",\"outputs\":[{\"internalType\":\"string\",\"name\":\"\",\"type\":\"string\"}],\"stateMutability\":\"view\",\"type\":\"function\"},{\"inputs\":[{\"internalType\":\"string\",\"name\":\"t\",\"type\":\"string\"}],\"name\":\"write_message\",\"outputs\":[],\"stateMutability\":\"nonpayable\",\"type\":\"function\"}],\"devdoc\":{\"kind\":\"dev\",\"methods\":{},\"version\":1},\"userdoc\":{\"kind\":\"user\",\"methods\":{},\"version\":1}},\"settings\":{\"compilationTarget\":{\"helloworld.sol\":\"HelloWorld\"},\"evmVersion\":\"london\",\"libraries\":{},\"metadata\":{\"bytecodeHash\":\"ipfs\"},\"optimizer\":{\"enabled\":false,\"runs\":200},\"remappings\":[]},\"sources\":{\"helloworld.sol\":{\"keccak256\":\"0xdffa2fa001bba6c5236f7031d23f19ade64c6476bf1560ec764f78530bd95344\",\"urls\":[\"bzz-raw://ef9d1bc9ba19dbe374eb59c2c29abadca0deee89a86c7142154279b890abc0b8\",\"dweb:/ipfs/QmboXjmexrbg8t25veNhGHtqWKnNPy2nPAUtRG6xNRg7Qa\"]}},\"version\":1}'}}},\n",
       " 'errors': [{'component': 'general',\n",
       "   'errorCode': '1878',\n",
       "   'formattedMessage': 'Warning: SPDX license identifier not provided in source file. Before publishing, consider adding a comment containing \"SPDX-License-Identifier: <SPDX-License>\" to each source file. Use \"SPDX-License-Identifier: UNLICENSED\" for non-open-source code. Please see https://spdx.org for more information.\\n--> helloworld.sol\\n\\n',\n",
       "   'message': 'SPDX license identifier not provided in source file. Before publishing, consider adding a comment containing \"SPDX-License-Identifier: <SPDX-License>\" to each source file. Use \"SPDX-License-Identifier: UNLICENSED\" for non-open-source code. Please see https://spdx.org for more information.',\n",
       "   'severity': 'warning',\n",
       "   'sourceLocation': {'end': -1, 'file': 'helloworld.sol', 'start': -1},\n",
       "   'type': 'Warning'}],\n",
       " 'sources': {'helloworld.sol': {'id': 0}}}"
      ]
     },
     "execution_count": 6,
     "metadata": {},
     "output_type": "execute_result"
    }
   ],
   "source": [
    "compiled_contract"
   ]
  },
  {
   "cell_type": "markdown",
   "metadata": {},
   "source": [
    "But really important are only two parts: "
   ]
  },
  {
   "cell_type": "code",
   "execution_count": 7,
   "metadata": {},
   "outputs": [],
   "source": [
    "# ABI\n",
    "abi = compiled_contract[\"contracts\"]['helloworld.sol'][\"HelloWorld\"][\"abi\"]\n",
    "# BYTECODE\n",
    "bytecode = compiled_contract[\"contracts\"]['helloworld.sol'][\"HelloWorld\"][\"evm\"][\"bytecode\"][\"object\"]"
   ]
  },
  {
   "cell_type": "markdown",
   "metadata": {},
   "source": [
    "The `ABI` contains all the metadata of that contract and the `bytecode` the actual code in bytecode format:"
   ]
  },
  {
   "cell_type": "code",
   "execution_count": 8,
   "metadata": {},
   "outputs": [
    {
     "data": {
      "text/plain": [
       "[{'inputs': [],\n",
       "  'name': 'read_message',\n",
       "  'outputs': [{'internalType': 'string', 'name': '', 'type': 'string'}],\n",
       "  'stateMutability': 'view',\n",
       "  'type': 'function'},\n",
       " {'inputs': [{'internalType': 'string', 'name': 't', 'type': 'string'}],\n",
       "  'name': 'write_message',\n",
       "  'outputs': [],\n",
       "  'stateMutability': 'nonpayable',\n",
       "  'type': 'function'}]"
      ]
     },
     "execution_count": 8,
     "metadata": {},
     "output_type": "execute_result"
    }
   ],
   "source": [
    "abi"
   ]
  },
  {
   "cell_type": "code",
   "execution_count": 9,
   "metadata": {},
   "outputs": [
    {
     "name": "stdout",
     "output_type": "stream",
     "text": [
      "2694\n"
     ]
    },
    {
     "data": {
      "text/plain": [
       "'60806040526040518060400160405280601981526020017f48656c6c6f20576f726c642066726f6d205368616e67686169000000000000008152506000908051906020019061004f929190610062565b5034801561005c57600080fd5b50610166565b82805461006e90610134565b90600052602060002090601f01602090048101928261009057600085556100d7565b82601f106100a957805160ff19168380011785556100d7565b828001600101855582156100d7579182015b828111156100d65782518255916020019190600101906100bb565b5b5090506100e491906100e8565b5090565b5b80821115610101576000816000905550'"
      ]
     },
     "execution_count": 9,
     "metadata": {},
     "output_type": "execute_result"
    }
   ],
   "source": [
    "print(len(bytecode))\n",
    "bytecode[:500]"
   ]
  },
  {
   "cell_type": "markdown",
   "metadata": {},
   "source": [
    "## 3️⃣. Build Contract 📜"
   ]
  },
  {
   "cell_type": "markdown",
   "metadata": {},
   "source": [
    "The next step is to connect to the `Ethereum` blockchain with the help of the widely used python library `web3.py`:   "
   ]
  },
  {
   "cell_type": "code",
   "execution_count": 10,
   "metadata": {},
   "outputs": [
    {
     "data": {
      "text/plain": [
       "True"
      ]
     },
     "execution_count": 10,
     "metadata": {},
     "output_type": "execute_result"
    }
   ],
   "source": [
    "\n",
    "# to interact with ethereum blockchain we need ...\n",
    "# we provide a few keys in our package for the mainnet and most common testnets. Anyhow, we highly encourage you to go to ... and get your own key.\n",
    "# 🚩 To-Do: explain what Infura is and why and how to get key\n",
    "\n",
    "infura_url_rinkeby = 'https://rinkeby.infura.io/v3/' + os.environ.get(\"INFURA\")  #my Infura project ID/uri for Rinkeby (stored in bl101)\n",
    "\n",
    "w3 = Web3(Web3.HTTPProvider(infura_url_rinkeby))\n",
    "w3.isConnected()"
   ]
  },
  {
   "cell_type": "markdown",
   "metadata": {},
   "source": [
    "👆🏻 For this we also use an API-Servie called `Infura` (*more on this later ...*)"
   ]
  },
  {
   "cell_type": "code",
   "execution_count": 11,
   "metadata": {},
   "outputs": [],
   "source": [
    "# build web3.py contract object\n",
    "helloworld = w3.eth.contract(abi=abi, bytecode=bytecode)"
   ]
  },
  {
   "cell_type": "markdown",
   "metadata": {},
   "source": [
    "## 4️⃣. Deploying 🚀 "
   ]
  },
  {
   "cell_type": "code",
   "execution_count": 12,
   "metadata": {},
   "outputs": [
    {
     "data": {
      "text/plain": [
       "121"
      ]
     },
     "execution_count": 12,
     "metadata": {},
     "output_type": "execute_result"
    }
   ],
   "source": [
    "wallet_address = os.environ.get(\"WALLETADDRESS\") # <-from bl101, my personal Metamask account (? shall we provide one unpackai metamask account for the students?)\n",
    "nonce = w3.eth.get_transaction_count(wallet_address)\n",
    "\n",
    "nonce"
   ]
  },
  {
   "cell_type": "markdown",
   "metadata": {},
   "source": [
    "🚩 ToDo: \n",
    "- explain `nonce`\n",
    "- decide wether to provide `MetaMask` credentials or force students to open own MetaMask account"
   ]
  },
  {
   "cell_type": "code",
   "execution_count": 13,
   "metadata": {},
   "outputs": [],
   "source": [
    "#ropsten_chain = 3\n",
    "rinkeby_chain = 4\n",
    "transaction = helloworld.constructor().buildTransaction(\n",
    "    {\n",
    "        \"chainId\": rinkeby_chain, \n",
    "        \"from\": wallet_address, \n",
    "        \"nonce\": nonce, \n",
    "        \"gasPrice\": w3.eth.gas_price})"
   ]
  },
  {
   "cell_type": "code",
   "execution_count": 14,
   "metadata": {},
   "outputs": [
    {
     "data": {
      "text/plain": [
       "{'value': 0,\n",
       " 'gas': 290512,\n",
       " 'chainId': 4,\n",
       " 'from': '0x7Dda3ae0b40D7d86AC54edc7888c40EF7521c3c0',\n",
       " 'nonce': 121,\n",
       " 'gasPrice': 1000003199,\n",
       " 'data': '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',\n",
       " 'to': b''}"
      ]
     },
     "execution_count": 14,
     "metadata": {},
     "output_type": "execute_result"
    }
   ],
   "source": [
    "transaction"
   ]
  },
  {
   "cell_type": "markdown",
   "metadata": {},
   "source": [
    "Now I need to sign ✍️ this transaction, i.e.: I need to proof that I am the owner of that wallet. I do so with my `private key` from my wallet."
   ]
  },
  {
   "cell_type": "code",
   "execution_count": 15,
   "metadata": {},
   "outputs": [],
   "source": [
    "# !! Metamask Private Key - again: should we open a meta mask account for the course?\n",
    "private_key = \"0x\" + \"YOURMETAMASKPRIVATEKEY\"\n",
    "\n",
    "signed_transaction = w3.eth.account.sign_transaction(transaction, private_key=private_key)"
   ]
  },
  {
   "cell_type": "code",
   "execution_count": 16,
   "metadata": {},
   "outputs": [
    {
     "data": {
      "text/plain": [
       "SignedTransaction(rawTransaction=HexBytes('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'), hash=HexBytes('0xe88a294889bed75fe51bd285178710a6e09c31467d518d6f8fd90f048380d90a'), r=78455749055940448717484212045589173668288511444787015170760408704888532602887, s=42692004577589227997075344316409791324791757129734248201989710289882493189784, v=43)"
      ]
     },
     "execution_count": 16,
     "metadata": {},
     "output_type": "execute_result"
    }
   ],
   "source": [
    "signed_transaction"
   ]
  },
  {
   "cell_type": "code",
   "execution_count": 17,
   "metadata": {},
   "outputs": [],
   "source": [
    "transaction_hash = w3.eth.send_raw_transaction(signed_transaction.rawTransaction)"
   ]
  },
  {
   "cell_type": "code",
   "execution_count": 18,
   "metadata": {},
   "outputs": [
    {
     "data": {
      "text/plain": [
       "HexBytes('0xe88a294889bed75fe51bd285178710a6e09c31467d518d6f8fd90f048380d90a')"
      ]
     },
     "execution_count": 18,
     "metadata": {},
     "output_type": "execute_result"
    }
   ],
   "source": [
    "transaction_hash"
   ]
  },
  {
   "cell_type": "markdown",
   "metadata": {},
   "source": [
    "And this finally sends the transaction to the blockchain:"
   ]
  },
  {
   "cell_type": "code",
   "execution_count": 19,
   "metadata": {},
   "outputs": [],
   "source": [
    "transaction_receipt = w3.eth.wait_for_transaction_receipt(transaction_hash)"
   ]
  },
  {
   "cell_type": "markdown",
   "metadata": {},
   "source": [
    "We have deployed our `helloworld` program. *Our smart contract now lives on the blockchain.* 🥳"
   ]
  },
  {
   "cell_type": "markdown",
   "metadata": {},
   "source": [
    "## 5️⃣. Interacting with our contract on the blockchain 👩‍❤️‍👨  "
   ]
  },
  {
   "cell_type": "code",
   "execution_count": 21,
   "metadata": {},
   "outputs": [],
   "source": [
    "contract_instance = w3.eth.contract(address = transaction_receipt.contractAddress,\n",
    "                                    abi = abi)"
   ]
  },
  {
   "cell_type": "code",
   "execution_count": 22,
   "metadata": {},
   "outputs": [
    {
     "data": {
      "text/plain": [
       "'Hello World from Shanghai'"
      ]
     },
     "execution_count": 22,
     "metadata": {},
     "output_type": "execute_result"
    }
   ],
   "source": [
    "contract_instance.functions.read_message().call()"
   ]
  },
  {
   "cell_type": "markdown",
   "metadata": {},
   "source": [
    "*Cool!* We are able to read our contract.\n",
    "\n",
    "But what if we want to change our *HelloWorld* Text?   \n",
    "Remember, we have that `write_message` function in our contract to change the greeting text. For this we need to change the state of our contract on the blockchain.  \n",
    "So instead of `Hello from Shanghai!`, we want to store `Hello from Hamburg!` in our contract on the blockchain.   \n",
    "\n",
    "To do so, we need to send the new message to our `write_message` function by updating our contract:"
   ]
  },
  {
   "cell_type": "code",
   "execution_count": 23,
   "metadata": {},
   "outputs": [],
   "source": [
    "nonce = w3.eth.get_transaction_count(wallet_address)\n",
    "\n",
    "# change message by calling the write_message() function from our helloworld contract \n",
    "update_helloworld_transaction = contract_instance.functions.write_message(\"Hello from Hamburg!\").buildTransaction(\n",
    "    {\n",
    "        \"gasPrice\": w3.eth.gas_price,\n",
    "        \"chainId\": rinkeby_chain,\n",
    "        \"from\": wallet_address,\n",
    "        \"nonce\": nonce\n",
    "    }\n",
    ")"
   ]
  },
  {
   "cell_type": "code",
   "execution_count": 24,
   "metadata": {},
   "outputs": [
    {
     "data": {
      "text/plain": [
       "{'value': 0,\n",
       " 'gas': 29840,\n",
       " 'gasPrice': 1000003197,\n",
       " 'chainId': 4,\n",
       " 'from': '0x7Dda3ae0b40D7d86AC54edc7888c40EF7521c3c0',\n",
       " 'nonce': 122,\n",
       " 'to': '0x4410b822276E8107D4bE5A2709741767ea43399d',\n",
       " 'data': '0x80b1f30c0000000000000000000000000000000000000000000000000000000000000020000000000000000000000000000000000000000000000000000000000000001348656c6c6f2066726f6d2048616d627572672100000000000000000000000000'}"
      ]
     },
     "execution_count": 24,
     "metadata": {},
     "output_type": "execute_result"
    }
   ],
   "source": [
    "update_helloworld_transaction"
   ]
  },
  {
   "cell_type": "markdown",
   "metadata": {},
   "source": [
    "The next steps are the same as we did when we deployed the contract. Again, we need to:\n",
    "1. sign transaction\n",
    "2. build hash\n",
    "3. get receipt"
   ]
  },
  {
   "cell_type": "code",
   "execution_count": 25,
   "metadata": {},
   "outputs": [
    {
     "name": "stdout",
     "output_type": "stream",
     "text": [
      "Execution time: 12.04s\n"
     ]
    }
   ],
   "source": [
    "# this might take a while (depending on how big the contract is)\n",
    "t0=time.time()\n",
    "\n",
    "# 1.\n",
    "signed_transaction = w3.eth.account.sign_transaction(update_helloworld_transaction,\n",
    "                                                        private_key=private_key)\n",
    "# 2.\n",
    "transaction_hash = w3.eth.send_raw_transaction(signed_transaction.rawTransaction)\n",
    "\n",
    "# 3.\n",
    "transaction_receipt = w3.eth.wait_for_transaction_receipt(transaction_hash)\n",
    "\n",
    "t1=time.time()\n",
    "print(f\"Execution time: {t1-t0:.2f}s\")"
   ]
  },
  {
   "cell_type": "code",
   "execution_count": 26,
   "metadata": {},
   "outputs": [
    {
     "data": {
      "text/plain": [
       "'Hello from Hamburg!'"
      ]
     },
     "execution_count": 26,
     "metadata": {},
     "output_type": "execute_result"
    }
   ],
   "source": [
    "contract_instance.functions.read_message().call()"
   ]
  },
  {
   "cell_type": "markdown",
   "metadata": {},
   "source": [
    "*Voilà!* Our new greeting message! Freshly arrived from `Ethereum` blockchain 🕺💃🥳"
   ]
  },
  {
   "cell_type": "markdown",
   "metadata": {},
   "source": [
    "# Mainnet vs. Testnet"
   ]
  },
  {
   "cell_type": "markdown",
   "metadata": {},
   "source": [
    "### What Is a Testnet?\n",
    "A testnet is a test blockchain network that works to run and test blockchains or blockchain projects before they are ready to be launched. It is a simple way for programmers and developers to create, modify, and test the functionalities of their project, as well as monitor its performance before making it accessible to the public. Here, developers can troubleshoot any issues and fix any bugs.\n",
    "\n",
    "In a testnet environment, multiple tests can be run repeatedly, which allows for a performance comparison and means that consistency can be checked. By running independently to the mainnet, testnets allow for the full testing of a blockchain project without interfering with the transactions on the mainnet. This sandbox model allows developers to take risks, experiment, and thus create the best possible model to launch.\n",
    "\n",
    "As a prototype, a testnet should never be used to transfer anything of value, and thus testnets use fake money, or tokens without value, to run their protocols. Developers will often also use a testnet to build and trial their own blockchain, and once satisfied will then go and launch them on their own. Testnets allow for a faster and safer launching of the mainnet.\n",
    "\n",
    "### What Is a Mainnet?\n",
    "A mainnet is the “main” “net,” or network, that a blockchain or blockchain project is run on. This is the stage that logically comes after the completion of all the necessary trials on the testnet. A mainnet consists of a fully launched net where cryptocurrency transactions can be processed efficiently, verified accurately, and recorded securely. By deploying a mainnet, its developers are stating that they have full trust in their blockchain’s capacity. As a fully functioning blockchain, mainnets can be used to send and receive any transaction, in the form of cryptocurrency or non-fungible tokens (NFTs), among others, or transfer information. Additionally, a mainnet can run a project that requires that specific blockchain’s protocol, for example DApps on the Ethereum mainnet. <a name=\"cite_ref-1\"></a>[<sup>[1]</sup>](#cite_note-1)\n",
    "\n",
    "\n",
    "![](https://github.com/dirkkalmbach/bl101/blob/main/bl101/images/mainnet-and-testnet-differences.jpg?raw=true)\n",
    "<a name=\"cite_ref-2\"></a>[<sup>[2]</sup>](#cite_note-2)"
   ]
  },
  {
   "cell_type": "markdown",
   "metadata": {},
   "source": [
    "## Connect to Ethereum Test Node"
   ]
  },
  {
   "cell_type": "markdown",
   "metadata": {},
   "source": [
    "## Connect to Ethereum with HTTP Provider\n",
    "\n",
    "1. Got to [infura](https://infura.io) and open a free account\n",
    "2. Create a new `Ethereum` project \n",
    "3. Chose `Mainnet` endpoint and copy the endpoint url. You can also copy the url of some testnets, like `Rinkeby` or `Kovan`. \n",
    "\n",
    "![](https://github.com/dirkkalmbach/bl101/blob/main/bl101/images/Infura.png?raw=true)"
   ]
  },
  {
   "cell_type": "code",
   "execution_count": 27,
   "metadata": {},
   "outputs": [
    {
     "data": {
      "text/plain": [
       "True"
      ]
     },
     "execution_count": 27,
     "metadata": {},
     "output_type": "execute_result"
    }
   ],
   "source": [
    "# Should we open an infura account for unpackAI? So for the beginning students can use it right away without registering there own ...\n",
    "# these are my infura accounts apis (for now):\n",
    "\n",
    "\n",
    "infura_url_mainnet = 'https://mainnet.infura.io/v3/' + os.environ.get(\"INFURA\")\n",
    "infura_url_testnet_rinkeby = 'https://rinkeby.infura.io/v3/' + os.environ.get(\"INFURA\")\n",
    "infura_url_testnet_kovan = 'https://kovan.infura.io/v3/' + os.environ.get(\"INFURA\")\n",
    "\n",
    "provider = infura_url_mainnet\n",
    "w3 = Web3(Web3.HTTPProvider(provider))\n",
    "w3.isConnected()"
   ]
  },
  {
   "cell_type": "markdown",
   "metadata": {},
   "source": [
    "We are now connected with the `mainnet` - the *real* ethereum blockchain."
   ]
  },
  {
   "cell_type": "markdown",
   "metadata": {},
   "source": [
    "## How to interact with Ethereum Blockchain from Python?"
   ]
  },
  {
   "cell_type": "markdown",
   "metadata": {},
   "source": [
    "The following code shows us the latest block which was added to the blockchain. It contains all the information we need to understand how blockchain works:  "
   ]
  },
  {
   "cell_type": "code",
   "execution_count": 28,
   "metadata": {},
   "outputs": [
    {
     "data": {
      "text/plain": [
       "AttributeDict({'baseFeePerGas': 88445354286,\n",
       " 'difficulty': 14727707643811661,\n",
       " 'extraData': HexBytes('0x75732d77657374312d32'),\n",
       " 'gasLimit': 30029295,\n",
       " 'gasUsed': 30010459,\n",
       " 'hash': HexBytes('0x6f047101b325d67429298fafdc578979853f3d5db1e343f420db33d2794084d2'),\n",
       " 'logsBloom': HexBytes('0xfab373f36fa2d1f7f8fa3be9febfdbe39dc7ffff9dfc76fd70f92dffdf7f0af3be6dd759d0f9d161755affd75cbbdd673f6baba73f1fbfe71717fedb4fbcfff5be5cc394dddfaf7fddbe7f2f79fdf7e6767f73875373d43fbd73decbfaf8df39dfefb1dd4e6f73b37fe79ef88b356dd3ff8ddff7f83ffff67b1fdd36caf9a97f7da7d5ecfe7c59efdefe20778b8f09775e76decdf7dc8c7d7f26f0db59bb7fffb3cfe8ffbbcf7edb7f93769cf95fbcbe4bf7533f377eb8ba432b438f1a7e6ffd4f5df7e3552c75f32b5ddd9bdbcd3cc474f8fbd6ffff9ed57f95fdd7ee3e296b1ebb7d4fbad5fb5ed3eed7290afc7fe7bfef74fcf7f21d7fbd3dfbfc9b57dbe7'),\n",
       " 'miner': '0xEA674fdDe714fd979de3EdF0F56AA9716B898ec8',\n",
       " 'mixHash': HexBytes('0x52656adf594767df3e28f321d26b1670e1e8ad67348e9bc8b2ae4503a2ea7e27'),\n",
       " 'nonce': HexBytes('0x4170e670f9019cb2'),\n",
       " 'number': 14758416,\n",
       " 'parentHash': HexBytes('0xfec0bf80e923474e5501028f4ded8e28bbc5875c296730bb1053c7be5cc6fb47'),\n",
       " 'receiptsRoot': HexBytes('0xbdd8fe7ae7f73f4e6bdb42de45931a7210552d58d20d33fbfe0c11d161bbd78e'),\n",
       " 'sha3Uncles': HexBytes('0x1dcc4de8dec75d7aab85b567b6ccd41ad312451b948a7413f0a142fd40d49347'),\n",
       " 'size': 153151,\n",
       " 'stateRoot': HexBytes('0xcb5298f8bea99134edd9906a0f432be980e4d5145ef2f8f5517d54b4eec653a0'),\n",
       " 'timestamp': 1652320746,\n",
       " 'totalDifficulty': 48728682843955365020515,\n",
       " 'transactions': [HexBytes('0x4155adf17bcf0660f3c76f1b88dfe103dffe474a78b74d507e655b0e54f110c4'),\n",
       "  HexBytes('0x77c1d380b7b91fb12bbb67568dc443f67a9c7c7a7ca3c2a5aab2e39b40571a12'),\n",
       "  HexBytes('0x33913046056a7b09f68f1b0c193a88bae4dae2eaf4c9325be7d51915a7e0d75b'),\n",
       "  HexBytes('0x96398da4f135a8a956ebab9bf8e12e7cbebc34cd52362f837eeaf7da4904ad51'),\n",
       "  HexBytes('0x1beb597f8be30477a87e0f75c3d616152c13d7494ea4a80c4e6f4facfeb24e6f'),\n",
       "  HexBytes('0xcd8e1c7447c579892ae411fea516540e64d76f8d0ae184c6b330f80f74280f23'),\n",
       "  HexBytes('0x8af07214eeb031e17cb1dab8944e1d98e98ec49825dd054ef5c224cf2cff6bdc'),\n",
       "  HexBytes('0x7b2d4032a40ae80874f02b3c80b8d4672a5331437fc2f79b55cf54b2a641a75d'),\n",
       "  HexBytes('0x70407ea44b282666a6a987d7a72525d5c3cbf6f22ef7411557a08e558d4f7266'),\n",
       "  HexBytes('0xaa1c2a7df408297cc6a827e6a3c4906c58feb965d98ce8e1ac72843ef36a4995'),\n",
       "  HexBytes('0x35c062843265e771504fdb5cc0488f7f582388cb5769027f3b66c0e373afd577'),\n",
       "  HexBytes('0x9288c777859201e3ab49f0b11a55e3ceea3726de2c3fd56d6959a49bcd6d5e36'),\n",
       "  HexBytes('0x8bcf49453ac1265b81286209cdea1252b95a0896742ab019df33cd1f98dfafdd'),\n",
       "  HexBytes('0x18b5c0874c51f8d0734bc390c23ff687f2ffbc268197d0180651ed1da5d6670f'),\n",
       "  HexBytes('0x173f37c71bb4bbd9320e8f0f8a6c433255e011eb23a8048cbfc2d1938dfe407b'),\n",
       "  HexBytes('0x137b3c16617bcce4e397dd61e6864b30bc6dca0519d81fd816b2dcf3cbdb8bf0'),\n",
       "  HexBytes('0x0c1b93974e767946937d2eb6fd3f759ed6831e424f934dfe6d0ab7f1a9371460'),\n",
       "  HexBytes('0x6e0e20a4864eaf044d0d968c9c6ed9c55d3a1f6fec50af8be54434301877f75c'),\n",
       "  HexBytes('0x8ab8664324ccd204e2075f0bd852bc54f48cb380df3aa8330a8c8c60e30907ba'),\n",
       "  HexBytes('0x9b754d5c8b86977c320f170d96b9154570317a0ac95afd58d4cfdba7634c2051'),\n",
       "  HexBytes('0xbd14b9fb93916ab1ce5d65393f91c0010a34606f89069ced6c9921547093ec45'),\n",
       "  HexBytes('0xab59582fee6e58a97d9e0d14fa1075fb682640fc85b4d9fed0418d092b0dab55'),\n",
       "  HexBytes('0x0c020b80c6ad162779cdb29f02583ae5bb3a9f6ea2489069d6faa454c9d39add'),\n",
       "  HexBytes('0xf45bd6302cd627134cd285b0f260a0133a181f43850d48b209786509e50d5210'),\n",
       "  HexBytes('0xb1ae039b65530c0bdf02f1bf70a8fd329edd90ff404c74cfc4850ae71ded0bb8'),\n",
       "  HexBytes('0x846b880b0d8363a7b6c75f9bbcb84186fb44d3a9d4d6a034a162c8c254181572'),\n",
       "  HexBytes('0xf51b6fef9e21580ff4c4be96a87358b4c868522c715145129b0496bde2e3cb48'),\n",
       "  HexBytes('0xd797c9437a0277b54722272b7f7f8a41e116146cf17e2d0cac7ea1e528fa33fc'),\n",
       "  HexBytes('0x21eddf45b774d60ec6212a86a893e681d6261c8a27a95a77a03b3f2cc944dc95'),\n",
       "  HexBytes('0x72bf229cddfe9be11b74642894ceafc4db43802ad2559709596921143d4f9671'),\n",
       "  HexBytes('0x4a1e867dda1d109e4a6be1990fd27b7fadc89b351e3030111f66cc393f12a3cf'),\n",
       "  HexBytes('0xf5adff29ded010da0da8ae4f77328d1b8f205b83f1d972a5e08a1cdd5f034a90'),\n",
       "  HexBytes('0x39350af4c6abf74ea46afcb211784505aa9c2824cee802db39f5a2f3120ba38c'),\n",
       "  HexBytes('0x2103931f4cfcf19efcb57ddcecf0edbe028427f39503007eeb434f4372bf1a20'),\n",
       "  HexBytes('0x9c225090b02fef7aa2f03ab41f77335ef617a9947c48209ad244b744c42ae3e8'),\n",
       "  HexBytes('0xab1d5de2cd22580d1f98c81348d06fc62bf3a24ab5c54d2c784ca5cc9b22254e'),\n",
       "  HexBytes('0x05d4b321772ca56d31af564d77b553c84f62ea1416483b4d769eebcf46b3ed6f'),\n",
       "  HexBytes('0x6dc0641aee0941ead55b6412a90ce682a71dc479827c4fc6bf7d2ad46211f129'),\n",
       "  HexBytes('0x02c3818b21f0bfb0afb60d9451b9fe16aceb010f8d9589356a6740129b1050c4'),\n",
       "  HexBytes('0x468886faea0f3d27bf5373d8a4e6d71a8145584b2981db0ce1a26443f0200eaa'),\n",
       "  HexBytes('0xc322639ab3b9141d2c9b9392726f184b79e724b3db67bbde543bc1ed343a709d'),\n",
       "  HexBytes('0xffc1dfedb414ec6945b2be99d256d236dee71a11db50e2441d9203ed34dbd77c'),\n",
       "  HexBytes('0xe93232523cae8fa3ea480d94276775dda03123f4e64d3fa1d0b1865c53b28c35'),\n",
       "  HexBytes('0x7b7aea828a743f1772e28e94cc9aaa9ae7482015cf847c7151c37e0b57a51010'),\n",
       "  HexBytes('0x7baf4722a6b0ff18c3c8fc3a6c9bc33f91123fd0d2f11d67a04ad617adecca2a'),\n",
       "  HexBytes('0xe5a3f735db327501cb58d1fdc457fea241121ca487fec0f5e352e312e353a949'),\n",
       "  HexBytes('0x79ecee7bd83d754af06c76e85a0d405b03a6956353217115fd527820c71a82bb'),\n",
       "  HexBytes('0x360770d073e6605a1339186fda04e17f91587657091325e6f6d05c88042edd19'),\n",
       "  HexBytes('0xaf60e9cb59c7df786622803004c8a47aa8c48471de264f4d8d307a037c82f143'),\n",
       "  HexBytes('0x455221b909b1250f98c5fdf28af4f469c51e5d7c44b6ceb629593087f6d9237e'),\n",
       "  HexBytes('0x27bb12579e5a74c0e098ca4fdfb2bc5d1fab6fc8e0d16f7ce0f3461bb8c1b927'),\n",
       "  HexBytes('0xc5a1f8f9aa4e00610c84e5bdaad051f78a87b9160fa75b56fb39061b92f2d011'),\n",
       "  HexBytes('0x2a1bca40123840f44494e0b4672a5974ecad8a212a90c21da2d1d79bf72cd556'),\n",
       "  HexBytes('0x68ae8b2569dae01332a38085fe51de07828a40593309ab88e08425de9fd6ef17'),\n",
       "  HexBytes('0xc50149e3dbc3732d33e237ec21af51e9b4510ea8501befcb66f3dbe07da4d7eb'),\n",
       "  HexBytes('0xd66b04311f0b5c9870ea8f4cb4436fee2e535849c57f818b7b711c98098b0bc6'),\n",
       "  HexBytes('0xbb98e8f8dae22105b9cedb8ad1630eb659bc11e41a7c67a3e5fc1ad20cd35f97'),\n",
       "  HexBytes('0x680e88376c2119c826defb7a005817d8e60e0d2e9f5a99367fa51c0c810d3a9b'),\n",
       "  HexBytes('0x1be47c5c16ae261f0c2236f7dbce7d2263d8e9a7ee0b1a713c7dca4171616e40'),\n",
       "  HexBytes('0x571f6abf9a6ebe1e921945ba7ec6521b5bee86ce9a89c13319354283f8a0a1ff'),\n",
       "  HexBytes('0x576364d959ff30815b10f0a9a975d231ec49beda24c5563d9f9d2423fc6a4fdc'),\n",
       "  HexBytes('0x05f0abe4e76184fe9cc3599ad96d461cfa8b928e2443fb776d34d03cf36f2f04'),\n",
       "  HexBytes('0x5b2cda3ac16aa4c3984b23f8ed763865c58c5e8b5cd20f2734f1ffaea9bf9d14'),\n",
       "  HexBytes('0x86b256edec6993066beaedd5a84ad6528f699f0c47cf28950247c800f87bb665'),\n",
       "  HexBytes('0xb848af48d454a3bc427ef36192154b590dffa045120245e29cffcc5194ec4f18'),\n",
       "  HexBytes('0x4983faa29276273bfab4b689aabe5ec7366fa2c9ec18834cbf6bdb5f0609ee0b'),\n",
       "  HexBytes('0xbb7af21b52a9b479c54eae7f1d66521e8bdeb4a84c8f63f0693ccd01cc2d7b41'),\n",
       "  HexBytes('0x387cddc8d558ba2283903630b15e5e13ffb252fe3396abde410ea2eb56264996'),\n",
       "  HexBytes('0xdd0cd4612c84c58a5a8315a40661de5016056f7543779e4ba81f5a4320f87b18'),\n",
       "  HexBytes('0x8d7503282904030fdf2ab404c7a9299c235464cb36d9dcd219bca8b198403338'),\n",
       "  HexBytes('0xe18b0f6e0b46a7b0e9fdca73e817894199592983359b2c48757c7eb56eb21eba'),\n",
       "  HexBytes('0xce30ee19f2a3d89309534357bf09579d9b2497997d966c5b0924ad82a0230a2e'),\n",
       "  HexBytes('0x82269359033fac06da3ea2060fdcbe071835015072ffe227e3227b829bf71cf5'),\n",
       "  HexBytes('0x1480b2ab10e9eb277e945816c087b31b90e92f8e308f07e90226982459ae4c7f'),\n",
       "  HexBytes('0x6bc690b9742218f7dacad54c1c3bb0acfe8075a0bf06a03ef267efc7cd058a63'),\n",
       "  HexBytes('0xda4ae4ad1b1c46bcbd35720d9e456dc78fa6034d1c2eb6c5b94777cd31aeade1'),\n",
       "  HexBytes('0x8c9801cc08c0aad4e11ec013c809355d71e771e844e6a3b0fa14a9cf6ae62b83'),\n",
       "  HexBytes('0x09baf385c4bfe3f942a260c78461c07ae144252534cd140370d3fa7cc7d30330'),\n",
       "  HexBytes('0xf58e3c6aff18819e345193b283afcec0d4706fdbd971624601af555e8faf2d05'),\n",
       "  HexBytes('0x9f5126ce7477c805d12fbed4fe977cef5ad74f919b2c842aae2c33c78d6b471f'),\n",
       "  HexBytes('0x582cbab3b48be8a346ef80b8b439647475d578d707208627984c144fa7795de8'),\n",
       "  HexBytes('0xa0a0a68338f86dadeea4ecc7c8ba6ec123ed2312f6650e55c1681083b3645530'),\n",
       "  HexBytes('0x0347ab14371a6664f43eb0e064b938abc61bba93cc63a237fa4061b157e233fb'),\n",
       "  HexBytes('0xe5101db60c5765cd645eec5b1272d406431c099bc71e1237562c716b5b4ac341'),\n",
       "  HexBytes('0x1031c23bc7e2e67f1b3c94db33768076f9847160fbdc117e6fa80130d3c634bf'),\n",
       "  HexBytes('0x0b08dc4b0ccf5b23ab87de9968eff128beacba99a759cf89605ee0944a3f6c34'),\n",
       "  HexBytes('0x78ca41d9d64e6e4282e4bbfb369f079e36a3494e44088943b1b39d2810d453f9'),\n",
       "  HexBytes('0x2465d7ebfbafd9520a3e9e8ea17ba5e567cf7b77d40fccd0849cb10c62d079a6'),\n",
       "  HexBytes('0xdc6c4a4bcf5fd59c03d2980d4863c07a8720ff6d1214d062e9afa80546473521'),\n",
       "  HexBytes('0x22ba6336e9371d80125714f4db103436dfe36948a3f7f3f21c7ecdd3d5703741'),\n",
       "  HexBytes('0x7a8f699719a6d12a9426d2cbdaa4338a990326efb0f8a42e2b948dcf6b1d65cf'),\n",
       "  HexBytes('0xb4f4317bc17fd77e74e71fd93221bf67a17e89519845c2ead8ba17f21250686f'),\n",
       "  HexBytes('0x4d11dc2d8bf2922bf63d7b2a99a72bbe3ed1d1043843a9b6c52d9f5194691e91'),\n",
       "  HexBytes('0xb63269a912ee74e2095a04ff96d72af6d786c7b9732ee1c2865a68c8b74e698f'),\n",
       "  HexBytes('0xa16f4928097d29dd2a452e75ab33352154f3989baa599726316ec2f76270da42'),\n",
       "  HexBytes('0x3d693114b4c6d0a90201431a09a83bffd2c9b3269770a72d1f795c910536643e'),\n",
       "  HexBytes('0x2fb27eb76014d7675261fc074121d6e4cdbcad35aa677104b93ede1c32b9a7fd'),\n",
       "  HexBytes('0xf472477c397740b032b95ba90d56c3517b37acb8c7b04c95e71f3a25d22e3278'),\n",
       "  HexBytes('0x25ef21862494299f90838e46daece3e05f939700ebd3d8ea1dd79dfd1b451496'),\n",
       "  HexBytes('0x415878c068d5e649f13b976c315eb1a2d711e727331406611f539322933ede5a'),\n",
       "  HexBytes('0xa7c70e01844e87b767e4abf0abfcd015e548c2b62329bbc1d8f0b1147acf6039'),\n",
       "  HexBytes('0xef7c82b0b23bc8697c49c164276262939ae267afe5d17432f655c789b0afc8c9'),\n",
       "  HexBytes('0xe886bb1e15ead858c19b8bf810c6a6edb1b42c063dc4a0ebe8b937c60903461f'),\n",
       "  HexBytes('0x1be445cebd0d10bfde7a2e303e2274877cedea2336fa46e92218d1ecee4d1443'),\n",
       "  HexBytes('0x8268349b15fe89745e7aa35d718de43bf6938da8c2276f378bfd3562499904a5'),\n",
       "  HexBytes('0xf32ef53b47e74de281624b3d9f2c54ac855b00f558ab8f74153ead0a10490e46'),\n",
       "  HexBytes('0x36d420f1474c7d990a1ad824ec1b80985f650cd5134cf1382dc4c227e522cf56'),\n",
       "  HexBytes('0xf3cc5367e60ab6718803acc33bd3a423ca6e16f06f35f7c3a0b1f374ce9860d6'),\n",
       "  HexBytes('0x30ea5fb49680529a8db603c9970ad269c114f8513de82b47bbcdf0306963e37f'),\n",
       "  HexBytes('0xbd30fcae4918232baf82f2b88f0903e171b46a15a29503e1ff193a4c55b6226a'),\n",
       "  HexBytes('0xf949b22229959b13fbe0140bc0340dbdcc3720eb2922ccd9621506bf0043c1a7'),\n",
       "  HexBytes('0x7f14aabbbe28881f4699cf33979f8d2d54f2545788a51efa244055cc08340b04'),\n",
       "  HexBytes('0x3c88d6670bafe41fe02aef651c10c2bf0b08a7cacfb4a3dfda09a0b15f569039'),\n",
       "  HexBytes('0xcdee184690eb3d47da449b09e7e9399c3cc5aa7379607b5b5207344ae34c0054'),\n",
       "  HexBytes('0x3929221cf7e530efadd27e9b58301319d2d5408a0bd3021839005b7cb2c41d32'),\n",
       "  HexBytes('0xf7d329046154c807492419a934b2713d12fa04d2d86c445221e3104921edac8d'),\n",
       "  HexBytes('0x9a711149b7a38aa55dd483503c250a5303580a8cf6a1f737841066d52a3dbf8b'),\n",
       "  HexBytes('0xea76b635be5ab492a64a3b886734b65b3a63879f76d8998bbbf9da4e11c8ad78'),\n",
       "  HexBytes('0x0701208c489200f80dce1a8489d7c6bae35f98b0d92f3483a31dd046f498dfb9'),\n",
       "  HexBytes('0xb8440fe2bbf05faa945cf9cc5df833c013c7a94769d0e95f628bc3784336ddf8'),\n",
       "  HexBytes('0x29755245f7730abf19c96250e28389b854282e4971b91e22b15d69e03d25246e'),\n",
       "  HexBytes('0x60067c9813329604499246b4ccf44747581c9d76d8bc08eb1773fcbb969e9c2b'),\n",
       "  HexBytes('0x7e0fd80b6f2cc92eb2f4a17e169c66af221b7714d216ec4294f74e3ef11b2a2f'),\n",
       "  HexBytes('0x4ed7368dafd273bf779bde9779ae6c1740abbf0e3530219029631848498e0756'),\n",
       "  HexBytes('0xf86a975e76a329678bd77bdb6bcc59a150ad3124835417fc43d41835d64e130f'),\n",
       "  HexBytes('0x2c4682870a7d94dc830cdbcb2267b654481b398b8915010c7e49f61190500d30'),\n",
       "  HexBytes('0x25df3b76841985659c8a67083d3fada3a06e01a5b4a0e8ea7a3f5728ccf9fcc1'),\n",
       "  HexBytes('0x14bc363b44cc9aeac4cfb9eb71080bbfe7cbd33163f5e917b298c0b6f9aafb1a'),\n",
       "  HexBytes('0xc45bcbd268de83ea952106d8bf240871858c321f1a2e2606015f358b42b6e000'),\n",
       "  HexBytes('0x24d39eb1f0aee9221b5029f5e7da80b683e95581badb203d7672a184d4ba03e2'),\n",
       "  HexBytes('0x1aa5567c8394eefc2407b43b2cb2be59d4ce3e5fc2f96b7910d1a865ec7b3dd0'),\n",
       "  HexBytes('0x7500ab5d2d59522d61e3ee50b3669e4676f33a8872ce434f6ed6b16fd6dc0c08'),\n",
       "  HexBytes('0x64b85812ec3f74ea1ad94ac074dccfa9ca5e3783f5f141460c5ef5aecfa36a11'),\n",
       "  HexBytes('0x75ecb338750813c61cad829036d8c729cb9a3d9a36df1bf7205d28dc290db9d8'),\n",
       "  HexBytes('0xaf48942eabb27ef942d74f3b9a3cdbda40e5f66e4c9b68cd16a8267695c17daf'),\n",
       "  HexBytes('0x57aa605e39ec8f41b1e1b0e2ec26c742d3616e0befa9134feaf35cee7eb43d7c'),\n",
       "  HexBytes('0x5ce9d162fbeb779e7b84a605884674b115226f5d2d00d4b4b27f3f47a5fc5a2a'),\n",
       "  HexBytes('0x668182737589bd52c1e50baa5d3ed98c8cc2e39241490ff171c3af3ed3d31b03'),\n",
       "  HexBytes('0xbca66d464cb671edb941c80f2dd43d21090b7f25fb227d22bf72778a2f4588ea'),\n",
       "  HexBytes('0xf9df6904dad990676948009e301727a3cf59fb7d5ce8f4cfe624bb75f1937401'),\n",
       "  HexBytes('0x62c5410c968c5a0896527235b3b5e90e91d9d0c89b97a5acc314453f48540294'),\n",
       "  HexBytes('0xe516d0218856a84863f73e557aaf30a09ce4ee0192392a1727f380fdece7b8a7'),\n",
       "  HexBytes('0x0f3ac890411a0bddc467fed671764dccaa13ab5bff98af44b9570fb79600d484'),\n",
       "  HexBytes('0x784b0da74b42a1a3d6b9cea9dcc75d1281eaafc9ca06ca0ce5902df79214f8bf'),\n",
       "  HexBytes('0x147694e22db99c2b631ad0876422f27154cded2cb47941f619409be029073627'),\n",
       "  HexBytes('0xc1fea9512f243123290de7c393b232d1910f7d6fbcf2a500c5b858bdb563f05e'),\n",
       "  HexBytes('0xccd740ba6dacf95c432a4c46ab251bb1d128506f414b6635a2a1700a5c44466d'),\n",
       "  HexBytes('0x0b1acaf419cfe8b2d62a83c04898c48e791a4aaab0ba1b9a98185108eeb9d0c4'),\n",
       "  HexBytes('0x9e1aba3faf3fcef883dc0d0defe341b86559028c699fe1a50ca31c53e1debcda'),\n",
       "  HexBytes('0xd6d9e32007f7ffd4a0b6bcf27adba3fabe8f4e50039366b68724e534d34c7670'),\n",
       "  HexBytes('0x8e856bb2a2bd1f83660e2ace831107aa3f3d32c33172c6ac6f3120a917829951'),\n",
       "  HexBytes('0x7beb2d40c0c7a0bc8ff34ed8904b25db4dd1d38b1680020a9c1b2086098532d9'),\n",
       "  HexBytes('0x9c53a24e6684648c7c1113fe6972bd502b3bec767b0a18c5d0d6d34dc185a66b'),\n",
       "  HexBytes('0x464d82e7f966bbfb0e0bb5ebd0c56ede44125639eee01c38bba5900bb55bcce5'),\n",
       "  HexBytes('0xed9b58606202334ccb4ac1161a18a45dc11e6fe362b8f245cb7d445dbf894de8'),\n",
       "  HexBytes('0x0c93c0bcd9e0c3d0bff4624b8795300acad63826fecd0ed2775370673f416379'),\n",
       "  HexBytes('0x6493e66e378e2101af3fe4256f30b4afacbf0aa3a10ec7208d8ef81cc7a4186b'),\n",
       "  HexBytes('0xab5965b369188a8afd5084fcc014058913cbc2dc60febedea8c9ef8749056723'),\n",
       "  HexBytes('0xdfc1be49847cf8d40262da5926b2c4aff263c8b14218e270ac1434a2fa3f8fae'),\n",
       "  HexBytes('0xd39f1700718b0bdb7ab6914d2bd96a88f13d87463297c27f550620e91cf04b16'),\n",
       "  HexBytes('0x4265c4bfc0f5b38736d4fef91605c13a65841aa44a86ab7237cd80b615003cc5'),\n",
       "  HexBytes('0x6be28ddb0286ef5a8dd7d80f419b9633a368e34f6afefb68dd1fc04f5e73da88'),\n",
       "  HexBytes('0xcab2b5a93b5683e5b35449dc460585c5895cfbdad197177d86fc771733d82c84'),\n",
       "  HexBytes('0x5b161af4888e28d9f7014e7f00750e62c5e0e3971e35193408aa7a9a0d271c36'),\n",
       "  HexBytes('0xd818c74a5c3abcb4547674ecabc447323c665717edee9dc8a5e018b4c76e7b6e'),\n",
       "  HexBytes('0xee7cecca22c936e497a15c1c66a533ba1da269dbe4a1960d02db3c01ce8dd503'),\n",
       "  HexBytes('0xea19dd31e3def5fe9354e47e5443ef0b335669171179a020dacfdd2c17fdd885'),\n",
       "  HexBytes('0x6d54691e5d09a9a6bb384c0a7f97de6cd585ca6dbd10874b45b3235a018da8b5'),\n",
       "  HexBytes('0x678555c75870233fb07e45a00a09dfa18d8259590c20a93069949d7a8362d183'),\n",
       "  HexBytes('0x85e8eb6a1789d0cedc7abfb786eecc261faa758e50eb3ea7c606e70fbc9f817f'),\n",
       "  HexBytes('0x340be35e0da47ce7abb67e98558efa8d2e7ce6dbd56aa1e1ab8c96ad0a34f690'),\n",
       "  HexBytes('0xb60165a5c4db30082eb10702b1f20f3529625855c7a453fa686ba88081136744'),\n",
       "  HexBytes('0x944bea4c72d11f41b9f5c134449675eaf9e97a27c6157bc630d4bcc712fe01c9'),\n",
       "  HexBytes('0x06e7d62d7022bf7b0a964689f74b953b9f22a75bc50caf715aca4bb03d940c13'),\n",
       "  HexBytes('0x87363bdde0ada344e0aef8e32c2129d13b4853f1634a00ad3b1f99f520701b8e'),\n",
       "  HexBytes('0x013f1572b665af04dbbc10136c3eb140a6965bdef62e471ab2567b02973cc802'),\n",
       "  HexBytes('0x64c0ae6b1d262fb89c8ff8eef623b6356508a169abca1b7b0cbf1d4015837202'),\n",
       "  HexBytes('0x20fe987c243a3cccc5e933a11cbfd4e28b5cbad027ca9ec27cc7102c25d32dae'),\n",
       "  HexBytes('0x77b6d93214bfdbc0a38c2571b61e0875d3aef147878dd325b60b734851a7b4c6'),\n",
       "  HexBytes('0x218e5eccc7b322ba86fc4e319dfd87ac002dede53bdf59547e4fcd661901a2d1'),\n",
       "  HexBytes('0xbe53a6a76bfdd1b91862fbf7e9fc2c6ed7a2ec82450ac041ef15d138a9986af0'),\n",
       "  HexBytes('0xf118e6310914874a71f908897df073ba29ef65dcef57ba15eee003333fd028fe'),\n",
       "  HexBytes('0xa11b08c0f5d918e27332c039681408db9987ac4b4fabd5fe16a25d3c64190a0d'),\n",
       "  HexBytes('0x1c4d2e1582272dcfd3d8b4aa30a97da989e251c39699499070cf55d652c00663'),\n",
       "  HexBytes('0x2d3dd0e1a983afd9e4fc8b26f5a22cfbd3b72f03a904e86562c77c78312a75b5'),\n",
       "  HexBytes('0xfd07f84c0ff17665049d67a7df863b68a75ccbddc0e9c091daa1b99c08909a1c'),\n",
       "  HexBytes('0x42993d22f8648f79ff8d6517ab7a0f62d31e61f3b9b99af28a2eca8611ec44d4'),\n",
       "  HexBytes('0xeb6198ebd63c3068e683327429f71803ea4fbc88b092f654398d4ed38443392a'),\n",
       "  HexBytes('0xdf392d379d2b319b23c15a4f5506f531757f7887c1c69ac7b5dd5e470370005d'),\n",
       "  HexBytes('0x8af858b782f544342153594c766e7aaba1df1bcd59c46e6776254327cae2a17e'),\n",
       "  HexBytes('0x84303e3093d4f92551dc41dee6dc4fde4b78b1bebd710fdecc3ffb452ce90734'),\n",
       "  HexBytes('0x81da21055d064f120c5196a6d150360f40e824c64d06df070ef40ac692f9b9df'),\n",
       "  HexBytes('0xc31db26afba83ccb5893d8bf2dbaf05a87a9bc4f807d42a7c99a15d937193f80'),\n",
       "  HexBytes('0x15662835512befc8495c0faf435ecfee86c2987c15fd28a7d8d114bc03457393'),\n",
       "  HexBytes('0xce62ac34a33d1db18f2537ba294264b7aef2b8627cc6ca4b7c320de463b50450'),\n",
       "  HexBytes('0xc31ebe22a556d1312b0559bfd1624590e0520100d2283b584a143f406656a204'),\n",
       "  HexBytes('0xdbc61454de5120fec09294752e4d157d4db176a65ed3fcf0fe835d012db4b111'),\n",
       "  HexBytes('0x557f75f4c912217412e655f443dd6bff99f79fd2069ccf1a8f814e5eecb997c1'),\n",
       "  HexBytes('0x5466c1c173dfb318352037e297342f9a3e4842dfc73b27eb968339b5f9b201bf'),\n",
       "  HexBytes('0x8b96e38dce777d10a03c2e90b2c7b489533e44d8103ba6b0d88c7b421906d0b9'),\n",
       "  HexBytes('0x8a28376b3799ea2fd36940e20e8b5c3efb4fcf00eb5c27eda0656ce81dc2c604'),\n",
       "  HexBytes('0x7a336e5cceef2693f4466256b14b3ac2b97d595232218c0c450e779d9bd9c7c6'),\n",
       "  HexBytes('0xff37f908f19e9d57f792dcd39a2d8d28e6997abbdfa5f15409ab3af24c04ae4f'),\n",
       "  HexBytes('0xd4b5bf60c66657dfcc2f56cd8ccf7461fb0438051fa05f45e3c52e00318dfc97'),\n",
       "  HexBytes('0x97fc69d9731d63b103bf7a7c2b42a72f8b08b21d4c2f775c03748b22ca9467c1'),\n",
       "  HexBytes('0xc51c5cb81ec1b731c0b8900f256f5417722faed78db881861863cf311b26a09f'),\n",
       "  HexBytes('0xb8674d15596a0b58ede3d6400cf3f79d9a74df20937fc0eaa82efed2454c163d'),\n",
       "  HexBytes('0xb051314c4327cfe94b20ab01203d2e656438e540eff8d56a3729802bcd400893'),\n",
       "  HexBytes('0x832c17eabee0590847948ab35cc80d70bbd332b07bad698ddbb2bea50ba5f793'),\n",
       "  HexBytes('0x9a183c2b34b92ea5f0e2f19c75e224cc1a3bbf5bb2482511291cc82d889f43cb'),\n",
       "  HexBytes('0xf1966717ecab03066d790429e03b8c988dafd686ca15ef0deec998b8ebc75374'),\n",
       "  HexBytes('0x0d27d73141e0f0f809d008b5acf7981c0c230845bc78973dfaef3421dafd5ea0'),\n",
       "  HexBytes('0x7ce8727b02b543896b13214f3aad27b10b9eb1c1d0577e5f8621de28db13fd26'),\n",
       "  HexBytes('0x104a9e3f86b8cf2354d42ecf6b2c7599f5912ca6f38ab2e63bfea9cc64dbbddc'),\n",
       "  HexBytes('0x34deae084ed2993c11f9ed266a396adec7b9d9311e559f0f352d6636880b1c4e'),\n",
       "  HexBytes('0x91d2f439f26c6e855cfab3ba1d69aa504fe78d05555ad7cc5a180aa11c516dc4'),\n",
       "  HexBytes('0x8ecbb4f7b1ab61ad2af0681bf49a5bff700b9e4a5c39ae300e3ef1d5c615c659'),\n",
       "  HexBytes('0x4c6fabcd1dfe342388b524f0b20b3fa677e75eb33ac134d4a93627fbab966f91'),\n",
       "  HexBytes('0xe85530765c0391f54fb6118fd7b85e7320c3a75e713b0b437b88f57720a850ae'),\n",
       "  HexBytes('0xc0341900d79d707c14094548ef11589a476e125543925842fe645cd37fae8887'),\n",
       "  HexBytes('0x9313f487a2a6a49ed8196e52f63dd0a076416b587ce139fe190a40acceda232e'),\n",
       "  HexBytes('0xd53f0b39dd8d32e3ca53d486cc82562630350f66c733b7e94acf9e0fe20a4182'),\n",
       "  HexBytes('0x934538c546e484c1dafd33258b2d3058bec741f971ed7bbe22a7e1fc968bff58'),\n",
       "  HexBytes('0xd803bf26cd7bfe0d12f1e899fe09fab1ade01f508dca782f265e225a2281d439'),\n",
       "  HexBytes('0xb5019369c21671e673782018b6ad8d223a5fa7d986766c7d4bb69687149f9ccc'),\n",
       "  HexBytes('0x7a259c2e34db414a8d6519e505fecdb68bcff2948486e3710e7a8c59111da202'),\n",
       "  HexBytes('0x8de79451956ae35ba012fe0eb35fe86a11889420fb78c8ccd34791d567f910f9'),\n",
       "  HexBytes('0x790f74994fe023e0fbe3aa70bf50d201184800278fc257a2e62b6f41ebc96720'),\n",
       "  HexBytes('0xeab2c932a1e8594dc643bf3b59994885cc14d7b0f77ac9b5a34266dd55ea2021'),\n",
       "  HexBytes('0xc50aba4ce1d0123f158b6c07f375eb7f64652f5fc04ab55f3efe8ca15d70899f'),\n",
       "  HexBytes('0x897919d1ba6f5a83e0440985fbb315674458664befd7e9e73090385886109c91'),\n",
       "  HexBytes('0x108209ac3aa149681638b88cec6c2207363a5f4ca0d31ec81fe3f77c43820617'),\n",
       "  HexBytes('0x8267e540ae0ab011ae8860d61aa83ffe2e410473f8007fa5c780c88b775825e8'),\n",
       "  HexBytes('0x0be4817c216a34b906c92858875ce8a5dcbe8ec5db2b27d2d5872ddc005d489b'),\n",
       "  HexBytes('0x2bf235b370970a70a478fbcae4d179cc3c8f7983204ca25ae3a29e58e9dc454e'),\n",
       "  HexBytes('0xb3b8d140455ac83b6cc05c40bae71d3ec89478a020a4b84764b7edf1bb666708'),\n",
       "  HexBytes('0x8d2e1a12c488a87f2939dff39b168f4cbd030e42a359fc554bc4b768cac14b91'),\n",
       "  HexBytes('0xb12ed8bf30d1ddf59fdcae4ed66d5f1ac66a2111bee6140ab6449fc9ab2f7b4e'),\n",
       "  HexBytes('0x0556787263c72135bcf4df8f6064526e66e68148d48e365a5501db6bf4d9f1c7'),\n",
       "  HexBytes('0xe0db23e83c32de2b4668ed5350de51e7a916d5faf249a66a597ef6039f5ea351'),\n",
       "  HexBytes('0x1cd18ddcc21a3b4a83e598a5a322ac68fcc20ed41be94c211533e82d452bffdc'),\n",
       "  HexBytes('0xf8946caed916925eb26e3854ba2b3fb85555c15a54bfb1a52c2094c18f9760da'),\n",
       "  HexBytes('0xcac814bc66746f4147a256d90c1f90282af5cbd8abf802f3eee4fb54b8879c55'),\n",
       "  HexBytes('0xb91440a7b9ab728422eb613029171257c5db6584da3df83e65a1750df2d23c94'),\n",
       "  HexBytes('0x43f790dc0c9e4a72dd7d87e261e53b27d53e8a5b1b58d4e14607c1153f812b84'),\n",
       "  HexBytes('0x35b027b6b8a782a06935a3898c8e741b9e8d56376eac3ac10e3a998178e13e09'),\n",
       "  HexBytes('0xb5a60c7fdb1c6c0ba8f18cb2970bb1bc15c7fd7fcbc42dd16bda58c70c39ed1b'),\n",
       "  HexBytes('0x85e88f06b63da851872a8d9c6cf390664e5c357a12af666c948398b4d8f5ad05'),\n",
       "  HexBytes('0x6cae41428e5b7bd7521c295c8c48a669156341f957a43b895b5d7daeb2bb4999'),\n",
       "  HexBytes('0xef193efeed80faa9640cd545822227d2f4ca835c8952aa62394469cac1f321d2'),\n",
       "  HexBytes('0x47d8ef565e816d79324b0ac4d6f8de96985f3116448f95eca9bd45c015b9191c'),\n",
       "  HexBytes('0x428a4bfb19e0c46e86b65be26206bece1c9c3da332506cbd4d934436d5f7659d'),\n",
       "  HexBytes('0x3f86a054b8da6a49388d91415dc1dc4e02f09480fdd01ea5ba852a45bdcebce5'),\n",
       "  HexBytes('0xf368096cbdc7a088be0bc9596fe3e3884d0d71a5a405f200984487708c253ff7'),\n",
       "  HexBytes('0xf4a587ba006444c243bd38a8fb3f12cb05786c68dfc6d2d04618b50fb1f5ae59'),\n",
       "  HexBytes('0x28f9daa4995b7d9fdd660d6b9e7272404e47e443bdc04c4fb6e0ba6174e0d3b4'),\n",
       "  HexBytes('0xa7cd0fe49ffa877c7d9c83127becc2b3d9c3d5ed22df52120372209f0b1a8acc'),\n",
       "  HexBytes('0x923a419f11aba38b356f47d0d136c3980e2b935ab0de8b5e3615cb48ef264139'),\n",
       "  HexBytes('0x53a1031e76f8729a5a32f650993c86f1faec0503e0cfeb3a1bfd8b8c58f00089'),\n",
       "  HexBytes('0xf2aeeeab59cd5637f17cfe795c07e55df4b240fff017c2cf8ac43bb494f3cd74'),\n",
       "  HexBytes('0x137365b409b9fb644d4f84fe564548e40bd026f9f2260d03df7793fd62eb22b0'),\n",
       "  HexBytes('0x8c89b6a07b7ed6bbfc7796f3a1fbee70452e008da2cfc1d61ec7cd9bccec442f'),\n",
       "  HexBytes('0x8ba58893be65d080b7d245a1289cbc5198ecb60326b9a7a53c9f6d40427851ca'),\n",
       "  HexBytes('0x6fdf5dce2844f9eb8598fbc098e517e712b45db6aa7b38682a291c42a4852c4e'),\n",
       "  HexBytes('0xd461e264c433c00a72fb4069846d1825fdfa6918f7d68034e4bb0018b48aba09'),\n",
       "  HexBytes('0xbcc30f6b03a133adb6523fead7c4f611f91c1f39f104b544f6fa02ef55d85afb'),\n",
       "  HexBytes('0xea5e1523760921543ff4e81d893fa1ae96eec870b34f95895532715e799436bf'),\n",
       "  HexBytes('0xdfdd8351cab7f7a5976e1195bda28f23a9e2e06d09855d6c8fd9701a98d4f460'),\n",
       "  HexBytes('0x7b7df70c94eee7ea8ce141c72f65d1c06a5254fd467524c91ed7f77e47729e52'),\n",
       "  HexBytes('0xe13b240b771479c760ca4aaf3501abc2e81bdf063822a27745ee1389cd363237'),\n",
       "  HexBytes('0x0dea348cea537b9a4386a010cf36a4c79db91149986836859dd55e59bcb5cdc3'),\n",
       "  HexBytes('0x0ee9460367e0101a37eeb2cd796f12e14b07bd838c8efbace5179c9bab161404'),\n",
       "  HexBytes('0x7406786b57d3e19209c9e72a15f9def4b4bd115e704776043f8d09a701c13ac9'),\n",
       "  HexBytes('0x9031c0a9401a8984a1f0ff3fa3c98b512a7a9ed67974c2aab6f75aaf534751b1'),\n",
       "  HexBytes('0xab5795ba5aaa5d136902b172f4ee34666360655bc809a11db3073b64402ad612'),\n",
       "  HexBytes('0xd58ba93beee867871d9e56a6030ab31d3bf5cc3758d8f4c76eae88ef9a592da5'),\n",
       "  HexBytes('0xf06c9b1917a5d33c334afd90b4a155329033e12d6657528f5ab006940a6b682f'),\n",
       "  HexBytes('0x0848b30f050d5d4df8332611338ee1a4da958e40fc42b4b6e805f4e883f83732'),\n",
       "  HexBytes('0x2121b9b0e3d5dc82dadaddc377c87b96472a13c8013ca195f595734e5d3da9ec'),\n",
       "  HexBytes('0xc272f83f3bcd0894d9b1b024f2335900906579a7ca77eacfa955e8986a9d02f6'),\n",
       "  HexBytes('0xdd7a571ce5b6a6d83f04cb0b3928008cb8c00b76a2a67671df489678be7c2861'),\n",
       "  HexBytes('0x4a3346a8e78d2fb64c1a837e719ce7c784832cfd4f7550efefb67939475a3ba2'),\n",
       "  HexBytes('0xe8934b79a7f29e517240e9b2b6c1fd4cf56e498c7d21acc79a798e31174f7a99'),\n",
       "  HexBytes('0x82c55502fe658b3d65ef10db3e4da13d31fd56f7fa956e9820b7109d3f26a4cb'),\n",
       "  HexBytes('0x661a8967c241c6cb6b2ea5d1b4d78759bbc78226f047a0a9138c5d519bc0e60b'),\n",
       "  HexBytes('0xcb32f096e74d72917064729cf9e6309577714f1518830f388bd0db731de29559'),\n",
       "  HexBytes('0x5be2d339425da0b4468f07c5f91c0d9d7e42abe563c45d218d8add7ef9146cf4'),\n",
       "  HexBytes('0x716b1c7a0410f23320cc536f2cd08a3a66d6132ee097fbe582271a6c561021af'),\n",
       "  HexBytes('0x6de4a6f0030a51a98ddf1d65f947d51b0abcf8c0004041b9f85c6d0678048ae7'),\n",
       "  HexBytes('0x15c6a8fd1c976a0801c8ab99f7add6ac225cdcb5e01d02f3ba1be40d6bdd9b59'),\n",
       "  HexBytes('0x91d2dd931d2288a49da660a23b9dddd1f89da05d8e05c952dc4cdf37e924f458'),\n",
       "  HexBytes('0xc060ff3b9de50c67b565c7f67b06d576ea2680900f614dbc5a7e3b91e675da82'),\n",
       "  HexBytes('0x9a84a2d73ab72c748a05cc11e34d80904fe303da8a513bf0de3e8ae56c220eb7'),\n",
       "  HexBytes('0x25837ea57315cc47f49d2e64e3e9e1bd04f0f4fed4c2ccffe6734ec2f95b34b5'),\n",
       "  HexBytes('0xb958fe87003c2c57b019698b9a851a5cfb36a369572d1d7c093cf10c3f3b3fe4'),\n",
       "  HexBytes('0xf416b29098d50bcc6a192ef9a5e7ecf756978a59d9b33099b92039ea54031a5e'),\n",
       "  HexBytes('0x3dea5b93551cfdf1ca64f962432a3afe020ffc370c91d36fef4f4a9f6896f23d'),\n",
       "  HexBytes('0xfe46d158dca9d4981a537ef2f9db3d895cdc2c5a4bad90cf91f804b874a20b95'),\n",
       "  HexBytes('0x1224a93f4b973195d3feb9941e33bfa437c59858ae2f4f304b201b24d27b50c3'),\n",
       "  HexBytes('0x55fee9b1b65fb3274a7ceaebacdb5bbdc56cb0a0e95d4de1b2b3920a663dc9c1'),\n",
       "  HexBytes('0xbc6752ff9eb8b7c0dfa78bcf720c560fbeb07b7a4dc7a05e718efc78a32dff1b'),\n",
       "  HexBytes('0x10f93b71d45d642c7096aa1b733b2ae4cfcdcb2eebc62f182cb0979de7eab013'),\n",
       "  HexBytes('0xbff793429733bc0ec64bb71af12713480ce1118eee421b3cca32a67085b39464'),\n",
       "  HexBytes('0x931f6d19f5beb7e2291dd7d47180f0d0444ed58b0f63059277d3410207084f23'),\n",
       "  HexBytes('0x8185ed6d2ee5d0bae35545aca7523e2fc71517dc612807d4ffbc82cda9f035f2'),\n",
       "  HexBytes('0x5b3cc494b29c4a01e10c59ca43cdf948e3e1bc7ecb33a117c3cbb5554b2e21ec'),\n",
       "  HexBytes('0xe017fe3708de59fc72fee69bbf4bc2d7ff95b470c5974f45c7e5f5223a9819a9'),\n",
       "  HexBytes('0x846c80f5a0d68bc685da74c0a86b07d6b1fe60f8558daef2db0d6cd87b103b68'),\n",
       "  HexBytes('0x26f4e63383c9a82d989a243908626136869835b9e501609c65488c7b539ac5c7'),\n",
       "  HexBytes('0x20861fe942f2dc8d5d52f7c7aa6aef0644d33a4c1a516ca1d0065f41dabb52f5'),\n",
       "  HexBytes('0x1893e209dd0fbfd2387e65878a5016351d9b4a95a6a26b904a34d5fab51ba878'),\n",
       "  HexBytes('0xe6d8e8e6cb1942f552f6cf44aff2ca59191d058f8d6db25dd72ab1fa0e5ec06f'),\n",
       "  HexBytes('0x4b71d4c4dd1008cda157b040100a14d174d5454cf4b8e3194fe80e5021a01c35'),\n",
       "  HexBytes('0x99b6b439e5be2fd1e4fb7b6e213b4b486a54e5498373ca0db47e09bb9b964b0d'),\n",
       "  HexBytes('0x8e2f4c24de534616e6cbe9c528e95e3e98bbb75e6cb36ee80173a65877f60fad'),\n",
       "  HexBytes('0xdf7e26a05f69e62c9bef775d2af364f2c6cdaa5a991c3bdd5688e3e733c7e1b0'),\n",
       "  HexBytes('0x625b87389ee82882aaff14bc8a1501558b45c6b57cbba93f8a78d3f73136940a'),\n",
       "  HexBytes('0x61e481921edde883851e7b536ff8e3ad3c0bbeb05dc0acbe3960a458471176bc'),\n",
       "  HexBytes('0x32e9a0e96a35ae0ee55842b39046cafd09500a9df1ff660ea55154612168ba78'),\n",
       "  HexBytes('0x4fd382466270ee360d31e477d19b980d9c3c01dc6e0f564bb216b219785a6bb7'),\n",
       "  HexBytes('0x5bf1bfd22e039c08a75578249ad77672055eab3bae45196a824abe538c57be8b'),\n",
       "  HexBytes('0x5a3a96c4edf46684009fb87d4f5de78a9d2e8f8d1ac845eede14ea4041b162b1'),\n",
       "  HexBytes('0xefb9f0641636ce7d419fbf2ed1662b5da23043da6a966797f62a76b5adcd63fa'),\n",
       "  HexBytes('0x6004a24b63180bca5b9f492d080937bd69a666edc9d8da6d1acee9529e88e404'),\n",
       "  HexBytes('0x00c0dd7c83acf55a0b0fd39b4c10f8fbf86fc517b386230ccd758ba815771570'),\n",
       "  HexBytes('0x8335941a332ec6659d237ff46422eacfff4056954f0c9907ca3f54035b9388a4'),\n",
       "  HexBytes('0x444cceaffb27e958ce2fa0b4fb268a7464e49b213bdba418ffdc9ea9034437ac'),\n",
       "  HexBytes('0xac9b6b14c5b54290bf5ac58058af64abbed9fa66dc3af9139ac206d2d82e3c14'),\n",
       "  HexBytes('0xa59c32014e837b77a73c993b0788618f8b2085af845889555aa7e84f3a465c19'),\n",
       "  HexBytes('0xcbda7048a5f8a5e6a397d06cf487619a2cd5175f87e058fa6eb68737279bbafc'),\n",
       "  HexBytes('0x3a85a5fea9365f6f914e7153c31bc2fcd2088ae9c32fb3f4c0e7d81245866e3d'),\n",
       "  HexBytes('0xbd26e1a02dbf0ce29c3653543cf2774af2bd67629a9a1e01bc2420fded48bd26'),\n",
       "  HexBytes('0x2a9efff8e458e0a5764b23497536fc82780cc046951cc33a3ebc6aa25e92a90f'),\n",
       "  HexBytes('0x1009226e795e46b2543ad9d97ec862b8dc50c8611de3c56fb8b7a5ff94ce994f'),\n",
       "  HexBytes('0xae20b50188a075522beb95b04e2a86f44fa40709a15ea7dc497c93d04019b170'),\n",
       "  HexBytes('0x56a2826fd534993d692e7c4bc2448f94985e847808e84aebcd6a60fbec7a8d8e'),\n",
       "  HexBytes('0x3164fb678bb4a9ccce9dc1db376cf7a75f4ea8eaed8d07bb67951ad347a24df7'),\n",
       "  HexBytes('0xac431cad7e207952c799175faeabeff6c6c5e2ff1111fcb59c68a834f744f36c'),\n",
       "  HexBytes('0x1f43c0bca2d690055638203e2f3c6d54703d6fc5ea4fc5ef009bcaf6a749b086'),\n",
       "  HexBytes('0x226d5101122e589465c899694ae7d7a37a04c7ed32674ddf765fc1258c47e388'),\n",
       "  HexBytes('0xb2eaa396d1a17b6220080d823f59f1f844a2204a9ee3c40d92eac845c3b821ae'),\n",
       "  HexBytes('0xcffc6a56e3168f1cbda97556f6ad8818d34c15190132ca98edfcb5a159ca46c1'),\n",
       "  HexBytes('0xc90ed8ae222bee1590b0c49f9194a994cbfddb60ec720d9491234290eefdfbbe'),\n",
       "  HexBytes('0xbe72fec0b4df2d639a0ce3e061129a14f85a6b9d10a6722beb9eb42815261c1a'),\n",
       "  HexBytes('0x59438e6ba509fa5cc09eec274f2ba399b871c57da46681caa3f761a22b97a22e'),\n",
       "  HexBytes('0xd01a7651c828261fbf4131c14192362d5b41e6a4814ece58c8356cf3e94b1501'),\n",
       "  HexBytes('0xa808652ea9bc705f0480b033afdfc8b4af7c0383022ac64c1f5992c9076736c7'),\n",
       "  HexBytes('0xd27d42acdc5c896037a7055ecc177184e59c4406cc34a0a58759035a2280d145'),\n",
       "  HexBytes('0x9d1c40c55f53e4a0c3bad0263573b74823b4fc81fde17345e9fba8b73df732a9'),\n",
       "  HexBytes('0x8d4fa19748c28f9dcc251203f29653d201e7dfce5a83805bc41cce0a93ed01b5'),\n",
       "  HexBytes('0x103b7d16e08f9d718d4bd24d89ef1790f28c169e587ea399fb14575509aa4d57'),\n",
       "  HexBytes('0x8c9a3e9da4ab332d217724066046cc94457cc7a1f8f519d94c8b5f3b7db64421'),\n",
       "  HexBytes('0xe54c48842883aaabaf91b864fca5d4d4d4dbb8c74d98456448ab909b5f06cf53'),\n",
       "  HexBytes('0x23214b27fa49323017b9bfaec8e175b0f546b009756296d7ac03b949ef80e4f5'),\n",
       "  HexBytes('0x03f8af95493cf56503d0d871e1b77f9ed9fd1104f1e0c3aae1e2d6a70e065659'),\n",
       "  HexBytes('0x1dfadb165690f17bc9fb4ff038fa963890d4ca9a3df7daa3d4e2fb3e69e93d86'),\n",
       "  HexBytes('0x2381452dca36d10591d5425db5e46daccf55a8baca0058e46256bb2f1cdc05bc'),\n",
       "  HexBytes('0x3f37791a3be17bd4771e00b215dfec6c73d2584aee1c9ec20a465521aedafae3'),\n",
       "  HexBytes('0xd6490f8e2ee22e2f306315642839650231dd3afd9af675fdf65e31d5266be56b'),\n",
       "  HexBytes('0xec89c02ff5affbd7b9b6b3584df69740e6b9f88f1c00f3383acff4aa52348dd9'),\n",
       "  HexBytes('0x4e7ef500ae17263b84c29b6700ad1c7b59ea895b96453f3b237d94c339665616'),\n",
       "  HexBytes('0x2890d4580363ab8291ba48462e31ddf2f4382235d1cf5766f0ec3e4f802581a2'),\n",
       "  HexBytes('0x2e282844597a93313cf11400d87e2a06dea3f41edc4be442d99c2b2019ba79e7'),\n",
       "  HexBytes('0xa88cd5d8e645ab56c27154f5c957b94a72e952c0e8180ecea91e446aa1f7b4a7'),\n",
       "  HexBytes('0xbc801a2c4b22350ad7fe56fd6711f6603f48ff2596ede180bee2a54943a6ee33'),\n",
       "  HexBytes('0x75128f2c327924456766b884e6122ac75ba254ca1d1d0a4a11d8316819ab0989'),\n",
       "  HexBytes('0x353adc7ad9b85a776e0fc1d82dabe1a0537f6b3d800bad47bbcc934d2a90f8cd'),\n",
       "  HexBytes('0x1d3e0b78dca1aea9903de2591e51d0350e7f6ffeb6dd266e7d68e34c88f2bbe6'),\n",
       "  HexBytes('0x56c2d77a93294a99793ebc19094a52f2400beeab9320695b9093ea78d294069e'),\n",
       "  HexBytes('0xf32cb7eafd234a73f896346f80d7e4df3d73f7b6f737a9e4c5f4b220dc98725a'),\n",
       "  HexBytes('0xfa3323e34633b307882c567ac27950430e08fd0f8acdfbbcd2bebcb2186928f5'),\n",
       "  HexBytes('0xb0607788f872fb3f9fb6b7a3fed24e2b834f1c562d4e7a555dfbe4f5a794d674'),\n",
       "  HexBytes('0x44cd6974d415d7ca9e694c99364e16b9dec23568aebc6d5cb95a97ed7134e410'),\n",
       "  HexBytes('0xae92a3e874e3f0df569b8e02609efdcc535d1725c51691d103f612c8cefc22e7'),\n",
       "  HexBytes('0xf4dc65070481d487a113c7585cca7df3c6fe3d2378a7fed656a605d4442f9c86'),\n",
       "  HexBytes('0x86ec31f8b7237f7019a5cff24f2ee4ff8f1b6a0704b7a03fe510d06d66d41fe2'),\n",
       "  HexBytes('0x1c47048de9d6b0862dbc18c09bc50f3355298ed775d9dca6887732010d6c3719'),\n",
       "  HexBytes('0x0e038e650fb8ad394b0fbe61a72dba01f84ee8767590c534b61c0b0ca021ffbe'),\n",
       "  HexBytes('0x5a446ee2b9072d163a4dbf36765844b6bf6d1bbf226d8abc36596ef46e7f3d3c'),\n",
       "  HexBytes('0x0f55d50a1d55f3f26c917ff10f391082a21fea569e373743848d6a2f9ae26d9d'),\n",
       "  HexBytes('0xf79d7dabf5c4e4f4a4e3fc75cc4ea53f2d81e2887156cc1109e083aeb2e8d60e'),\n",
       "  HexBytes('0xca88931f724284d8c985c1669158faa44751b4c26b29adf18214521e9f5b9d3c'),\n",
       "  HexBytes('0x97c22d00e15b46c5d8b2562d698ab79908b37b8086eaece16d688d86b0c857ed'),\n",
       "  HexBytes('0x19c230bd2515b8dacdec5997762bfb9ab5d122b91ccd94dc2b0e422063f173d5'),\n",
       "  HexBytes('0x176e45f840c835144253bb9dba77e7a25b6e2a1a42aa1106c9f64273e2559fc4'),\n",
       "  HexBytes('0x90c1673e9af2491d0c66d6e3e20590d1cf222e4e1efb4bda8c1750730a3b2f12'),\n",
       "  HexBytes('0x2f92d85fbc0a1ce12442b2b12450bde1f0d652ce12daa78711c0012b37a1458a'),\n",
       "  HexBytes('0xcead17a0bdf27699fda94688f24a2d3d5399c7a78c9d68ec6b549862d8593a51'),\n",
       "  HexBytes('0x0d69b9b515982d9d202758f86a0769083544d755a85c124d75fd294cb728d186'),\n",
       "  HexBytes('0x0582a1640869e093036e772a4622f45f35537826a2ba16244ecd02f4f5bf5a08'),\n",
       "  HexBytes('0xd19d2c3b0056a797242fb9752f86ce61d2bbdc815103a39a4f395ce288f2b61e'),\n",
       "  HexBytes('0x9293496b512ca0500c1bcee672892c74265587150d11c136146d4e97e6e58ffb'),\n",
       "  HexBytes('0xe7f4b5583a7c22898ca29174f4493ad71ac16f79348a78dbb97c7e396587ce67'),\n",
       "  HexBytes('0x256a59231c75ff94eb5604712c64c6004016f144fa7381ea31254424fb56d2be'),\n",
       "  HexBytes('0x9a68643171e1f82c74068997b66be3a8281fe7c2076a6b4b84a6dda8eda28496'),\n",
       "  HexBytes('0x0fbc1baa4610d2e9d35c421812a166a249798f8dcfb81db0ff90c30e717918c6'),\n",
       "  HexBytes('0xc1e81ebc48d8c9ea0c8d5e44fd052f1bde304d01339b9b1ce59118cee9198609'),\n",
       "  HexBytes('0xfc2ae4fa7c7937512bb670257b3bbd5349a542c60d9397937789f11aac6db339'),\n",
       "  HexBytes('0xcdff5d534690ad6d8e2d91f2c3f61b01ff82b38bb1c21350cfeb44d1ff454109'),\n",
       "  HexBytes('0xfd550e463b57ff3b9afb27bc7a60dec4a9eaed0a0e956e3cce401fbbe19d2e1f'),\n",
       "  HexBytes('0x27ee5abbefa65486843c63f946d14ede9a3d88c47969b49ffe0d5a6b8e3716f1'),\n",
       "  HexBytes('0x05bbc2c0c342c9a0f8ff21900bfd57f649b0b9d5c10ba311fba540afcdc4ede9'),\n",
       "  HexBytes('0x4563ebd0c3c000ecd3f1d8d1cb9ac24f1be2c51621b65924b9f690401f17b463'),\n",
       "  HexBytes('0x6cb2b879d26d87593efe28762f3318b7fc06b7b4c1e0f5f974a34feb4c39ae1e'),\n",
       "  HexBytes('0x0dc68d63d41fe6b08643d2235a256d293c7106140d28f11fc24737edb4b90c64'),\n",
       "  HexBytes('0x76ddfc9d692f0dbcfccaeb214139f11ed0afe4ce3e06c5d32dd0b2841544e9c6'),\n",
       "  HexBytes('0xa0e581d829021ce295ad7832a218c8cb254a9b7865b8645408c99e901e1f5d1b'),\n",
       "  HexBytes('0xc849c915386a5313f57d0e8c9779df07d2577288364982f456b5f4f3d4cf6ae6'),\n",
       "  HexBytes('0x2d984cb9262734225c02fec59d023c72eb07c30c837a7e6f6bab3dd2f53edd53'),\n",
       "  HexBytes('0x9ff552b90936aa9b686fe913adaeff225e0dc86134c568954cc7921853d5c27f'),\n",
       "  HexBytes('0x70a821307d4be428a88de0c236f7b369cba8f35a251412aaa0df733b441273e9'),\n",
       "  HexBytes('0xcce3c2991cbab2899c4882e64edd0322f314018f0e87d4438217db1b9f787d29'),\n",
       "  HexBytes('0x504aad5aeb82cc03d61fa850563782de808870aa920638bd297137f018ba0dfb'),\n",
       "  HexBytes('0x5c0125fd333a4befb76c3f0764e87a3833988556928b36a8b07c9b951fb1d25c'),\n",
       "  HexBytes('0x422250b62c185b1e317a26d92c2da822b742403b21670f870f4fdc863df99320'),\n",
       "  HexBytes('0x122575cee0c46a4d74af4cec99cf190c979824e930501546a6b46c66c73d305a'),\n",
       "  HexBytes('0x955ce3297cc839a9ad6cb6cd63c9920539dcb49dd6aa5449c3d2e021b321893f'),\n",
       "  HexBytes('0x618a67ca899e77523c8d27b8eeaece4296230c87b3d661cad789d44932aed13f'),\n",
       "  HexBytes('0x8c2b17055f4358f685b908d9f3b4345874edb321f39eef3d7912cdca6ace8e22'),\n",
       "  HexBytes('0x6ed18be213fce7532705b152773f28b3929a0494bbb64b3118a7d3def110b210'),\n",
       "  HexBytes('0x3f1731c9bf50d84232ad1b05083d51a2389aa086dc732b90ee4ad730621adceb'),\n",
       "  HexBytes('0x452b3e3d8b1115a3136d9dd311348659f37286d1829ac47059caec5f9d5fc58f'),\n",
       "  HexBytes('0xbf1d20bd1c49421e9aad93af4035dba781dc6324b1b473e23502dc04b7e07b24'),\n",
       "  HexBytes('0x5c4ebcf1ba3e6c132de89d7d2141ef6a94ed2f19fd20dc44044e0eb273931896'),\n",
       "  HexBytes('0x9064574e08734e87c25b66cf90ea81cced0551dc01ab9d094339df5223940212'),\n",
       "  HexBytes('0x7c928d819f964b63e65c9b5bf6b098cc8162cc94d2a29121f80ee7a8c77aa945'),\n",
       "  HexBytes('0xbc222e44e90e5d63c70b0cd8807ba7f64b01179cc8ab812b805897847b835800'),\n",
       "  HexBytes('0x1cd589fa2dab64aee699186b9cb4c6eb29c2e83cbf2984e9071441d9379c3f7e'),\n",
       "  HexBytes('0x5421f0b818488c5d84937f42768617a3c8bf785cc32b130c17d2f499b6764a5c'),\n",
       "  HexBytes('0xad4bdfbce038ce2dfe76cb75c1a294fc08a0a4ce25ecbf42bd7d6a26de0a5d41'),\n",
       "  HexBytes('0xee682529303b411bb1b18e3a8003e9556f2cd70e9185eb19bab0ba795c1c200d'),\n",
       "  HexBytes('0x5b8071c60c8023dcc0f36f08adf5feb0f10d05ddba375cb8169e1c3a1f9346e6'),\n",
       "  HexBytes('0x9e3a1163fa576931bf4e548f8531017256f35383462bd2a327ba3fa12898975a'),\n",
       "  HexBytes('0x2c1096c763f3191b03e687ed1a0a0b4fdb2dd5743bb58627cc2b2f7e171b2c6d'),\n",
       "  HexBytes('0x944c785461427407a5aa4044881a695131419fc11d5f0c759b66c36adb4fc911'),\n",
       "  HexBytes('0x44225408f92954b7748c9ad76fa29ec569f51b820c523f0ef3ef46c1507a7a66'),\n",
       "  HexBytes('0x20b69d265ba3622bf626493719e060b08de25f85107dc827688a86ff7da04a4b'),\n",
       "  HexBytes('0x31af461af030f7a7828e6d07c97d05aa61fcb7cc6b63f5c98582d7e1ec7c7d6e')],\n",
       " 'transactionsRoot': HexBytes('0x9130734f319e61d6b28a7703ac72e542c9b2befb5cf024f5a5cee6110c94e7fd'),\n",
       " 'uncles': []})"
      ]
     },
     "execution_count": 28,
     "metadata": {},
     "output_type": "execute_result"
    }
   ],
   "source": [
    "latest_block = w3.eth.get_block('latest')\n",
    "latest_block"
   ]
  },
  {
   "cell_type": "markdown",
   "metadata": {},
   "source": [
    "👆🏻 the output contains a lot of useful information which are essential to understand the blockchain ecosystem:\n",
    "\n",
    "|Attribute|Description|\n",
    "|---|---|\n",
    "|`gas_limit`||\n",
    "|`gasUsed`|the *price* to execute this transaction, e.g. how many wei the sender had to pay |\n",
    "|`hash`|transaction address|\n",
    "|`miner`|the address of the miner who *solved* the hashing algorithm|\n",
    "|`difficulty`| ? |\n",
    "|`logsBloo`| a list of all ... ???|\n",
    "|...|...|"
   ]
  },
  {
   "cell_type": "markdown",
   "metadata": {},
   "source": [
    "#### Check if an address is a valid ethereum address"
   ]
  },
  {
   "cell_type": "markdown",
   "metadata": {},
   "source": [
    "One interesting information from `latest_block` is the address of the miner who finally succeeded in solving the hashing problem and earned the *gas* for this:"
   ]
  },
  {
   "cell_type": "code",
   "execution_count": 29,
   "metadata": {},
   "outputs": [
    {
     "data": {
      "text/plain": [
       "'0xEA674fdDe714fd979de3EdF0F56AA9716B898ec8'"
      ]
     },
     "execution_count": 29,
     "metadata": {},
     "output_type": "execute_result"
    }
   ],
   "source": [
    "miner_addr = latest_block.miner\n",
    "miner_addr"
   ]
  },
  {
   "cell_type": "markdown",
   "metadata": {},
   "source": [
    "We can always check if an address is a valid ethereum address by using w3's `isAddress()` function: "
   ]
  },
  {
   "cell_type": "code",
   "execution_count": 30,
   "metadata": {},
   "outputs": [
    {
     "data": {
      "text/plain": [
       "True"
      ]
     },
     "execution_count": 30,
     "metadata": {},
     "output_type": "execute_result"
    }
   ],
   "source": [
    "w3.isAddress(miner_addr) # <- the value from miner ⬆️"
   ]
  },
  {
   "cell_type": "markdown",
   "metadata": {},
   "source": [
    "#### Hashing Algorithm"
   ]
  },
  {
   "cell_type": "markdown",
   "metadata": {},
   "source": [
    "So, why do these addresses have this strange (cryptic 😉) format? Why not instead *Miner-Joes-Eth-Account* for example? Well, actually it is possible to chose a name.You can register a meaningful name for your ethereum account - pretty much like websites have ip addresses (e.g. `23.202.231.167`) and corresponding domain names (e.g. [unpack.ai](www.unpack.ai)). *But we will come to this later ...*  \n",
    "\n",
    "Blockchain addresses are also called *hashes*, i.e. because they are the result of a so-called hashing-function. Hashing functions convert an input value (text/numbers) into an output value with a predefined format in a way that the same input value will always produce the same output, but it's impossible to find the input value by only knowing the output value. A common usecase is password hashing. The following code shows a widely used hashing function which is often used for password encryption:"
   ]
  },
  {
   "cell_type": "code",
   "execution_count": 31,
   "metadata": {},
   "outputs": [
    {
     "data": {
      "text/plain": [
       "'202de8fca7e26837495f39d3b2ade505d71f17c34f5f66b58fb7595d6e1648d8'"
      ]
     },
     "execution_count": 31,
     "metadata": {},
     "output_type": "execute_result"
    }
   ],
   "source": [
    "password = b\"I-love-unpackai\"\n",
    "hashlib.sha256(password).hexdigest()"
   ]
  },
  {
   "cell_type": "markdown",
   "metadata": {},
   "source": [
    "👆🏻 you can run the cell again, and it will produce always the same hash. But it's not possible (or very hard) extract the password by only knowing the hash. \n",
    "\n",
    "Passwords are usually stored as such a hashes so that nobody beside the user knows the actual password. Whenever the user logsin the system builds the hash like above and compares it with the stored hash value in the database. If both values are right, the system grants access.\n",
    "\n",
    "The hashing algorithm in the ethereum blockchain is `Keccak-256`. \"Keccak is nice that it has arbitrary inputs and an infinite input space. This enables one to 'make a hash' of a super large file where each input causes the internal state to scramble up some more. The hash should entirely change if a single bit of data in the source is different. (...)  It means your password could be a million chars long maybe. It's stored on disk as a hash, much smaller in size.\"<a name=\"cite_ref-3\"></a>[<sup>[3]</sup>](#cite_note-3)"
   ]
  },
  {
   "cell_type": "code",
   "execution_count": 32,
   "metadata": {},
   "outputs": [
    {
     "name": "stdout",
     "output_type": "stream",
     "text": [
      "36383cc9cfbf1dc87c78c2529ae2fcd4e3fc4e575e154b357ae3a8b2739113cf\n"
     ]
    }
   ],
   "source": [
    "k = keccak.new(digest_bits=256)\n",
    "k.update(b'age') # python3: input must be in bytes\n",
    "print(k.hexdigest())"
   ]
  },
  {
   "cell_type": "markdown",
   "metadata": {},
   "source": [
    "*.... but let's go back to our Miner:*  \n",
    "\n",
    "We can even see how much **Ether** this miner has on his/her account:"
   ]
  },
  {
   "cell_type": "code",
   "execution_count": 33,
   "metadata": {},
   "outputs": [
    {
     "name": "stdout",
     "output_type": "stream",
     "text": [
      "Wei:  2960875983239354219295\n"
     ]
    }
   ],
   "source": [
    "balance = w3.eth.get_balance(miner_addr)\n",
    "print(\"Wei: \", balance)"
   ]
  },
  {
   "cell_type": "markdown",
   "metadata": {},
   "source": [
    "The output is in `Wei`. Wei is the subunit of the `Ether` currency - like *cent* to *dollar* or *euro*. So we often want to convert Wei to Ether:"
   ]
  },
  {
   "cell_type": "code",
   "execution_count": 34,
   "metadata": {},
   "outputs": [
    {
     "name": "stdout",
     "output_type": "stream",
     "text": [
      "Ether:  2960.875983239354219295\n"
     ]
    }
   ],
   "source": [
    "balance_eth =  w3.fromWei(balance, 'ether')\n",
    "print(\"Ether: \", balance_eth)"
   ]
  },
  {
   "cell_type": "markdown",
   "metadata": {},
   "source": [
    "... or in $ or €:"
   ]
  },
  {
   "cell_type": "code",
   "execution_count": null,
   "metadata": {},
   "outputs": [],
   "source": [
    "# I put the get_crpyto_data() function out of bl101 for now as it took too long to install (probably because of plotly 🧐 -> need to refactor it!)\n",
    "\n",
    "#data_eth = get_crypto_data(tickers='ETH-USD')\n",
    "#print(\"US-$: \", round(float(data_eth.tail(1)[\"Close\"]) * float(balance_eth) , 2))"
   ]
  },
  {
   "cell_type": "code",
   "execution_count": 35,
   "metadata": {},
   "outputs": [
    {
     "name": "stdout",
     "output_type": "stream",
     "text": [
      "US-$:  5921751.97\n"
     ]
    }
   ],
   "source": [
    "print(\"US-$: \", round(2000 * float(balance_eth) , 2)) # with an estimated 1:2000 exchange rate"
   ]
  },
  {
   "cell_type": "markdown",
   "metadata": {},
   "source": [
    "> 😲 Wow! Thats quite a lot of money! Mining must be a very profitable business."
   ]
  },
  {
   "cell_type": "markdown",
   "metadata": {},
   "source": []
  },
  {
   "cell_type": "markdown",
   "metadata": {},
   "source": [
    "### Ehterium Name Service\n",
    "We mentioned that *Ethereum addresses* can have names. The Service behind it is called `Ethereum Names Service` (ENS). Every ethereum name ends with **.eth** and like web domains you are registering for a specific time period. ENS provides custom names for ethereum addresses like domain names for websites. You can purchase an ENS [here](https://manager.ens.domains). The current price (as of May 2022) for register an Ethereum address is 0.002 ETH (registration fee) + gas. The estimated gas depends on the name. E.g. for registering **unpackai.eth** the costs would be about US$23 for one year: \n",
    "\n",
    "<img src='https://github.com/dirkkalmbach/bl101/blob/main/bl101/images/ENS_for_unpackai.png?raw=true' width=500px>"
   ]
  },
  {
   "cell_type": "markdown",
   "metadata": {},
   "source": [
    "Let's see if our miner has an **Ethereum Name**:"
   ]
  },
  {
   "cell_type": "code",
   "execution_count": 36,
   "metadata": {},
   "outputs": [
    {
     "name": "stdout",
     "output_type": "stream",
     "text": [
      "None\n"
     ]
    }
   ],
   "source": [
    "print(w3.ens.name(miner_addr))"
   ]
  },
  {
   "cell_type": "markdown",
   "metadata": {},
   "source": [
    "Hmm, 🤔. Apparently, not. \n",
    "\n",
    "*But lets check another address ...*"
   ]
  },
  {
   "cell_type": "code",
   "execution_count": 37,
   "metadata": {},
   "outputs": [
    {
     "name": "stdout",
     "output_type": "stream",
     "text": [
      "vitalik.eth\n",
      "0xd8dA6BF26964aF9D7eEd9e03E53415D37aA96045\n"
     ]
    }
   ],
   "source": [
    "# get name of ethernet account\n",
    "print(w3.ens.name(\"0xd8dA6BF26964aF9D7eEd9e03E53415D37aA96045\"))\n",
    "\n",
    "#get address of account holder\n",
    "print(w3.ens.address('vitalik.eth'))"
   ]
  },
  {
   "cell_type": "markdown",
   "metadata": {},
   "source": [
    "# How much crypto in my wallet? (connect to `Metamask`)"
   ]
  },
  {
   "cell_type": "markdown",
   "metadata": {},
   "source": [
    "To know how much Ether is in your wallet is of course important. Unfortuntely, we cannot use the `get_balance` function to access our test account wallets from **Metamask**:"
   ]
  },
  {
   "cell_type": "code",
   "execution_count": 46,
   "metadata": {},
   "outputs": [
    {
     "name": "stdout",
     "output_type": "stream",
     "text": [
      "3.28 Ether in wallet 0x7Dda3ae0b40D7d86AC54edc7888c40EF7521c3c0\n"
     ]
    }
   ],
   "source": [
    "# How much balance in my Metamask wallet on Rinkeby Testnet?\n",
    "# 1. Connect to Testnet\n",
    "provider = infura_url_testnet_rinkeby\n",
    "w3 = Web3(Web3.HTTPProvider(provider))\n",
    "\n",
    "wallet_address = os.environ.get(\"WALLETADDRESS\") # <- Metamask account\n",
    "wei = w3.eth.get_balance(wallet_address)\n",
    "eth =  w3.fromWei(int(wei), 'ether')\n",
    "print(f\"{round(eth,2)} Ether in wallet {wallet_address}\")"
   ]
  },
  {
   "cell_type": "markdown",
   "metadata": {},
   "source": [
    "We can also see our balance directly on the Ethereum blockchain by adding our wallet address to the rinkebey testnet url, like \n",
    "https://**TESTNET**.etherscan.io/address/**WALLETADDRESS**\n",
    "\n",
    "\n",
    " <img src='https://github.com/dirkkalmbach/bl101/blob/main/bl101/images/testnet_account_on_etherscan.png?raw=true' width=500px>"
   ]
  },
  {
   "cell_type": "markdown",
   "metadata": {},
   "source": [
    "In the same way, I can also check how much *real* ether I have in my Metamask wallet. For this we have to switch to the **mainnet**:"
   ]
  },
  {
   "cell_type": "code",
   "execution_count": 40,
   "metadata": {},
   "outputs": [
    {
     "data": {
      "text/plain": [
       "0"
      ]
     },
     "execution_count": 40,
     "metadata": {},
     "output_type": "execute_result"
    }
   ],
   "source": [
    "# How much balance in my Metamask wallet on Rinkeby Testnet?\n",
    "# 1. Connect to Testnet\n",
    "provider = infura_url_mainnet\n",
    "w3 = Web3(Web3.HTTPProvider(provider))\n",
    "\n",
    "wallet_address = os.environ.get(\"WALLETADDRESS\") # <- Metamask account\n",
    "w3.eth.get_balance(wallet_address)"
   ]
  },
  {
   "cell_type": "markdown",
   "metadata": {},
   "source": [
    "Apparantly, there is no money in my wallet 🥺. But feel free to send me some Ether 🤑🤗.   \n",
    "*(In later courses we will learn how to do this with `Python`.)*"
   ]
  },
  {
   "cell_type": "markdown",
   "metadata": {},
   "source": [
    "## Get Balance via Ethernet API\n",
    "- this is just an additional way to get your balance by scraping ethereum website with API key from ethereum."
   ]
  },
  {
   "cell_type": "code",
   "execution_count": 43,
   "metadata": {},
   "outputs": [],
   "source": [
    "ApiKeyToken = os.environ.get(\"ETHERSCAN_API_TOKEN\") # <- Etherscan API KEY (stored in bl101)\n",
    "\n",
    "url =f\"https://api-rinkeby.etherscan.io/api?module=account&action=balance&address={wallet_address}&tag=latest&apikey={ApiKeyToken}\"\n",
    "\n",
    "response = requests.get(url,\n",
    "        headers={'User-Agent': 'Mozilla/5.0 (Macintosh; Intel Mac OS X 10_11_5) AppleWebKit/537.36 (KHTML, '\n",
    "                               'like Gecko) Chrome/50.0.2661.102 Safari/537.36'})\n",
    "                               "
   ]
  },
  {
   "cell_type": "code",
   "execution_count": 45,
   "metadata": {},
   "outputs": [
    {
     "name": "stdout",
     "output_type": "stream",
     "text": [
      "3.28 Ether in wallet 0x7Dda3ae0b40D7d86AC54edc7888c40EF7521c3c0\n"
     ]
    }
   ],
   "source": [
    "wei = response.json()[\"result\"]\n",
    "\n",
    "eth =  w3.fromWei(int(wei), 'ether')\n",
    "print(f\"{round(eth,2)} Ether in wallet {wallet_address}\")"
   ]
  },
  {
   "cell_type": "markdown",
   "metadata": {},
   "source": [
    "---"
   ]
  },
  {
   "cell_type": "markdown",
   "metadata": {},
   "source": [
    "# 📚 Reference"
   ]
  },
  {
   "cell_type": "markdown",
   "metadata": {},
   "source": [
    "<a name=\"cite_note-1\"></a>1. [^](#cite_ref-1) What are Mainnet and Testnet? [🌏 phemex.com](https://phemex.com/academy/what-are-mainnet-and-testnet)\n",
    "\n",
    "<a name=\"cite_note-2\"></a>2. [^](#cite_ref-2) Crypto Mainnet vs Testnet: what is the difference? [🌏 masterthecrypto.com](https://masterthecrypto.com/mainnet-vs-testnet-whats-the-difference/)\n",
    "\n",
    "<a name=\"cite_note-2\"></a>3. [^](#cite_ref-3) How does the Keccak256 hash function work? [🌏 ethereum.stackexchange.com](https://ethereum.stackexchange.com/a/45585)"
   ]
  },
  {
   "cell_type": "markdown",
   "metadata": {},
   "source": []
  }
 ],
 "metadata": {
  "interpreter": {
   "hash": "ea271a8d55864f2db1b3c7d9182e9261e5d717f60008da9ec5479eef0acaf401"
  },
  "kernelspec": {
   "display_name": "Python 3.9.10 ('blockchain39')",
   "language": "python",
   "name": "python3"
  },
  "language_info": {
   "codemirror_mode": {
    "name": "ipython",
    "version": 3
   },
   "file_extension": ".py",
   "mimetype": "text/x-python",
   "name": "python",
   "nbconvert_exporter": "python",
   "pygments_lexer": "ipython3",
   "version": "3.9.10"
  },
  "orig_nbformat": 4
 },
 "nbformat": 4,
 "nbformat_minor": 2
}
