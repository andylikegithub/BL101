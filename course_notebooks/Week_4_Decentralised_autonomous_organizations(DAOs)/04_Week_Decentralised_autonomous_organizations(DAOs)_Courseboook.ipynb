{
 "cells": [
  {
   "cell_type": "markdown",
   "metadata": {},
   "source": [
    ">Conda Environment: `blockchain39` (iMac)"
   ]
  },
  {
   "cell_type": "markdown",
   "metadata": {},
   "source": [
    "[![Open In Colab](https://colab.research.google.com/assets/colab-badge.svg)](https://colab.research.google.com/drive/1Ul1OjDmr_WF_F2mES17AYiMlG2Un3QXn?usp=sharing)"
   ]
  },
  {
   "cell_type": "markdown",
   "metadata": {},
   "source": [
    "# 💻Welcome to Week 3 of the BC101 Bootcamp \n",
    "\n",
    "You have successfully finished the third week! You are almost at the end of this Bootcamp. Having covered the main areas of application, we will now be diving into the governance of blockchain-based applications, namely DAOs.\n",
    "\n",
    "## 📕 Learning Objectives\n",
    "\n",
    "* What are DAOs and what makes them the perfect governing entity in a web3 world.\n",
    "* Go through examples of voting mechanisms and tokenomics and compare their weaknesses and benefits.\n",
    "* Create your own DAO with which people can interact with and contribute tokens.\n",
    "\n",
    "## 📅 Weekly Progress\n",
    "\n",
    "|Week | Content | Learning Objectives|\n",
    "|:--- |:--- | :--- |\n",
    "| 0 | Hello Blockchain World | Get to know more about your classmates, the mentors, and learn about the fundamental concepts of the Blockchain, how it works, and write your first smart contract.|\n",
    "| 1 | Non-fungible Tokens (NFTs)| Learn more about Non-fungible Tokens (NFTs) and go through the protocols that make them unique and valuable. Create your own NFT collection, deploy it to a Testnet and view it on OpenSea. |\n",
    "| 2 | Decentralised Finance (DeFi)| Understand the major innovation behind DeFi, learn about the most popular DeFi protocols, and create your own cryptocurrency and DeFi project for others to interact with. |\n",
    "| 3 | GameFi & SocialFi | Discover a new field in Blockchain that has experienced explosive growth and tapped into concepts such as play-to-earn that currently push the boundaries of blockchain technology application beyond finance. Integrate your own SocialFi project with your DeFi and NFT project. |\n",
    "| **4** | **Decentralised Autonomous Orgaizations (DAOs)**  | **Find out why DAOs are the industries standard as the governing entity for blockchain-based organizations and how they handle voting mechanisms and tokenomics to make the entire organization function. Go through the process of building your own DAO.** |\n",
    "| 5 | Personal Project & Graduation | Research, gather feedback, write an article and pitch a potential Blockchain project to the class. Successfully graduate from the Bootcamp and receive your Blockchain certification. |"
   ]
  },
  {
   "cell_type": "markdown",
   "metadata": {},
   "source": [
    "---\n",
    "#  Week 4: BLOCKCHAIN IN THE INDUSTRY\n",
    "---"
   ]
  },
  {
   "cell_type": "markdown",
   "metadata": {},
   "source": [
    "#### Setup & Import relevant Libraries for this Course"
   ]
  },
  {
   "cell_type": "code",
   "execution_count": 26,
   "metadata": {},
   "outputs": [],
   "source": [
    "# Standard library imports\n",
    "import requests\n",
    "\n",
    "# Third party imports\n",
    "\n",
    "# Third party imports\n",
    "from helpers import get_crypto_data"
   ]
  },
  {
   "cell_type": "markdown",
   "metadata": {},
   "source": [
    "# DeFi (decentralized finance)"
   ]
  },
  {
   "cell_type": "markdown",
   "metadata": {},
   "source": [
    "## Access my Wallet"
   ]
  },
  {
   "cell_type": "markdown",
   "metadata": {},
   "source": [
    "### via Ethernet API\n",
    "- Login to etherscan.io and add api key"
   ]
  },
  {
   "cell_type": "code",
   "execution_count": 23,
   "metadata": {},
   "outputs": [],
   "source": [
    "# Rinkebey\n",
    "myApiKeyToken=\"WSH75MMN4EHZGZ91GFVCA2QYEYBBCCFVMC\" #API Key from etherscan\n",
    "wallet_address = \"0x7Dda3ae0b40D7d86AC54edc7888c40EF7521c3c0\""
   ]
  },
  {
   "cell_type": "code",
   "execution_count": 24,
   "metadata": {},
   "outputs": [],
   "source": [
    "url =f\"https://api-rinkeby.etherscan.io/api?module=account&action=balance&address={wallet_address}&tag=latest&apikey={myApiKeyToken}\"\n",
    "\n",
    "response = requests.get(\"https://api-rinkeby.etherscan.io/api?module=account&action=balance&address=0x7Dda3ae0b40D7d86AC54edc7888c40EF7521c3c0&tag=latest&apikey=WSH75MMN4EHZGZ91GFVCA2QYEYBBCCFVMC\",\n",
    "        headers={'User-Agent': 'Mozilla/5.0 (Macintosh; Intel Mac OS X 10_11_5) AppleWebKit/537.36 (KHTML, '\n",
    "                               'like Gecko) Chrome/50.0.2661.102 Safari/537.36'})"
   ]
  },
  {
   "cell_type": "code",
   "execution_count": 25,
   "metadata": {},
   "outputs": [
    {
     "name": "stdout",
     "output_type": "stream",
     "text": [
      "Wallat Balance: 3287499879841249389\n"
     ]
    }
   ],
   "source": [
    "if response.ok==True:\n",
    "    balance = response.json()[\"result\"]\n",
    "    print(f\"Wallat Balance: {balance}\")"
   ]
  },
  {
   "cell_type": "markdown",
   "metadata": {},
   "source": [
    "# Borrowing"
   ]
  },
  {
   "cell_type": "markdown",
   "metadata": {},
   "source": [
    "# Lending"
   ]
  },
  {
   "cell_type": "markdown",
   "metadata": {},
   "source": [
    "---"
   ]
  },
  {
   "cell_type": "markdown",
   "metadata": {},
   "source": [
    "# 📚 Reference"
   ]
  }
 ],
 "metadata": {
  "interpreter": {
   "hash": "ea271a8d55864f2db1b3c7d9182e9261e5d717f60008da9ec5479eef0acaf401"
  },
  "kernelspec": {
   "display_name": "Python 3.9.10 ('blockchain39')",
   "language": "python",
   "name": "python3"
  },
  "language_info": {
   "codemirror_mode": {
    "name": "ipython",
    "version": 3
   },
   "file_extension": ".py",
   "mimetype": "text/x-python",
   "name": "python",
   "nbconvert_exporter": "python",
   "pygments_lexer": "ipython3",
   "version": "3.9.10"
  },
  "orig_nbformat": 4
 },
 "nbformat": 4,
 "nbformat_minor": 2
}
