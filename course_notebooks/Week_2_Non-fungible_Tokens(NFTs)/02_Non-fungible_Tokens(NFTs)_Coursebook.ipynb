{
 "cells": [
  {
   "cell_type": "markdown",
   "metadata": {},
   "source": [
    "# 💻 Welcome to Week 2 of the BC101 Bootcamp \n",
    "\n",
    "You have successfully finished the first coursebook! This is a great achievement as the first dive into Blockchain can be overwhelming. This week we will focus on developing and building your own NFT project.\n",
    "\n",
    "## 📕 Learning Objectives\n",
    "\n",
    "* Go through the theory of NFTs and what makes them unique.\n",
    "* Learn about the importance of NFT metdata and IPFS, and dive into the questionable decentralisation of NFTs.\n",
    "* Build your own unique NFT project and deploy it to the web.\n",
    "\n",
    "## 📅 Weekly Progress\n",
    "\n",
    "|Week | Content | Learning Objectives|\n",
    "|:--- |:--- | :--- |\n",
    "| 1 | Hello Blockchain World | Get to know more about your classmates, the mentors, and learn about the fundamental concepts of the Blockchain, how it works, and write your first smart contract.|\n",
    "| **2** | **Non-fungible Tokens (NFTs)**| **Learn more about Non-fungible Tokens (NFTs) and go through the protocols that make them unique and valuable. Create your own NFT collection, deploy it to a Testnet and view it on OpenSea.** |\n",
    "| 3 | Decentralised Finance (DeFi)| Understand the major innovation behind DeFi, learn about the most popular DeFi protocols, and create your own cryptocurrency and DeFi project for others to interact with. |\n",
    "| 4 | GameFi & SocialFi | Discover a new field in Blockchain that has experienced explosive growth and tapped into concepts such as play-to-earn that currently push the boundaries of blockchain technology application beyond finance. Integrate your own SocialFi project with your DeFi and NFT project. |\n",
    "| 5 | Decentralised Autonomous Orgaizations (DAOs) & Personal Project  | Find out why DAOs are the industries standard as the governing entity for blockchain-based organizations and how they handle voting mechanisms and tokenomics to make the entire organization function. Go through the process of building your own DAO, and pitch your own Blockchain project to the class. Successfully graduate from the Bootcamp and receive your Blockchain certification. |"
   ]
  },
  {
   "cell_type": "markdown",
   "metadata": {},
   "source": [
    "## What are NFTs?\n",
    "NFT stands for *Non-fungible Tokens*. NFTs are smart contracts deployed on a blockchain that represent something *unique*. Unlike our `helloworld` contract which is fungible (i.e. replaceable, interchangable), NFTs are unique.  Technically NFTs follow a different standard, the so called `ERC721` standard. Fungible tokens in contrast follow the `ERC20` standard.\n",
    "\n",
    "*For example: the dollar bill in your wallet is **fungible**: it might has a serial number and a print date but every bill is interchangeable. You can use it for buying goods, pocket money for your kid or put into a safe (for future use). But whatever you do you are only interested in the value - not in this particular bill. In other words: nobody keeps record about who used this bill for what. \n",
    "The picture you took on your smart phone is **non-fungible**: although you can send it to other people, post it on social media, sell it, ... you will always remain the creator of that image and the blockchain stores your address (and any future owner).*\n",
    "\n",
    "### What are NFTs made of?\n",
    "1. Each NFT has a unique id that distinguishes it form other NFTs. This is in contrast to a fungible token like `ETH`. All ETH are the same and you only care about *how many* ETHs you have.   \n",
    "2. NFTs can link to data stored outside of a smart-contract (called **off-chain**). This makes NFTs more cost-effective as *on-chain* stored data needs to be processed, verified and replicated across the entire blockchain network. "
   ]
  },
  {
   "cell_type": "markdown",
   "metadata": {},
   "source": [
    "### ERC-721\n",
    ">📝  *NFTS are **uniqe** and can point to data outside the blockchain - they are smart contracts following the `ERC721` standard.*\n",
    "\n",
    "**ERC-721** is a standard for smart contracts which was introduced in 2018. It provides functionalities like to transfer tokens from one account to another, to get the current token balance of an account, to get the owner of a specific token and also the total supply of the token available on the network.\n",
    "\n",
    "If a Smart Contract implements the following methods and events it can be called an ERC-721 Non-Fungible Token Contract and, once deployed, it will be responsible to keep track of the created tokens on Ethereum.\n",
    "\n",
    "\n",
    "#### ERC721 Methods\n",
    "|NAME:|PURPOSE:|INPUT:|TYPE:|RETURNS:|REQUIRED?|\n",
    "|--|--|--|--|--|--|\n",
    "| **balanceOf** | *returns the number of NFTs owned by `_owner`*| `_owner` (address) | external view | (uint256) |?|\n",
    "| **ownerOf** | *returns the owner of NFT*|`_tokenID` (uint256) | public view | (address) |?|\n",
    "| **safeTransferFrom** |*transfers the ownership of an NFT from one address to another*| `_from` (address), `_to` (address), `_tokenID` (uint256), `data` (bytes) | external payable | - |?|\n",
    "| **approve** |*change or reaffirm the approved address for an NFT*| `_approved` (address), `_tokenID` (uint256)| external payable | - |?|\n",
    "| **setApprovalForAll** |*enable or disable approval for a third party (`_operator`) to manage all of `msg.sender`'s assets*| `_operator` (address), `_approved` (bool)| external | - |?|\n",
    "| **getApproved** |*returns the approved address for this NFT*| `_owner` (address), `_operator` (address)| external view | (address) |?|\n",
    "\n",
    "\n",
    "#### ERC721 Events\n",
    "|NAME:|TRIGGERS:|INPUT:|REQUIRED?|\n",
    "|--|--|--|--|\n",
    "|**Transfer**|*... when NFTs are created (`from` == 0) and destroyed*| `_from` (address), `_to` (addreess), `_tokenId` (uint256)| ? |\n",
    "|**Approval**|*... when the approved address for an NFT is changed or reaffirmed.*| `_owner` (address), `_approved`(address), `_tokenId` (uint256)| ? |   \n",
    "|**ApprovalForAll**|*... when an operator is enabled or disabled for an owner*| `_owner` (address), `_operator_`(address), `_approved` (bool)| ? |  "
   ]
  },
  {
   "cell_type": "markdown",
   "metadata": {},
   "source": [
    "## What are NFTs used for?\n",
    "Because NFTs are non-fungible they provide proof of ownership or coypright to the owner: everybody can see who created that NFT, where did it come from, who owned it and who is the current owner. Most NFTs are used for arts, video games, music, films, etc.\n",
    "\n",
    "Beside this, NFTs are still smart contract, i.e. they can have additional functionality. \n",
    "Think for example about a piece of art that pays the artist a small fraction of the selling price whenever it changes ownership. You can a function within your NFT contract which exactly does this.\n",
    "\n",
    "Legally, the ownership of an NFT does not inherently grant copyright or intellectual property rights to the digital asset the NFT is linked to, but it provides evidence of ownership of that token."
   ]
  },
  {
   "cell_type": "markdown",
   "metadata": {},
   "source": [
    "## Example of NFTs\n",
    "Probably the most famous NFT is the [Nyan cat](https://en.wikipedia.org/wiki/Nyan_Cat): a simple but popular animation uploaded on [Youtube](https://youtu.be/QH2-TGUlwu4) in 2011. Ten years later the creator sold it as a non-fungible token (NFT) for 300 ether, the equivalent of US$587,000 at the time of sale.   \n",
    "\n",
    "![Nyan cat](https://www.dropbox.com/s/bs4vi1u2pu3o7qh/nyan_cat.png?dl=1)\n",
    "\n",
    "But NFTs can also be physical objects as you can link the token literarlly to anything. Some real estate companies already sell houses where the buyer of the house gets an NFT linked to the ownership of an LLC that owns the physical asset, not the housing deed itself.<a name=\"cite_ref-1\"></a>[<sup>[1]</sup>](#cite_note-1) \n",
    "\n",
    "An example for NFTs used as collectible and as a membership is the famous [Bored Apes](https://www.gemini.com/cryptopedia/what-is-bored-ape-yacht-club-nft-bored-apes#section-how-to-buy-a-bored-ape): a collection of 10,000 Ethereum-based NFTs that launched in 2021. These Ape NFT caricatures feature various facial expressions, clothes, and unique elements and provide membership to the *Bored Ape Yacht Club* with private online spaces, exclusive merch, and members-only live events.   \n",
    "\n",
    "![Bored Apes](https://www.dropbox.com/s/0yvcb5bx9bdulxb/Various_Bored_Ape.jpg?dl=1)"
   ]
  },
  {
   "cell_type": "markdown",
   "metadata": {},
   "source": [
    "## NFTs and the future of the internet\n",
    "You might heard about `web1`, `web2` and `web3`? *In plain simple terms:* \n",
    "- `Web1` was the beginning of the internet: we had blogs, homepages, company websites, wikipedia, e-commerce, etc. -  using the internet meant for most people *consuming content*. **The internet was mostly static.**  \n",
    "- `Web2` added social media, involving the user into the creating-of-content process - internet then meant *prosuming* (consuming and producing at the same time). However, most user of social platformd did not benefit from their content (beside the fun of sharing and interacting most users did not got compensated for posting on Instagram or tweeting on Twitter) and platforms like Facebook and Google became the most-valuable companies in the world. **The internet became interactive.**   \n",
    "- `Web3` which technically started with the first introduction of blockchain in 2008 but in fact is about to shift the nature of the internet and is for many experts the future of the internet. Besides decentralicing content and therefore putting content into the hand of the *crowd* rather than in the hand of big companies and/or governments (at this point is funny if you think about what the original purpose of the interent was: a decentraliced network owned by the people), it also gives the user the possility to own and monetize his/her content. Although smart contracts based on ERC20 standard also belong to Web3 the idea of non-fungibality and NFTs is so central to this new internet world that we mention it here. **The internet becomes \"ownable\".**\n",
    ">📝   *Web3 let you own and monetize your content - it's said to be the future of the internet.*"
   ]
  },
  {
   "cell_type": "markdown",
   "metadata": {},
   "source": [
    "## The nature of NFTs\n",
    "Although you could technically store your *digital art* directly on the blockchain (i.e. `onchain`) it would cost too much `gas` (👉🏻 *`gas` is the transaction fee for uploading/changing contracts on the blockchain*). Instead the NFT contains an `URI`. A URI (\"Universal Resource Identifier\") is a string containing characters that identify a physical or logical resource. URI follows syntax rules to ensure uniformity. Moreover, it also mantains extensibilitiy via a chierarchical naming scheme.\n",
    "\n",
    "Every NFT has a unique owner: ```mapping (uint256 => address) private _owners;``` and in addition they have what is called a `TokenURI`. Each token is unique and each tokenID represents a unique asset. If we want to visualize these assets we need to define some attributes, e.g. how does the art looks like, what are the stats of a gaming character, etc.\n",
    "This is were `Metadata` and `TokenURI` come into play. The metadata describes the character of the NFT. The simplest metadata might look like this:   \n",
    "``` \n",
    "\"name\": \"Name\",\n",
    "\"description\": \"Description\",\n",
    "\"image\": \"URI\",\n",
    "\"attributes\": []\n",
    "```\n",
    "\"Image\" refers to a seperate URI that points to an image.\n",
    "\n",
    "Metadata can be stored on-chain or off-chain. The problem with on-chain metadata is that many NFT marketplaces don't know how to read the metadata from the contract. *(But if you want your token to interact with other tokens you need to store it on-chain.)*"
   ]
  },
  {
   "cell_type": "markdown",
   "metadata": {},
   "source": [
    "### IPFS\n",
    "If you link your peace of art to an http address like `https://my-precious_nft.com/my-nft.png`, than everyone can fetch `my-nft.png`. Also the server can go down or the host can change the image. This [was exactly happening]((https://cointelegraph.com/news/opensea-collector-pulls-the-rug-on-nfts-to-highlight-arbitrary-value)) by an crypto-artist who changed the images associated with the NFTs he sold on Opensea.  \n",
    "*This is where IPFS come into play ...*   \n",
    "\n",
    "[IPFS](https://ipfs.io) stands for InterPlanetary File System: *\"a peer-to-peer hypermedia protocol designed to preserve and grow humanity's knowledge by making the web upgradeable, resilient, and more open\"* (according to their website). It allows anyone to upload a file (e.g. image) which then will be hashed so that if the file change, the hash will change - allowing to track any changes to your file.\n",
    "\n",
    "The process to link your NFTs metadata to IPFS:\n",
    "1. Get IPFS\n",
    "2. AddTokenURI json file to IPFS\n",
    "3. Add IPFS URI to your NFT URI"
   ]
  },
  {
   "cell_type": "markdown",
   "metadata": {},
   "source": [
    "# NFT Marketplaces\n",
    "The easiest way to buy, sell, and even make an NFT is to use a platform like [Opensea](https://opensea.io/), [Rarible](https://rarible.com/), or [Mintible](https://mintable.app/). We highly recommend you to explore the Opensea marketplace. It will give you valuable insights about how the NFT market works. You can also open an account and connect your Metamask wallet and start trading NFTs:    \n",
    "\n",
    "![Opensea](https://www.dropbox.com/s/25q9eod4vbzrwvf/opensea.png?dl=1)\n",
    "\n",
    "*(⬆ `PhantaBear` NFTs on [Opensea](https://opensea.io/collection/phantabear) connected to `Metamask` wallet)*\n",
    "\n",
    "But of course with any other platform you are bound to their functionality (and prices). In the following section we show you the basics of minting an NFT completely by yourself. And in our weekly *Workbook* you will mint your own NFT."
   ]
  },
  {
   "cell_type": "markdown",
   "metadata": {},
   "source": [
    "## Does NFT popularity reached its peak?"
   ]
  },
  {
   "cell_type": "markdown",
   "metadata": {},
   "source": [
    "<iframe width=\"100%\" height=\"420\" frameborder=\"0\" src=\"https://embed.theblockcrypto.com/data/nft-non-fungible-tokens/nft-overview/weekly-trade-volume-of-nfts/embed\" title=\"Weekly Trade Volume of NFTs by Category\"></iframe>"
   ]
  },
  {
   "cell_type": "markdown",
   "metadata": {},
   "source": [
    "It looks indeed like that NFT had its last peak in April this year. Analyzing the frequency of the search term **buying NFT** on Google shows a similar picture:"
   ]
  },
  {
   "cell_type": "code",
   "execution_count": 11,
   "metadata": {},
   "outputs": [
    {
     "data": {
      "image/png": "[encoded data removed]",
      "text/plain": [
       "<Figure size 1296x432 with 1 Axes>"
      ]
     },
     "metadata": {
      "needs_background": "light"
     },
     "output_type": "display_data"
    }
   ],
   "source": [
    "#!pip install pytrends\n",
    "# Scrape Google Trends\n",
    "from pytrends.request import TrendReq\n",
    "import matplotlib.pyplot as plt\n",
    "import seaborn as sns\n",
    "\n",
    "pytrends = TrendReq(hl='en-US', tz=360) \n",
    "kw_list = [\"buying NFT\"] # list of keywords to get data \n",
    "pytrends.build_payload(kw_list, cat=0, timeframe='today 12-m')\n",
    "data = pytrends.interest_over_time() \n",
    "data = data.reset_index() \n",
    "\n",
    "# Visualize it\n",
    "plt.figure(figsize=(18,6))\n",
    "sns.lineplot(data=data, x = \"date\", y = \"buying NFT\").set(title='Google Trends for \"buying NFT\"', xlabel=None, ylabel=\"relative importance\")\n",
    "plt.show()"
   ]
  },
  {
   "cell_type": "markdown",
   "metadata": {},
   "source": [
    "---  \n",
    "# Wallet\n",
    "We highly recommend you to setup your own Metamask Wallet and put some test-eth on it. It is completly secure and free as we will only use the testnets. If you are intersted in Blockchain sooner or later you will need your own wallet. \n",
    "However, you can finish this course without your own wallet. In this case we provide you with our unpackAI Metamask wallet."
   ]
  },
  {
   "cell_type": "markdown",
   "metadata": {},
   "source": [
    "## MetaMask\n",
    "![MetaMask Logo](https://www.dropbox.com/s/74zg0rsh7e2v5mt/metamask_logo.png?dl=1)\n",
    "### Install MetaMask\n",
    "> *MetaMask is a wallet for `Ethereum` (and other tokens) that works as a browser extension. It connects to sites and application within your browser (i.e. after visiting the website you click on the `MetaMask` icon to connect your wallet with that website).*\n",
    "\n",
    "1. Visit [Metmask](https://metamask.io/) and locate the extension that is compatible with your browser *(supported browsers are: `Chrome`, `Firefox`, `Edge` and `Brave`)*. \n",
    "2. Install the extension ->  *the Metamask Icon  <img src=\"https://www.dropbox.com/s/wc0lhi23uag9rtg/metamask_icon.png?dl=1\"> appears in our browser*\n",
    "3. Click on the icon <img src=\"images/metamask_icon.png\"> in your browser and follow the setup process.\n",
    "4. Store/write down the `secret recovery phrase`: *it's the master key to your wallet!* \n",
    "\n",
    "### Become familiar with MetaMask\n",
    "We will mostly working with testnets. Testnets are an incredible way to experiment and play around without fear of losing real money. You need to activate in settings:   \n",
    "![Show Testnets in Metamask](https://www.dropbox.com/s/e42f3tg9qiui9q5/show_testnets.png?dl=1)  \n",
    "\n",
    "\n",
    "We also recommend to **pin** MetaMask to your browser:  \n",
    "![Pin Metamask to Browser](https://www.dropbox.com/s/a5kty0vc7k9ijs6/pin_metamask.png?dl=1)\n",
    "\n",
    ">MetaMask will be your most important tool in the blockchain world. The nice thing about MetaMask: it allows you to use `testnets`. Testnets are ... which allow you to discover, play around and test your application. You can also deposit money (i.e. tokens) on your testnet. But if you want to buy a real NFT you need to use your mainnet with real `ETH` *Let's add some money to your wallet ...*\n",
    "\n",
    "#### Add Testnet\n",
    "\n",
    "#### One word about accounts\n",
    "You cann add more accounts to your wallet. *(This can be useful e.g. to learn how to transfer money between accounts.)* Every account will then be available in all your testnets and your mainnet. Every account has an account number (also called `account address`) and a `private key`. You will use both quite often. Whenever you \"change\" something on the blockchain (transfer money, mint NFT, etc.) you need your account address and your private key - think of them as your *name* and your *signature*.  \n",
    "The `secret key` belongs to your wallet and therefore to all your accounts. You never use it on the blockchain. *(typical usecases for your secret key is: setting up your wallet on a new computer or smart phone or browser)* \n",
    "### Get `Ether` for your wallet\n",
    "The process for adding `ether` to your wallet depends on the testnet. \n",
    "\n",
    "##### Rinkeby Testnet\n",
    "1. [Rinkeby Faucet](https://rinkebyfaucet.com/)\n",
    "    - very quick: just paste you wallet address\n",
    "    - only 0.1 Eth and you have to wait 24h to claim Eth againg\n",
    "2. [Rinkeby Authenticated Faucet](https://faucet.rinkeby.io/)\n",
    "    - you need `twitter` or `facebook` account\n",
    "    - for Twitter: \n",
    "        1. click on the twitter link\n",
    "        2. a sample tweet in your twitter account opens\n",
    "        3. paste your wallet address in that tweet and tweet\n",
    "        4. copy your tweets link (\"share tweet\") and paste it into the faucet\n",
    "    - you can add up to 18.75 Eth (every 3 days)  \n",
    "![Rinkeby Authenticated Fauce](https://www.dropbox.com/s/po2e8gxoie59eop/rinkebey_athenticated_faucet.png?dl=1)   \n",
    "\n",
    "##### Kovan Testnet   \n",
    "Unfortunately, Eth for `Kovan` is a little bit more difficult to get than for `Rinkeby`. You can get `Kovan` Eths from a couple of sites:\n",
    "1. [Kovan Faucet](https://faucet.kovan.network/)\n",
    "    - site was offline recently 😕\n",
    "2. [Gitter](https://gitter.im/kovan-testnet/faucet#)\n",
    "    - you need to sign on with your `twitter`, `github` or `gitlab` account\n",
    "    - then click on `join room` at the buttom of the page and paste in your wallet address\n",
    "    - only 0.001 Eth and you have to wait 24h to claim ETH again\n",
    "3. [Ethdrop](https://ethdrop.dev/)\n",
    "    - very simply: just paste your wallet address\n",
    "    - only 0.001 Eth and you have to wait 24h to claim ETH again\n",
    "##### Mainnet\n",
    "(we recommend not to deposit real `eth`, i.e. on the mainnet - at least not for now until you become more confident within the blockchain world.). But of course if you want to interact with the \"real\" blockchain (in a way that you *change* the blockchain, e.g.: buying \"real\" NFTs, minting \"real\" tokens, exchanging \"real\" crypos, etc.) you need to have real `eth`. The quickest way to buy eth is within MetaMask: you can buy via `Paypal`, `Apple Pay`, `Credit Card`, `Bank Transfer`, etc.\n",
    "Keep in mind that you also need eth for transactions which usually does not cost money (e.g. ...). I.e. because for most transactions you need to pay a transaction fee, so called `gas fee`. It is the compensation for the `miner` who \"helps\" you with your transaction. \n",
    "*But more on this later...*\n",
    "\n",
    "## Other Wallets\n",
    "Another famous wallet which functions similar to MetaMask and runs also in the browser is `Coinbase`:   \n",
    "\n",
    "![Coinbase Logo](https://www.dropbox.com/s/7ji3m05tnt913w8/coinbase_logo.png?dl=1)  \n",
    "\n",
    "Coinbase can store other cryptos while MetaMask focuses on ETH and ERC-20 tokens. Coinbase also functions as a browser add-on. You can download and install it [here](https://www.coinbase.com). But we don't need it for our course."
   ]
  },
  {
   "cell_type": "markdown",
   "metadata": {},
   "source": [
    "---\n",
    "# 📚 References\n",
    "<a name=\"cite_note-1\"></a>1. [^](#cite_ref-1) CoinDesk 2022: *NFT-Linked House Sells for $650K in Propy’s First US Sale*, [URL](https://www.coindesk.com/business/2022/02/11/nft-linked-house-sells-for-650k-in-propys-first-us-sale/)\n",
    "\n",
    "William Entriken, Dieter Shirley, Jacob Evans, Nastassia Sachs, \"EIP-721: Non-Fungible Token Standard,\" Ethereum Improvement Proposals, no. 721, January 2018. [Online serial]. Available: https://eips.ethereum.org/EIPS/eip-721.\n",
    "\n",
    "### *And if you want to dig deeper ...*\n",
    "Patrick Collins 2012: Build, Deploy, and Sell Your Own Dynamic NFT, [URL](https://blog.chain.link/build-deploy-and-sell-your-own-dynamic-nft/)"
   ]
  },
  {
   "cell_type": "markdown",
   "metadata": {},
   "source": []
  }
 ],
 "metadata": {
  "interpreter": {
   "hash": "ea271a8d55864f2db1b3c7d9182e9261e5d717f60008da9ec5479eef0acaf401"
  },
  "kernelspec": {
   "display_name": "Python 3.9.10 ('blockchain39')",
   "language": "python",
   "name": "python3"
  },
  "language_info": {
   "codemirror_mode": {
    "name": "ipython",
    "version": 3
   },
   "file_extension": ".py",
   "mimetype": "text/x-python",
   "name": "python",
   "nbconvert_exporter": "python",
   "pygments_lexer": "ipython3",
   "version": "3.9.10"
  },
  "orig_nbformat": 4
 },
 "nbformat": 4,
 "nbformat_minor": 2
}
