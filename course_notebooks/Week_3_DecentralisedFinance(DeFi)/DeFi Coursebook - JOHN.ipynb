{
 "cells": [
  {
   "cell_type": "markdown",
   "metadata": {},
   "source": [
    "[![Open In Colab](https://colab.research.google.com/assets/colab-badge.svg)](https://colab.research.google.com/github/unpackAI/BL101/blob/main/course_notebooks/Week_3_DecentralisedFinance%28DeFi%29/03_Decentralised_Finance%28DeFi%29_Coursebook.ipynb)"
   ]
  },
  {
   "cell_type": "markdown",
   "metadata": {},
   "source": [
    "# 💻 DeFi Coursebook - JOHN"
   ]
  },
  {
   "cell_type": "markdown",
   "metadata": {},
   "source": [
    "---\n",
    "# DeFi\n",
    "---"
   ]
  },
  {
   "cell_type": "markdown",
   "metadata": {},
   "source": [
    "## Intro to DeFi\n",
    "\n",
    "Let's start with the basics. DeFi stands for Decentralised Finance. Its a new and alternate financial system that is:\n",
    "1. **Open to everyone**: There are no prerequisites to participate in the DeFi ecosystem. Traditionally, if you want to register a bank account, you are required to provide identification, and in some cases also a tax number. DeFi allows any individual, to open up their own wallet with a phone and an internet connection, and both are becoming increasingly accessible, as opposed to access to a nearby bank.\n",
    "2. **Does not require trust**: In DeFi, the requirement for any financial institution as an intermediary, is removed. You, the individual can own your own assets, and are able to transact or trade instantaneously without approval.\n",
    "\n",
    "This is made possible via Blockchain technology, Cryptography and Smart Contracts. At current (06.03.2022), there is 73.07b USD invested in DeFI. This number represents the Total Value Locked (TVL), the total value of cryptocurrency locked in a smart contracts. TVL in DeFi protocols is down from 249b USD back in November 9th, 2021. You can see daily stats on DeFi TVL, and a list of the most dominant DeFi protocols [here](https://defillama.com/).\n",
    "\n",
    "<img src=\"https://www.dropbox.com/s/a701y51ytf0nqw9/DeFi_Overview.png?raw=1\" alt=\"etherscan_week1\" width=\"1000\"/>\n",
    "\n",
    "Thus far, the Ethereum has a market share of 70%, represented by the TVL in DeFi protocols based on Ethereum. Binance Smart Chain (BSC) is second with 8%. We have found a visualization [here](https://www.footprint.network/@Juna/DeFi-TVL-percentage-of-Chain) using Footprint here.\n",
    "\n",
    "Before we further dive into the applications of DeFi and study two prominent DeFi protocols, lets briefly dive into the differences between the traditional financial system and DeFi."
   ]
  },
  {
   "cell_type": "markdown",
   "metadata": {},
   "source": [
    "### DeFi vs Traditional Finance\n",
    "To understand the innovation of DeFi is to understand of it differentiates from traditional finance from the perspective of a user.\n",
    "\n",
    "1. Interaction Layer:\n",
    "    - Traditional Finance: Banks and certified accounts are the gateway into the traditional financial system. The way you withdraw funds, initiate transactions or invest is via branches, ATMs, online banking and more. Transactions are not public.\n",
    "    - DeFi: As a DeFi user you need to register a wallet, and can directly interact with DeFi protocols. Clearly, you require real funds to purchase Bitcoin or Ether, that can be purchased via various exchanges using your fiat currency (USD, EUR, etc.). All transactions are public for you to explore via Block Explorers (i.e. Etherscan) or other analytic tools (i.e. Footprint, Nansen etc.). In some countries you can even withdraw fiat currency using a Bitcoin ATM.\n",
    "2. Application Layer:\n",
    "    - Traditional Finance: Centralised Finances offers many financial products and services to invest your wealth. Importantly, all are regulated by the government and hold accountable in case of fraud. This protects the retail investor.\n",
    "    - DeFi: Mirroring the traditional financial system, DeFi offers similar and new innovative financial products (i.e. flash loans). These will be discussed in the following. Additionally, it needs to be highlighted that in DeFi regulation is essentially non-existent. While, this makes things easier, quicker and a lot more accessible, it also creates an easy way for fraudulent players, to scam retail investors of a lot of money (DO NOT CLICK ON RANDOM LINKS FROM UNVERIFIED EMAILS OR LINKS).\n",
    "3. Execution Layer:\n",
    "    - Traditional Finance: The executional layer, that executes the various trades or transactions initiated by you, are highly intransparent. This results in high transaction fees, limitations (i.e. limit on foreign transfers), and high waiting times.\n",
    "    - DeFi: Any transactions are not executed by an instituion, but by code. It does what you tell it to. And it does that fast with the least amount of friction.\n",
    "\n",
    "<img src=\"https://www.dropbox.com/s/6gsizopdzo0uavd/CeFi%20vs%20DeFi.png?raw=1\" alt=\"etherscan_week1\" width=\"600\"/>\n",
    "\n",
    "Lets now further dive into possibilities and application in DeFi. We will cover the main areas with the highest amount of TVL."
   ]
  },
  {
   "cell_type": "markdown",
   "metadata": {},
   "source": [
    "## DeFi  Application Layer"
   ]
  },
  {
   "cell_type": "markdown",
   "metadata": {},
   "source": [
    "### Tokens"
   ]
  },
  {
   "cell_type": "markdown",
   "metadata": {},
   "source": [
    "#### What are tokens?  \n",
    "Tokens are smart contracts that can represent virtually anything:\n",
    "\n",
    "- reputation points in an online platform  \n",
    "- skills of a character in a game  \n",
    "- lottery tickets  \n",
    "- financial assets like a share in a company  \n",
    "- a fiat currency like USD  \n",
    "- an ounce of gold  \n",
    "- and more...   \n",
    "\n",
    "Another thing you need to know about tokens is that they are not held by accounts. Tokens exist in contracts, which function like decentralized databases that map tokens to the appropriate Ethereum address. Also, it is the token contract that governs and specifies the rules that apply to a given token. With this, developers set the name, symbol, divisibility and other important token identifiers. \n",
    "Hence, the transfer of ownership of tokens only occurs when the current owner sends a request to the contract directing it to allocate part of the balance to another Ethereum wallet address. To register this transfer on the blockchain, the owner must pay a gas fee in ETH.\n",
    "\n",
    "#### DeFi-related Tokens\n",
    "\n",
    "Last week we learnt about token standards. As a quick review: standards are like templates of solidity contracts with predefined methods. In a DeFi context we can define Token standards as a *set of rules that allow the development of cryptocurrency tokens on different blockchain protocols.*   \n",
    "\n",
    "A widely used standard for building unique tokens is **ERC-721**. We used it when we built our NFT. The following table shows the 4 most important tokens:\n",
    "\n",
    "|  Name | Created | Use Cases |\n",
    "| -- |-- |-- |\n",
    "| ERC-20 | 2015 | Fungible token standard that provides basic functionality to transfer tokens, as well as allow tokens to be approved. |\n",
    "| ERC-721 | 2018 | Non-Fungible Token standard |\n",
    "| ERC-777 | 2017 | Standard that defines all the functions required to send tokens on behalf of another address, contract or regular account. |\n",
    "| ERC-1155 | 2018 | A standard for contracts that manage multiple token types. |\n",
    "\n",
    "In the financial world on the other side we need exchangable contracts. Financial instruments are (in most cases) standardized. Think about company stocks, securities, cryptocurrencies or even money. Unlike NFTs which are unique, financial tokens are fungible or interchangeable or even tradeable. In other words: every ERC-20 token usually consists of many tokens. The owner of an ERC-20 (e.g. bitcoin, ether) token is not interested in a specific token rather than the how many of these tokens she gets. The **Mona Lisa** would be ERC721, a **dollar bill** ERC-20. \n",
    "*So what exactly is this ERC-20 standard?*\n",
    "\n",
    "##### ERC-20\n",
    "**ERC-20** was introduced in 2015 and provides basic functionality to transfer tokens, as well as allow tokens to be approved so they can be spent by another on-chain third party. \n",
    "\n",
    "**Example functionalities of ERC-20:**\n",
    "- transfer tokens from one account to another  \n",
    "- get the current token balance of an account\n",
    "- get the total supply of the token available on the network\n",
    "- approve whether an amount of token from an account can be spent by a third-party account  \n",
    "\n",
    "##### Why make an ERC-20?  \n",
    "- Governance token  \n",
    "- Secure an underlying network  \n",
    "- crate a synthetic asset  \n",
    "- et.\n",
    "\n",
    "If a Smart Contract implements the following methods and events it can be called an ERC-20 Token Contract and, once deployed, it will be responsible to keep track of the created tokens on Ethereum.\n",
    "\n",
    "##### ERC20 Methods\n",
    "|NAME:|PURPOSE:|INPUT:|TYPE:|RETURNS:|REQUIRED?|\n",
    "|--|--|--|--|--|--|\n",
    "| **name** | *returns the name of the token*|- | public view | (string) |🚫|\n",
    "| **symbol** | *returns the symbol of the token*|- | public view | (string) |🚫|\n",
    "| **decimals** |*returns the number of decimals the token uses - e.g. 8*| - | public view | (uint8) |🚫|\n",
    "| **totalSupply** |*returns the total token supply*| - | public view | (uint256) |✅|\n",
    "| **balanceOf** | *returns the account balance of `_owner`*|`_owner` (address)| public view | `balance` (uint256) |✅|\n",
    "| **transfer** | *transfer `_value` to `_to` address; MUST fire the transfer event*|`_to` (address), `_value` (uint256)| public | `success` (bool) |✅|\n",
    "| **transferFrom** | *used for withdraws, allowing contracts to transfer tokens on your behalf*|`_from` (address), `_to` (address), `_value` (uint256)| public | `success` (bool) |✅|\n",
    "|**approve**| *allows `_spender` to withdraw from your account multiple times, up to the `_value` amount*|`_spender` (address), `_value`(uint256)) |public| `success` (bool)|✅|\n",
    "| **allowance** |*returns amount which `_spender` is still allowed to withdraw from `_owner`*|_owner (address), _spender (address)| public view | remaining (uint256) |✅|\n",
    "\n",
    "##### ERC20 Events\n",
    "|NAME:|TRIGGERS:|INPUT:|REQUIRED?|\n",
    "|--|--|--|--|\n",
    "|**Transfer**|*... when tokens are transferred*| `_from` (address), `_to` (addreess), `_value` (uint256)|✅|\n",
    "|**Approval**|*... on any successful call of `approve()` method*| `_owner` (address), `_spender`(address), `_value` (uint256)| ✅|   \n",
    "\n",
    "You don't have to write your ERC-20 token from scratch. Different implementations have been written by various teams that have different trade-offs: from gas saving to improved security. You can found examples at [OpenZeppelin](https://github.com/OpenZeppelin/openzeppelin-solidity/blob/9b3710465583284b8c4c5d2245749246bb2e0094/contracts/token/ERC20/ERC20.sol).\n",
    "\n",
    "##### ETH vs ERC20  \n",
    "ETH is the native token of the Ethereum blockchain and it acts as the fuel of the network as each operation on the Ethereum blockchain needs to pay a corresponding amount of ‘gas’. Gas prices are denoted in small fractions of ether called gwei (1 gwei = 0.000000001 ETH). While ERC20 is the standard to obey in order to create applications (smart contract), the ERC20 token is serving as a currency for accessing the application.\n",
    "\n",
    "#### Other Token Standards\n",
    "The complexity of the DeFi ecosystems with many different use cases demands for more token standards to overcome the limitations of ERC-20. However, none of these standards ... \n",
    "**ERC-1363**   \n",
    "\n",
    "**ERC-1363**\n"
   ]
  },
  {
   "cell_type": "markdown",
   "metadata": {},
   "source": [
    "### Cryptocurrencies"
   ]
  },
  {
   "cell_type": "markdown",
   "metadata": {},
   "source": [
    "Cryptocurrencies are the encrypted form of a digital currency that does not depend on financial institutions to verify transactions. Cryptocurrencies are stored in digital wallets. \n",
    "\n",
    "The Top 5 Cryptocurrencies by Market Cap are:\n",
    "1. Bitcoin\n",
    "2. Ethereum\n",
    "3. Ripple\n",
    "4. Bitcoin Cash\n",
    "5. EOS\n",
    "\n",
    "\n",
    "**Different Types Of Cryptocurrencies:**\n",
    "|Type | Main feature\t| Examples |\n",
    "|--|--|--|\n",
    "|Utility tokens | Meant to provide access to platform service where they reside.\t| Funfair, Basic Attention Token, Brickblock,Timicoin, Sirin Labs Token, and Golem.|\n",
    "|Security tokens | Usage and issuance governed by financial regulation.\t| Sia Funds, Bcap (Blockchain Capital), and Science Blockchain.|\n",
    "|Payment tokens\t| Used for paying for goods and services inside and outside their own platforms. Almost every crypto falls in this category. | Monero, Ethereum, and Bitcoin.|\n",
    "|Exchange tokens | Exchange tokens are native to crypto exchange platforms.\t| Binance Coin or BNB token, Gemini USD, FTX Coin for FTX Exchange, OKB for Okex exchange, KuCoin Token, Uni token, HT for Huobi exchange, Shushi, and CRO for Crypto.com.|  \n",
    "\n",
    "\n",
    "#### Bitoin\n",
    "#### Altcoin\n",
    "##### Stablecoins"
   ]
  },
  {
   "cell_type": "markdown",
   "metadata": {},
   "source": [
    "\n",
    "### Decentralised Exchanges\n",
    "\n",
    "Decentralized exchanges or Dexes, in opposite to standard, allow for exchanging crypto assets in a completely decentralized and permissionless way without giving up the custody of the coins. There are 2 main types of dexes. \n",
    "\n",
    "1. Order-book based Decentralised Exchanges\n",
    "In the case of an order-book exchange, all trade requests will be listed as open orders for a specific trading pair. An example of an order book could be for the BTC/USD trading pair. The order book will have the corresponding buy and sell orders that customers have placed on the exchange to either buy or sell Bitcoin for US Dollars. However, it is important to note that placing an order does not guarantee someone else will agree to take the offer. If anyone on the exchange places a better offer than the one we place, then the better offer will be taken first.\n",
    "\n",
    "2. Automated Market Maker (AMM)\n",
    "The order-book system has obvious flaws (i.e. no guarantee for trade, time delay, requires high activity of open orders). Such process can be described as a peer-to-peer model (P2P). AMM's go beyond a P2P model and allow anyone to make instantaneous exchanges between two pairs of assets by using a model called peer-to-pool-to-peer (P2Pool2P). Instead of requiring individuals to create open orders, each token pair (i.e. ETH/BTC) is actually underpinned by a liquidity pool. Liquidity pools are smart contracts that hold balances of two unique tokens and enforce rules around depositing and withdrawing them. You can literally imagine them as a pool of money that holds both tokens, and anyone can take out one currency as long the other is put back into the pool. These pools are created by liquidity providers who provide liquidity by depositing (staking) their assets. As a return, they earn fees from transactions on the DeFi platform they provide liquidity on. The transaction fees are distributed proportionally to all the liquidity providers in the pool, so the more crypto assets you stake the more fees you'll earn.\n",
    "\n",
    "<img src=\"https://www.dropbox.com/s/rxhzowpqek1dcb2/liqudity_pools.png?raw=1\" alt=\"etherscan_week1\" width=\"1000\"/>\n",
    "\n",
    "Later on, we will dive into Uniswap, one of the most popular AMM protocols in DeFi. And inside the workbook, you will create your own liquidity pool using your own token."
   ]
  },
  {
   "cell_type": "markdown",
   "metadata": {},
   "source": [
    "### Lending & Borrowing\n",
    "\n",
    "In DeFi, the concept is simple. A smart contract stores the funds provided by lenders, and manages the payout to borrowers. Lenders receive an interest on their deposited amount, while borrowers have to pay an interest on the amount they borrowed. Any user can become a borrower and lender without having to hand over personal information, identity or undergo KYC (know your customer) procedures. At any time lenders can redeem the deposited assets and borrows can pay back part or all of their debt.\n",
    "\n",
    "How can we ensure that the money is being paid back?\n",
    "\n",
    "In order to **borrow**, a user traditionally has to provide a collateral that holds value. The collateral could be a cryptocurrency, or in some cases even an NFT. Generally, most loans are overcollaterals, which means that the borrower has to provide assets that are worth more than the actual loan. This depends on the collateral factor of the collateral. In some cases it can be 75%, which implies that for 100% value of the collateral, the borrower can receive 75% in form of a loan. Additionally, the amount that can be borrowed also depends on the amount that is locked inside the smart contract. Normally, in active markets, there should be enough liquidity, however, it can happen that the locked assets provided by lenders are not enough to satisfy the demand by the borrowers. Liquidity is provided by liquidity pools, however oppositely to a \"trading pool\" used in a decentralised exchange, we now work with \"lending pools\" that simply do not require two pairs of assets inside one pool.\n",
    "\n",
    "Why would anyone borrow if that means more value has to be employed as collateral? Think about it for a little.\n",
    "\n",
    "Selling your assets means closing your position on that particular asset. Hence, if you are long on the asset, you would not be entitled to the potential upside value gain. By borrowing you are able to obtain liquidity (working capital) without selling your assets.\n",
    "\n",
    "The **lender's** interest heavily depends on that balance. In fact, the interest rate is determined by the ratio that exists between the supplied and borrowed tokens in a particular market. The higher the demand to borrow for specific token, the higher its interest. This interest is calculated as the APY (annual percentage yield). It is important to mention, that the lender receives the native token as interest of the DeFi protocol that is being used.\n",
    "\n",
    "<img src=\"https://www.dropbox.com/s/sgk23v6wypoe3m2/borrowing_lending.png?raw=1\" alt=\"etherscan_week1\" width=\"600\"/>\n"
   ]
  },
  {
   "cell_type": "markdown",
   "metadata": {},
   "source": [
    "### Oracles"
   ]
  },
  {
   "cell_type": "markdown",
   "metadata": {},
   "source": [
    "As you might remind in our NFT week when we build our NFT collection with random words we *faked* randomness by hashing a string and using the hash as a pseudo-random number. \n",
    "The blockchain per se is deterministic: it cannot create real random numbers. \n",
    "The same problem arise when you build financial DAPs: how can you access reliable data from outside the blockchain like current exchange rates, stock prices, etc.\n",
    "The solution to this are **oracles**.\n",
    "\n",
    "The word \"oracle\" originates in Greek mythological stories and refers to those who can communicate directly with god. \n",
    "\n",
    "Oracles are platforms that provide information about the real world to the blockchain.\n",
    "\n",
    "For a smart contract to access e.g. weather, stock prices, political events, etc. an external gateway is required. Oracles serve as a gateway, processing external and deterministic data and converting it to a format that the blockchain can understand.\n",
    "\n",
    "What is a Blockchain Oracle Problem?\n",
    "But how can the blockchain verify that the information provided by the oracles are correct? This is called the **Oracle Problem**.\n",
    "\n",
    "Chainlink as a solution\n",
    "Chainlink is defined as a decentralized network of oracles that enables smart contracts to interact with data and services outside the blockchain securely. Chainlink connects real-world data to blockchain-based smart contracts."
   ]
  },
  {
   "cell_type": "markdown",
   "metadata": {},
   "source": [
    "## DeFi Protocols\n",
    "Having covered a lot of theory so far, lets dive into some of the protocols that provide the financial services that we have seen. When jumping into DeFi, one must know about two of the most dominant DeFi protocols. MakerDAO and Uniswap. Both played a major role in developing DeFi as a whole."
   ]
  },
  {
   "cell_type": "markdown",
   "metadata": {},
   "source": [
    "### MakerDAO\n",
    "MakerDAO was founded in 2015, and is a lending and borrowing protocol. It is arguably one of the most successful projects within the Ethereum ecosystem and the The MakerDAO protocol holds more TVL than any other DeFi protocol. In other words, inside the MakerDao smart contract 9.45b USD is locked. \n",
    "\n",
    "It allows users to lock in collateral such as ETH, and receive the platforms native DAI token in return. DAI is a stable coin that is pegged on the US Dollar. This is highly fundamental, because it provides stability inside a highly volatile market. What makes it unique is each DAI is backed by ETH instead of a 3rd party claiming to have the required collateral. Since ETH is volatile this poses some interesting challenges to maintain the peg.\n",
    "\n",
    "The following describes how to interact with the MakerDAO protocol. At first, you will deposit/send ETH to MakerDAO’s smart contract, creating a Collateralised Debt Position (CDP).\n",
    "\n",
    "<img src=\"https://www.dropbox.com/s/xoxmbc8zlv2ehya/MakerDAO_Step1.png?raw=1\" alt=\"makerdao_step1\" width=\"600\"/>\n",
    "\n",
    "Say you deposited 1 ETH (worth $100), this will allow you to take up to 40 DAI (assuming a 150% collateralisation rate $100/1.50) against your $100. However, if the price of ETH drops below $100 your CDP will be forcefully closed. This means that your position will be liquidated (meaning the assets in your CDP are automatically sold off to pay back your debt). To stop this from happening you need to put in more Ether or take out less DAI in the first place. This is to ensure there’s always enough capital locked against the amount of money being taken out.\n",
    "\n",
    "<img src=\"https://www.dropbox.com/s/omew8sq6pl867va/MakerDAO_Step2.png?raw=1\" alt=\"makerdao_step2\" width=\"600\"/>\n",
    "\n",
    "If you want your Ether back, you need to pay back the amount you took out with the addition of a minor fee.\n",
    "\n",
    "<img src=\"https://www.dropbox.com/s/30jcax27uwfrj49/MakerDAO_Step3.png?raw=1\" alt=\"makerdao_step3\" width=\"600\"/>\n",
    "\n",
    "DAI is essential because it allows people to generate Dai and pay for goods and services in a stable currency without having to sell their underlying collateral asset (ETH, wBTC, etc.). More and more instituitions accept stablecoins such as DAI, salaries can be paid out using it, since it is stable."
   ]
  },
  {
   "cell_type": "markdown",
   "metadata": {},
   "source": [
    "### Uniswap\n",
    "\n",
    "Uniswap is the largest decentralized exchange (or DEX) operating on the Ethereum blockchain. It allows users anywhere in the world to trade crypto without an intermediary.\n",
    "\n",
    "As previously explained, it utilises liquidity pools to ensure liquidity. It currently supports 50 different currency pair liquidity pools (can be found [here](https://info.uniswap.org/#/pools)).\n",
    "\n",
    "Anyone is able to create a liqudity pool, and this is exactly what we will do inside the workbook to help you to properly understand the mechanisms of uniswap. This will obviously all the faciliated by a testnet rather than on the mainnet."
   ]
  },
  {
   "cell_type": "markdown",
   "metadata": {},
   "source": [
    "## Future Developments"
   ]
  },
  {
   "cell_type": "markdown",
   "metadata": {},
   "source": [
    "### Cryptos as legal tender?  \n",
    "**China**  \n",
    "Cryptocurrencies are not a legal tender and cryptocurrency exchanges are illegal in China.\n",
    "The People’s Bank of China (PBOC) banned financial institutions from handling Bitcoin transactions in 2013 and went further by banning ICOs and domestic cryptocurrency exchanges in 2017. However, the PBOC has been working on introducing an official digital currency (digital Yuan) since 2012. In late 2020, the Chinese government drafted a law that conferred legal status on PBOC’s digital Yuan: the legislation is expected to result in the demise of the fiat currency, and the introduction of currency controls covering exchanges and currency fungibility. \n",
    "\n",
    "**El Salvador and CAR**    \n",
    "A widely discussed field is wether cryptocurrencies can replace conventional currencies (a.k.a. fiat money) or not.\n",
    "In September 2021, **El Salvador** became the first country in the world to make bitcoin legal tender, and all economic agents were required to accept bitcoin for all payments. The Salvadorean government also launched an app, \"Chivo Wallet\", which allowed users to digitally trade both bitcoin and dollars, and gave major incentives to download it. In April 2022 **Central African Republic (CAR)** followed El Salvador to approve Bitcoin as legal tender.\n",
    "Proponents argue that in a country where few people have bank accounts, the adoption of Bitcoin will help encourage savings and offer a safe place to store and transfer money.   \n",
    "But an estimate from 2020 showed that 9 out of 10 Central Africans do not have access to the internet - a prerequisite for using Bitcoin."
   ]
  },
  {
   "cell_type": "markdown",
   "metadata": {},
   "source": [
    "---\n",
    "# 📚 Reference\n",
    "\n",
    "**Token Standards**\n",
    "- crypto.com, (2022). [What are Token Standards? An Overview](https://crypto.com/university/what-are-token-standards) 📄  \n",
    "- OpenZeppelin. [ERC 20](https://docs.openzeppelin.com/contracts/4.x/erc20) 📄  \n",
    "- Fabian Vogelsteller & Vitalik Buterin, (2015). [EIP-20: Token Standard](https://eips.ethereum.org/EIPS/eip-20) 📄 \n",
    "\n",
    "**Decentralised Exchanges**\n",
    "- [Exchange Order Book](https://academy.shrimpy.io/post/what-is-an-exchange-order-book)\n",
    "- [Uniswap Docs](https://docs.uniswap.org/)\n",
    "\n",
    "**Oracle Problem**\n",
    "- Giulio Caldarelli, (2020). [Understanding the Blockchain Oracle Problem: A Call for Action](https://doi.org/10.3390/info11110509) 📄  \n",
    "- Akash Takyar. [What is Blockchain Oracle Problem and how Chainlin solves it?](https://www.leewayhertz.com/chainlink-solving-blockchain-oracle-problem/) 📄  \n",
    "\n",
    "**Future Developments**\n",
    "- Fernando E. Alvarez, David Argente & Diana Van Patten, (2022). [Are Cryptocurrencies Currencies? Bitcoin as Legal Tender in El Salvador](https://www.nber.org/papers/w29968) 📄    \n",
    "- BBC News, (2022). [Why the Central African Republic adopted Bitcoin](https://www.bbc.com/news/world-africa-61565485) 📄   \n",
    "\n",
    "**Tutorials**\n",
    "- Patrick Collins, (2022). [Learn Blockchain, Solidity, and Full Stack Web3 Development with JavaScript, Chapter 13: DeFi & Aave](https://youtu.be/gyMwXuJrbJQ?t=69374) 📺 🏋️‍♂️    \n",
    "- Patrick Collins, (2021).[Solidity, Blockchain, and Smart Contract Course – Beginner to Expert Python Tutorial, Chapter 10: DeFi & Aave](https://youtu.be/M576WGiDBdQ?t=30880) 📺 🏋️‍♂️    "
   ]
  },
  {
   "cell_type": "markdown",
   "metadata": {},
   "source": []
  }
 ],
 "metadata": {
  "interpreter": {
   "hash": "ea271a8d55864f2db1b3c7d9182e9261e5d717f60008da9ec5479eef0acaf401"
  },
  "kernelspec": {
   "display_name": "Python 3.9.10 ('blockchain39')",
   "language": "python",
   "name": "python3"
  },
  "language_info": {
   "codemirror_mode": {
    "name": "ipython",
    "version": 3
   },
   "file_extension": ".py",
   "mimetype": "text/x-python",
   "name": "python",
   "nbconvert_exporter": "python",
   "pygments_lexer": "ipython3",
   "version": "3.9.10"
  },
  "orig_nbformat": 4
 },
 "nbformat": 4,
 "nbformat_minor": 2
}
