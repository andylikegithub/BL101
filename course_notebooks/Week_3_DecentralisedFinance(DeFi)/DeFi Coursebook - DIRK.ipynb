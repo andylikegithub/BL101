{
 "cells": [
  {
   "cell_type": "markdown",
   "metadata": {},
   "source": [
    "[![Open In Colab](https://colab.research.google.com/assets/colab-badge.svg)](https://colab.research.google.com/github/unpackAI/BL101/blob/main/course_notebooks/Week_3_DecentralisedFinance%28DeFi%29/03_Decentralised_Finance%28DeFi%29_Coursebook.ipynb)"
   ]
  },
  {
   "cell_type": "markdown",
   "metadata": {},
   "source": [
    "# 💻 DeFi Coursebook - DIRK"
   ]
  },
  {
   "cell_type": "markdown",
   "metadata": {},
   "source": [
    "---\n",
    "# DeFi\n",
    "---"
   ]
  },
  {
   "cell_type": "markdown",
   "metadata": {},
   "source": [
    "## Intro to DeFi"
   ]
  },
  {
   "cell_type": "markdown",
   "metadata": {},
   "source": [
    "## DeFi  Application Layer"
   ]
  },
  {
   "cell_type": "markdown",
   "metadata": {},
   "source": [
    "### Tokens"
   ]
  },
  {
   "cell_type": "markdown",
   "metadata": {},
   "source": [
    "#### What are tokens?  \n",
    "Tokens are smart contracts that can represent virtually anything:\n",
    "\n",
    "- reputation points in an online platform  \n",
    "- skills of a character in a game  \n",
    "- lottery tickets  \n",
    "- financial assets like a share in a company  \n",
    "- a fiat currency like USD  \n",
    "- an ounce of gold  \n",
    "- and more...   \n",
    "\n",
    "Another thing you need to know about tokens is that they are not held by accounts. Tokens exist in contracts, which function like decentralized databases that map tokens to the appropriate Ethereum address. Also, it is the token contract that governs and specifies the rules that apply to a given token. With this, developers set the name, symbol, divisibility and other important token identifiers. \n",
    "Hence, the transfer of ownership of tokens only occurs when the current owner sends a request to the contract directing it to allocate part of the balance to another Ethereum wallet address. To register this transfer on the blockchain, the owner must pay a gas fee in ETH.\n",
    "\n",
    "#### DeFi-related Tokens\n",
    "\n",
    "Last week we learnt about token standards. As a quick review: standards are like templates of solidity contracts with predefined methods. In a DeFi context we can define Token standards as a *set of rules that allow the development of cryptocurrency tokens on different blockchain protocols.*   \n",
    "\n",
    "A widely used standard for building unique tokens is **ERC-721**. We used it when we built our NFT. The following table shows the 4 most important tokens:\n",
    "\n",
    "|  Name | Created | Use Cases |\n",
    "| -- |-- |-- |\n",
    "| ERC-20 | 2015 | Fungible token standard that provides basic functionality to transfer tokens, as well as allow tokens to be approved. |\n",
    "| ERC-721 | 2018 | Non-Fungible Token standard |\n",
    "| ERC-777 | 2017 | Standard that defines all the functions required to send tokens on behalf of another address, contract or regular account. |\n",
    "| ERC-1155 | 2018 | A standard for contracts that manage multiple token types. |\n",
    "\n",
    "In the financial world on the other side we need exchangable contracts. Financial instruments are (in most cases) standardized. Think about company stocks, securities, cryptocurrencies or even money. Unlike NFTs which are unique, financial tokens are fungible or interchangeable or even tradeable. In other words: every ERC-20 token usually consists of many tokens. The owner of an ERC-20 (e.g. bitcoin, ether) token is not interested in a specific token rather than the how many of these tokens she gets. The **Mona Lisa** would be ERC721, a **dollar bill** ERC-20. \n",
    "*So what exactly is this ERC-20 standard?*\n",
    "\n",
    "##### ERC-20\n",
    "**ERC-20** was introduced in 2015 and provides basic functionality to transfer tokens, as well as allow tokens to be approved so they can be spent by another on-chain third party. \n",
    "\n",
    "**Example functionalities of ERC-20:**\n",
    "- transfer tokens from one account to another  \n",
    "- get the current token balance of an account\n",
    "- get the total supply of the token available on the network\n",
    "- approve whether an amount of token from an account can be spent by a third-party account  \n",
    "\n",
    "##### Why make an ERC-20?  \n",
    "- Governance token  \n",
    "- Secure an underlying network  \n",
    "- crate a synthetic asset  \n",
    "- et.\n",
    "\n",
    "If a Smart Contract implements the following methods and events it can be called an ERC-20 Token Contract and, once deployed, it will be responsible to keep track of the created tokens on Ethereum.\n",
    "\n",
    "##### ERC20 Methods\n",
    "|NAME:|PURPOSE:|INPUT:|TYPE:|RETURNS:|REQUIRED?|\n",
    "|--|--|--|--|--|--|\n",
    "| **name** | *returns the name of the token*|- | public view | (string) |🚫|\n",
    "| **symbol** | *returns the symbol of the token*|- | public view | (string) |🚫|\n",
    "| **decimals** |*returns the number of decimals the token uses - e.g. 8*| - | public view | (uint8) |🚫|\n",
    "| **totalSupply** |*returns the total token supply*| - | public view | (uint256) |✅|\n",
    "| **balanceOf** | *returns the account balance of `_owner`*|`_owner` (address)| public view | `balance` (uint256) |✅|\n",
    "| **transfer** | *transfer `_value` to `_to` address; MUST fire the transfer event*|`_to` (address), `_value` (uint256)| public | `success` (bool) |✅|\n",
    "| **transferFrom** | *used for withdraws, allowing contracts to transfer tokens on your behalf*|`_from` (address), `_to` (address), `_value` (uint256)| public | `success` (bool) |✅|\n",
    "|**approve**| *allows `_spender` to withdraw from your account multiple times, up to the `_value` amount*|`_spender` (address), `_value`(uint256)) |public| `success` (bool)|✅|\n",
    "| **allowance** |*returns amount which `_spender` is still allowed to withdraw from `_owner`*|_owner (address), _spender (address)| public view | remaining (uint256) |✅|\n",
    "\n",
    "##### ERC20 Events\n",
    "|NAME:|TRIGGERS:|INPUT:|REQUIRED?|\n",
    "|--|--|--|--|\n",
    "|**Transfer**|*... when tokens are transferred*| `_from` (address), `_to` (addreess), `_value` (uint256)|✅|\n",
    "|**Approval**|*... on any successful call of `approve()` method*| `_owner` (address), `_spender`(address), `_value` (uint256)| ✅|   \n",
    "\n",
    "You don't have to write your ERC-20 token from scratch. Different implementations have been written by various teams that have different trade-offs: from gas saving to improved security. You can found examples at [OpenZeppelin](https://github.com/OpenZeppelin/openzeppelin-solidity/blob/9b3710465583284b8c4c5d2245749246bb2e0094/contracts/token/ERC20/ERC20.sol).\n",
    "\n",
    "##### ETH vs ERC20  \n",
    "ETH is the native token of the Ethereum blockchain and it acts as the fuel of the network as each operation on the Ethereum blockchain needs to pay a corresponding amount of ‘gas’. Gas prices are denoted in small fractions of ether called gwei (1 gwei = 0.000000001 ETH). While ERC20 is the standard to obey in order to create applications (smart contract), the ERC20 token is serving as a currency for accessing the application.\n",
    "\n",
    "#### Other Token Standards\n",
    "The complexity of the DeFi ecosystems with many different use cases demands for more token standards to overcome the limitations of ERC-20. However, none of these standards ... \n",
    "**ERC-1363**   \n",
    "\n",
    "**ERC-1363**\n"
   ]
  },
  {
   "cell_type": "markdown",
   "metadata": {},
   "source": [
    "### Cryptocurrencies"
   ]
  },
  {
   "cell_type": "markdown",
   "metadata": {},
   "source": [
    "Cryptocurrencies are the encrypted form of a digital currency that does not depend on financial institutions to verify transactions. Cryptocurrencies are stored in digital wallets. \n",
    "\n",
    "The Top 5 Cryptocurrencies by Market Cap are:\n",
    "1. Bitcoin\n",
    "2. Ethereum\n",
    "3. Ripple\n",
    "4. Bitcoin Cash\n",
    "5. EOS\n",
    "\n",
    "\n",
    "**Different Types Of Cryptocurrencies:**\n",
    "|Type | Main feature\t| Examples |\n",
    "|--|--|--|\n",
    "|Utility tokens | Meant to provide access to platform service where they reside.\t| Funfair, Basic Attention Token, Brickblock,Timicoin, Sirin Labs Token, and Golem.|\n",
    "|Security tokens | Usage and issuance governed by financial regulation.\t| Sia Funds, Bcap (Blockchain Capital), and Science Blockchain.|\n",
    "|Payment tokens\t| Used for paying for goods and services inside and outside their own platforms. Almost every crypto falls in this category. | Monero, Ethereum, and Bitcoin.|\n",
    "|Exchange tokens | Exchange tokens are native to crypto exchange platforms.\t| Binance Coin or BNB token, Gemini USD, FTX Coin for FTX Exchange, OKB for Okex exchange, KuCoin Token, Uni token, HT for Huobi exchange, Shushi, and CRO for Crypto.com.|  \n",
    "\n",
    "\n",
    "#### Bitoin\n",
    "#### Altcoin\n",
    "##### Stablecoins"
   ]
  },
  {
   "cell_type": "markdown",
   "metadata": {},
   "source": [
    "### Oracles"
   ]
  },
  {
   "cell_type": "markdown",
   "metadata": {},
   "source": [
    "As you might remind in our NFT week when we build our NFT collection with random words we *faked* randomness by hashing a string and using the hash as a pseudo-random number. \n",
    "The blockchain per se is deterministic: it cannot create real random numbers. \n",
    "The same problem arise when you build financial DAPs: how can you access reliable data from outside the blockchain like current exchange rates, stock prices, etc.\n",
    "The solution to this are **oracles**.\n",
    "\n",
    "The word \"oracle\" originates in Greek mythological stories and refers to those who can communicate directly with god. \n",
    "\n",
    "Oracles are platforms that provide information about the real world to the blockchain.\n",
    "\n",
    "For a smart contract to access e.g. weather, stock prices, political events, etc. an external gateway is required. Oracles serve as a gateway, processing external and deterministic data and converting it to a format that the blockchain can understand.\n",
    "\n",
    "What is a Blockchain Oracle Problem?\n",
    "But how can the blockchain verify that the information provided by the oracles are correct? This is called the **Oracle Problem**.\n",
    "\n",
    "Chainlink as a solution\n",
    "Chainlink is defined as a decentralized network of oracles that enables smart contracts to interact with data and services outside the blockchain securely. Chainlink connects real-world data to blockchain-based smart contracts."
   ]
  },
  {
   "cell_type": "code",
   "execution_count": null,
   "metadata": {
    "vscode": {
     "languageId": "plaintext"
    }
   },
   "outputs": [],
   "source": []
  },
  {
   "cell_type": "markdown",
   "metadata": {},
   "source": [
    "## Future Developments"
   ]
  },
  {
   "cell_type": "markdown",
   "metadata": {},
   "source": [
    "### Cryptos as legal tender?  \n",
    "**China**  \n",
    "Cryptocurrencies are not a legal tender and cryptocurrency exchanges are illegal in China.\n",
    "The People’s Bank of China (PBOC) banned financial institutions from handling Bitcoin transactions in 2013 and went further by banning ICOs and domestic cryptocurrency exchanges in 2017. However, the PBOC has been working on introducing an official digital currency (digital Yuan) since 2012. In late 2020, the Chinese government drafted a law that conferred legal status on PBOC’s digital Yuan: the legislation is expected to result in the demise of the fiat currency, and the introduction of currency controls covering exchanges and currency fungibility. \n",
    "\n",
    "**El Salvador and CAR**    \n",
    "A widely discussed field is wether cryptocurrencies can replace conventional currencies (a.k.a. fiat money) or not.\n",
    "In September 2021, **El Salvador** became the first country in the world to make bitcoin legal tender, and all economic agents were required to accept bitcoin for all payments. The Salvadorean government also launched an app, \"Chivo Wallet\", which allowed users to digitally trade both bitcoin and dollars, and gave major incentives to download it. In April 2022 **Central African Republic (CAR)** followed El Salvador to approve Bitcoin as legal tender.\n",
    "Proponents argue that in a country where few people have bank accounts, the adoption of Bitcoin will help encourage savings and offer a safe place to store and transfer money.   \n",
    "But an estimate from 2020 showed that 9 out of 10 Central Africans do not have access to the internet - a prerequisite for using Bitcoin."
   ]
  },
  {
   "cell_type": "markdown",
   "metadata": {},
   "source": [
    "---\n",
    "# 📚 Reference\n",
    "\n",
    "**Token Standards**\n",
    "- crypto.com, (2022). [What are Token Standards? An Overview](https://crypto.com/university/what-are-token-standards) 📄  \n",
    "- OpenZeppelin. [ERC 20](https://docs.openzeppelin.com/contracts/4.x/erc20) 📄  \n",
    "- Fabian Vogelsteller & Vitalik Buterin, (2015). [EIP-20: Token Standard](https://eips.ethereum.org/EIPS/eip-20) 📄 \n",
    "\n",
    "\n",
    "**Oracle Problem**\n",
    "- Giulio Caldarelli, (2020). [Understanding the Blockchain Oracle Problem: A Call for Action](https://doi.org/10.3390/info11110509) 📄  \n",
    "- Akash Takyar. [What is Blockchain Oracle Problem and how Chainlin solves it?](https://www.leewayhertz.com/chainlink-solving-blockchain-oracle-problem/) 📄  \n",
    "\n",
    "**Future Developments**\n",
    "- Fernando E. Alvarez, David Argente & Diana Van Patten, (2022). [Are Cryptocurrencies Currencies? Bitcoin as Legal Tender in El Salvador](https://www.nber.org/papers/w29968) 📄    \n",
    "- BBC News, (2022). [Why the Central African Republic adopted Bitcoin](https://www.bbc.com/news/world-africa-61565485) 📄   \n",
    "\n",
    "**Tutorials**\n",
    "- Patrick Collins, (2022). [Learn Blockchain, Solidity, and Full Stack Web3 Development with JavaScript, Chapter 13: DeFi & Aave](https://youtu.be/gyMwXuJrbJQ?t=69374) 📺 🏋️‍♂️    \n",
    "- Patrick Collins, (2021).[Solidity, Blockchain, and Smart Contract Course – Beginner to Expert Python Tutorial, Chapter 10: DeFi & Aave](https://youtu.be/M576WGiDBdQ?t=30880) 📺 🏋️‍♂️    "
   ]
  },
  {
   "cell_type": "markdown",
   "metadata": {},
   "source": []
  }
 ],
 "metadata": {
  "interpreter": {
   "hash": "ea271a8d55864f2db1b3c7d9182e9261e5d717f60008da9ec5479eef0acaf401"
  },
  "kernelspec": {
   "display_name": "Python 3.9.10 ('blockchain39')",
   "language": "python",
   "name": "python3"
  },
  "language_info": {
   "codemirror_mode": {
    "name": "ipython",
    "version": 3
   },
   "file_extension": ".py",
   "mimetype": "text/x-python",
   "name": "python",
   "nbconvert_exporter": "python",
   "pygments_lexer": "ipython3",
   "version": "3.9.10"
  },
  "orig_nbformat": 4
 },
 "nbformat": 4,
 "nbformat_minor": 2
}
