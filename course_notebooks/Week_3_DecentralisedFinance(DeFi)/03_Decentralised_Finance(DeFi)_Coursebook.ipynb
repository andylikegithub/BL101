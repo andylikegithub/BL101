{
 "cells": [
  {
   "cell_type": "markdown",
   "metadata": {},
   "source": [
    "[![Open In Colab](https://colab.research.google.com/assets/colab-badge.svg)](https://colab.research.google.com/github/unpackAI/BL101/blob/main/course_notebooks/Week_3_DecentralisedFinance%28DeFi%29/03_Decentralised_Finance%28DeFi%29_Coursebook.ipynb)"
   ]
  },
  {
   "cell_type": "markdown",
   "metadata": {},
   "source": [
    "# 💻 Welcome to Week 3 of the BC101 Bootcamp \n",
    "\n",
    "You have successfully finished the first two weeks! Having learned more about NFTs it is time to dive into the biggest area of application in all of Blockchain: DeFi.\n",
    "\n",
    "## 📕 Learning Objectives\n",
    "\n",
    "* What is DeFi and why is the blockchain particularly suited for financial transactions.\n",
    "* What are popular DeFi protocols and how do they work?\n",
    "* Build your own DeFi protocol and interact with it via your own wallet.\n",
    "\n",
    "## 📅 Weekly Progress\n",
    "\n",
    "|Week | Content | Learning Objectives|\n",
    "|:--- |:--- | :--- |\n",
    "| 1 | Hello Blockchain World | Get to know more about your classmates, the mentors, and learn about the fundamental concepts of the Blockchain, how it works, and write your first smart contract.|\n",
    "| 2 | Non-fungible Tokens (NFTs)| Learn more about Non-fungible Tokens (NFTs) and go through the protocols that make them unique and valuable. Create your own NFT collection, deploy it to a Testnet and view it on OpenSea. |\n",
    "| **3** | **Decentralised Finance (DeFi)**| **Understand the major innovation behind DeFi, learn about the most popular DeFi protocols, and create your own cryptocurrency and DeFi project for others to interact with.** |\n",
    "| 4 | GameFi & SocialFi | Discover a new field in Blockchain that has experienced explosive growth and tapped into concepts such as play-to-earn that currently push the boundaries of blockchain technology application beyond finance. Integrate your own SocialFi project with your DeFi and NFT project. |\n",
    "| 5 | Decentralised Autonomous Orgaizations (DAOs) & Personal Project  | Find out why DAOs are the industries standard as the governing entity for blockchain-based organizations and how they handle voting mechanisms and tokenomics to make the entire organization function. Go through the process of building your own DAO, and pitch your own Blockchain project to the class. Successfully graduate from the Bootcamp and receive your Blockchain certification. |"
   ]
  },
  {
   "cell_type": "markdown",
   "metadata": {},
   "source": [
    "---\n",
    "# ToC\n",
    "---"
   ]
  },
  {
   "cell_type": "markdown",
   "metadata": {},
   "source": [
    "**Content Logic:**\n",
    "\n",
    "- Coursebook - Students learn about DeFi and interact with defi protocols. (This makes the coursebook also more practical)\n",
    "    - Will create a Loom for interaction with protocols.\n",
    "- Workbook - Students create their own token and create a liquidity pool on uniswap.\n",
    "    - Interact with your wallet\n",
    "    - DeFi-specific Coins\n",
    "        - ERC-20\n",
    "        - \n",
    "    - Code to be used: https://github.com/PatrickAlphaC/hardhat-erc20-fcc\n",
    "    - Possibly Loom as well.\n",
    "\n",
    "\n",
    "**Content Outline DeFi Week:**\n",
    "- Intro to DeFi\n",
    "    - What is DeFi?\n",
    "    - Difference to traditional finance? (This is important how the experience differs from a user perspective)\n",
    "- DeFi  Application Layer\n",
    "    - Tokens\n",
    "        - What are Tokens?\n",
    "        - DeFi-related Tokens\n",
    "            - ERC-20\n",
    "            - Other Tokens\n",
    "    - Cryptocurrencies\n",
    "        - Bitoin\n",
    "        - Altcoin\n",
    "            - Stablecoins\n",
    "        \n",
    "    - Lending and Borrowing\n",
    "    - Decentralised Exchanges\n",
    "        - AMM\n",
    "        - order book based\n",
    "    - derivatives\n",
    "    - margin trading\n",
    "    - Insurance\n",
    "    - Oracles\n",
    "- DeFi Protocols (in this section we will not only explain but also interact with these protocols)\n",
    "    - MakerDAO\n",
    "    - UniSwap\n",
    "- DeFi Risks & Potentials\n",
    "- Future developments\n",
    "    - Cryptos as legal tender?\n",
    "\n",
    "**Source and inspiration:**\n",
    "1. https://www.youtube.com/watch?time_continue=733&v=k9HYC0EJU6E&feature=emb_title\n",
    "2. https://www.youtube.com/watch?v=PT72hAbm2Eo\n"
   ]
  },
  {
   "cell_type": "markdown",
   "metadata": {},
   "source": []
  },
  {
   "cell_type": "markdown",
   "metadata": {},
   "source": [
    "---"
   ]
  },
  {
   "cell_type": "markdown",
   "metadata": {},
   "source": [
    "# 📚 Reference"
   ]
  }
 ],
 "metadata": {
  "interpreter": {
   "hash": "ea271a8d55864f2db1b3c7d9182e9261e5d717f60008da9ec5479eef0acaf401"
  },
  "kernelspec": {
   "display_name": "Python 3.9.10 ('blockchain39')",
   "language": "python",
   "name": "python3"
  },
  "language_info": {
   "codemirror_mode": {
    "name": "ipython",
    "version": 3
   },
   "file_extension": ".py",
   "mimetype": "text/x-python",
   "name": "python",
   "nbconvert_exporter": "python",
   "pygments_lexer": "ipython3",
   "version": "3.9.10"
  },
  "orig_nbformat": 4
 },
 "nbformat": 4,
 "nbformat_minor": 2
}
