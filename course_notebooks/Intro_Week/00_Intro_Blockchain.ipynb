{
 "cells": [
  {
   "cell_type": "markdown",
   "metadata": {},
   "source": [
    "[![Open In Colab](https://colab.research.google.com/assets/colab-badge.svg)](https://colab.research.google.com/drive/1Ul1OjDmr_WF_F2mES17AYiMlG2Un3QXn?usp=sharing)"
   ]
  },
  {
   "cell_type": "markdown",
   "metadata": {},
   "source": [
    "# Welcome to the unpackBC Bootcamp!\n",
    "\n",
    "**Congratulations** on being part of the unpackBC Bootcamp. We are super excited to learn and progress with you throughout the upcoming weeks. This course will put you ahead of the curve and kick-off your understanding in Blockchain. In the next 5 weeks we will dive into the main areas of Blockchain applications (Cryptocurrencies, NFTs, DeFi and more). In each area you will build your own little project and understand what potentials and limitations come along with each."
   ]
  },
  {
   "cell_type": "markdown",
   "metadata": {},
   "source": [
    "### 📕 Learning Objectives of this Notebook\n",
    "\n",
    "* Understand the context of the Bootcamp (i.e. organizer, requirements structure, etc.)\n",
    "* Learn how to interact with and use Google Collab.\n",
    "* Dive into a brief introduction of the foundation of the Blockchain.\n",
    "* Interact with a blockchain."
   ]
  },
  {
   "cell_type": "markdown",
   "metadata": {},
   "source": [
    "## Who is unpack?\n",
    "\n",
    "unpackAI is an educational platform for learning and applying AI and Blockchain in life and work in order to stay relevant in this ever-changing world. unpackAI explores new forms of community engagement and is determined to build a decentralized platform for life-long learners, educators, and contributors. You can find out more about us via our [Website](https://unpackai.com/) or [LinkedIn](https://www.linkedin.com/company/14590931/admin/)."
   ]
  },
  {
   "cell_type": "markdown",
   "metadata": {},
   "source": [
    "## Bootcamp Code of Conduct\n",
    "\n",
    "1. **Be a Student** - We are here to learn so do not hold back any questions or problems that you are facing. We can help.\n",
    "2. **Be persistent** - In order to achieve your learning goals you will have to persistently invest enough time to complete all learning materials and deliverables.\n",
    "3. **Be respectful** - Everyone who is part of this Bootcamp is here to help you. We ask you to be respectful to your fellow students and mentors, and to stick to the class timings."
   ]
  },
  {
   "cell_type": "markdown",
   "metadata": {},
   "source": [
    "## The unpackAI Teaching Philosophy\n",
    "\n",
    "Over the next 5 weeks you will dive into a field that will be partially or completely new to you. Some code and content that we will utilize might not be very intuitive right away, this, however, is normal.\n",
    "\n",
    "At unpack, we have adopted, a top-down teaching philosophy, that challenges you to dive into the application of Blockchain, before you might fully understand how the entire process works.\n",
    "\n",
    "We will provide you with the instructions, background, and high-level explanations. Your youself will tests your newfound knowledge through application, building greater understanding and clarifying confusion along the way.\n",
    "\n",
    "Even though this is very effective, you might feel uncomfortable, and feel the need to deep dive into a particular topic. We ask you to stick along the content provided make yourself comfortable to learn by doing. For that, our mentors will also help you along the way try to simplify complex concepts to focus and understand the core and not the messy details."
   ]
  },
  {
   "cell_type": "markdown",
   "metadata": {},
   "source": [
    "## Bootcamp Structure\n",
    "\n",
    "Below you can find out more about the entire Bootcamp structure divided into weeks. For every week we have a clear learning objective, paired with a class coursebook, and workbook. In total you will have to invest around 10 hours per week.\n",
    "\n",
    "\n",
    "|Week | Content | Learning Objectives|\n",
    "|:--- |:--- | :--- |\n",
    "|**0** | **Warm-up & Intro** | **Get to know more about your classmates, the mentors, and learn about the fundamental concepts of the Blockchain, how it works, its limitations, and potential.**\n",
    "|1 |Hello Blockchain World | Dive into the technology behind the Blockchain, and learn about how key aspect such as hashing, consensus and smart contracts. Compare different blockchains and their advantages.\n",
    "|2 |Cryptocurrencies & DeFi| Comprehend how cryptocurrencies function, have value and can be integrated into business use cases. Explore the main areas of application in DeFi, GameFi and more.\n",
    "|3 |Non-fungible Tokens (NFTs) | Learn more about Non-fungible Tokens (NFTs) and go through the protocols that make them unique and valuable. Create your own NFT collection, deploy it to a Testnet and view it on OpenSea.\n",
    "|4 | ???: | ???\n",
    "|5 | Personal Project & Graduation | Research, gather feedback, write an article and pitch your project to the class. Successfully graduate from the Bootcamp and receive your AI certification."
   ]
  },
  {
   "cell_type": "markdown",
   "metadata": {},
   "source": [
    "## Weekly Structure\n",
    "\n",
    "Below you can find out more about the weekly structure that is being initiated during the warm-up session. Every week we will have two sessions with their own specific purpose. These sessions will be conducted on Zoom.\n",
    "\n",
    "|  |Monday| Tuesday | Wednesday | Thursday | Friday | Saturday | Sunday |\n",
    "| --- |:--- | :--- | :--- | :--- | :--- | :--- | :--- |\n",
    "|**Type**|Individual study| **Presentation Session** | Individual study | Individual study | Individual study | Individual study|**Review Session**|\n",
    "|**Time**|Self-paced | **7:30pm - 9:30pm**| Self-paced | Self-paced|  Self-paced |Self-paced|**9:00 am - 11:00am**|\n",
    "|**Content** ||**Discuss lesson content & workbook** | | | | |**Discuss questions and problems encountered during the week & review notebook content** |"
   ]
  },
  {
   "cell_type": "markdown",
   "metadata": {},
   "source": [
    "## Software Requirements for the Bootcamp\n",
    "\n",
    "In order to ensure a good learning experience, you will need to use the software listed out below. All of them except the VPN are for free.\n",
    "\n",
    "1. **Zoom**. In order to join live sessions with mentors and fellow students you have to install Zoom on your laptop. You can download it [here](https://zoom.us/download).\n",
    "\n",
    "> *We don't recommend to use your phone to join live sessions as your phone doesn't provide a proper online session environment, and will compromise the quality of live group interactions.*\n",
    "\n",
    "2. **VPN**. Unfortunately, many available resources that we will be utilizing require a VPN. A VPN can cost money if you want to have a reliable connection. We do not advertise any particular one, though many foreigners in China have had a good experience with Astrill.\n",
    "\n",
    "3. **WeChat**. It's our main communication tool for every day communication. You will receive instructions, announcements, ask all sorts of questions related to the content, Bootcamp, and recieve answers on a timely manner in the WeChat group. \n",
    "\n",
    "4. **Google Colab**. You will be able to access all the class content within Google Collab as well as execute and write your own code. It is the main tool for building your AI models, freely provides GPU resources and has other benefits that will be described below."
   ]
  },
  {
   "cell_type": "markdown",
   "metadata": {},
   "source": [
    "# Your Bootcamp learning journey starts here!\n",
    "\n",
    "The page you are currently seeing and interacting is created within an environment called Google Colaboratory. Over the next 5 weeks, we will be working within Google Colab and get more familiar with its functions, as its a great tool for learning. Carefully go through the next steps below."
   ]
  },
  {
   "cell_type": "markdown",
   "metadata": {},
   "source": [
    "## Introduction to Google Colab\n",
    "\n",
    "Colaboratory, or \"Colab\" for short, allows you to write and execute Python in your browser, with \n",
    "- Zero configuration required\n",
    "- Text, Code, Images and Videos all in one\n",
    "- Easy sharing"
   ]
  },
  {
   "cell_type": "markdown",
   "metadata": {},
   "source": [
    "### Getting started\n",
    "\n",
    "The document you are reading is not a static web page, but an interactive environment called a **Colab notebook** that lets you write and execute code.\n",
    "\n",
    "For example, here is a **code cell** with a short Python script that computes a value, stores it in a variable, and prints the result:"
   ]
  },
  {
   "cell_type": "code",
   "execution_count": 1,
   "metadata": {},
   "outputs": [
    {
     "data": {
      "text/plain": [
       "2"
      ]
     },
     "execution_count": 1,
     "metadata": {},
     "output_type": "execute_result"
    }
   ],
   "source": [
    " 1+1"
   ]
  },
  {
   "cell_type": "markdown",
   "metadata": {},
   "source": [
    "To execute the code in the above cell, select it with a click and then either:\n",
    "\n",
    "* press the play button to the left of the code (the little triangle ▶️)\n",
    "* Use the keyboard shortcut <kbd>Ctrl</kbd> + <kbd>Enter</kbd> (for Windows) or <kbd>Command</kbd> + <kbd>Enter</kbd> (for Mac).\n",
    "* Use the keyboard shortcut <kbd>Shift</kbd> + <kbd>Enter</kbd> to execute and move to the next cell\n",
    "\n",
    "To edit the code, just click the cell and start editing.\n",
    "\n",
    "Variables that you define in one cell can later be used in other cells:"
   ]
  },
  {
   "cell_type": "code",
   "execution_count": 2,
   "metadata": {},
   "outputs": [],
   "source": [
    "seconds_in_a_day = 86400\n",
    "seconds_in_a_week = 7 * seconds_in_a_day"
   ]
  },
  {
   "cell_type": "code",
   "execution_count": 3,
   "metadata": {},
   "outputs": [
    {
     "data": {
      "text/plain": [
       "604800"
      ]
     },
     "execution_count": 3,
     "metadata": {},
     "output_type": "execute_result"
    }
   ],
   "source": [
    "seconds_in_a_week"
   ]
  },
  {
   "cell_type": "markdown",
   "metadata": {},
   "source": [
    "Colab notebooks allow you to combine **executable code** and **rich text** in a single document, along with **images**, **HTML**, **LaTeX** and more. When you create your own Colab notebooks, they are stored in your Google Drive account. You can easily share your Colab notebooks with co-workers or friends, allowing them to comment on your notebooks or even edit them. To learn more, see [Overview of Colab](/notebooks/basic_features_overview.ipynb). To create a new Colab notebook you can use the File menu above, or use the following link: [create a new Colab notebook](http://colab.research.google.com#create=true).\n",
    "\n",
    "Colab notebooks are Jupyter notebooks that are hosted by Colab on Google Cloud. To learn more about the Jupyter project, see [jupyter.org](https://www.jupyter.org)."
   ]
  },
  {
   "cell_type": "markdown",
   "metadata": {},
   "source": [
    "#### Some useful tricks that are absolutely important for a better Google Colab experience"
   ]
  },
  {
   "cell_type": "markdown",
   "metadata": {},
   "source": [
    "##### **1. Save time with keyboard shortcuts**\n",
    "\n",
    "You can access all the shortcuts selecting ***“Tools” → “Keyboard Shortcuts”***.\n",
    "\n",
    "![image.png](data:image/png;base64,iVBORw0KGgoAAAANSUhEUgAAAnEAAACuCAYAAABZelvrAAAgAElEQVR4Ae2d/XNc1XnH+Vf2B6p22pJpJ55OU6dMI5IQMbSISVJDXjSBoIQEQ0K9BEdViBQqsFPEi4gc4ihVWk0xaJQgBZOYgCIUapE4lQJGIAcBIsaAZRuQbMuy7PrpfM+9z91zz967urvalfbufu/M6u7ee+45z/mes+d89jkvukh4UAEqQAXWSYELFy7I//3f/8m5c+dkeXlZTp8+LX/4wx/WKfWNTwZ5RZ6Rd2gALaAJDypABahAKQpcVMpDfIYKUAEqUIoCCnErKyuytLQkCwsLdQdxyDPyDg0IcaXUIj5DBaiAKkCIUyV4pgJUoOIKAOLOnz8vZ8+elVOnTsm7775bdxCHPCPv0ABa0BNX8WrHBKhAzSpAiKvZomXGqED1KaAQh+HEkydPyvHjx+sO4pBn5B0aEOKqr47SIiqQJgUIcWkqLdpKBVKuACAOc8HOnDkji4uLcuzYsbqDOOQZeYcG0IKeuJRXappPBTZQAULcBorPpKlAvSmgixoAMJgbNj8/X3cQhzwj7wpx0IQHFaACVKAUBdYOcQtj0rmlSbaOzPvpz8tgS0YyLYOiV0oxbEOemeyUTCYjnZN+6rMD0tq0RXonlzfEnEKJzg60StOWXqlC0wqZzXsbrcAG1+nUQZzbJqyx/LA6dWMhLn3t88H+rGSz/XJQtT/YL9lsVvqDC3qjmPNB6c9mJbu2SIpJkGGLUODo6E7JZnfK6NEiHqrToAUhbrIzY6AGYJP/apFBUNrCPtna0CBbBg/7Em5sI1HYZgvQogrcbbCne6Uxc4l0TlQa4pZlbBs0bpOx2KSmpXdzRjLNAwKlp3sbJXNJp1TctCidSro2KZ2oRwEhlxRJCh/y8+18hxo2NUlr54hML6xzltatTkfnqzSIi9Ywr02qxA9Ht02Izlbiq8VA3Pxgi2QyfjsblUJJtm1s+xyVjSPDXZLNtsuemai7IoS4aF1q+SohLnnpJoC4VumbmJCJvNekHI4Ejo1tJDyIi7N5QmYLdZoJGkUv/k5RZ11yqQuHXJ5ok4ZMRrbuizFwulc2ZzLSYsi5cFzVebeaIa6SddbPd2tf6Ds00rdVmhoykmnsrJg3tVJ1dS31qzSIW5DZUPvTJ62AYkfTicnDEtkkrcXgBG1CMdET4ly1ZmVPOzxt8V4xQpyrWe1/JsQlL+MEEFcssFSyQ1w9Y2vquBI02GuKv6D5k9KJTn3rPonCuOnezZLJtMpI1M2C8VbLzTqHuCgPZIXBvHJ1tfQ6VRrEuemtY11K0Ca41hX6TIhz1JnZI+3ZDunv75ZsdrdMrTj3hZ64fEVq/wohLnkZrx3i5gelJeQhioG4hWkZbGuWTQCVzCXS2NorExWYNJe845qXid6WsD0jzpw4qwH3hjacYeWojjm59nkhPVDbKvnOOB/wWkcCwIvO54JMD7ZJ86YGM/x9SWOr9AYie8OxDTvCPsTZgab8YVwMkYfKNM/UEi64HW+unszODkpb8ybjicxc0ixtg7Nhj0qo7jTIpuat0hfkK2fK/ESvtDZeYvLesMmNR9Mfk+k+v9w7J8XTMVyu5fV2arph3T2rw/fihs/CZa3PTEg4vy1BWResq1adNjbo57FZ5/vZJ5P4wTA/Ib2tjXIJPF8Nm6S5bVBmXXdXkjB+Ma0PxM3LRN/W4Hvg1YXp4Ltj1ZjVw6k+dvElrI+5dHLv1gPiwvXC/R7kvnde8+t/3jois6HvT64+5awv97sVmdqdlWzXsBxZHJfubFZ69i/mJVKqJ25xdlR2d233vHzZ7dLVMywzQfQ6J25KTkztke52P9z2nbJn6kTYhpUTMjXUI13bfY/h9i7ZPTonS0GoozK6MyvZnaMyN2elub3DCec9gPR2+nFtb++WPVMzshfPh+bnrTh2uWkirkWZHd0dsqtnaEoc6wMr9c3KiSnZ090u2+H9zG6X9u5+GZ/L5caEW5yV8f5uaQ/Z6ce8MiW7s1lpzxv/9r2quw9IwOKLszK6u8tKa4+48srSnIzu7gjCdO0elQNDnBOn5bXaeX0gbnlSOhsz0tDcKYNjGJodkR3NDZJpiAKW1UwufD/c4cWFXZbJzkYDk1t6R8ww10hfqzT685YCNrMb8OUFs6JsrM2fu7awIAtuZxaXXNLrvmcmb0h1stMATps1YS4/n36eGpqlc3DMy9OOZmnINARDtBOY49g0ILOBPX4DnmnILebAvQnAbJMM5AIGT5T+RuFDe0M/7c2N0rhpi/SOePWirxXlslk6gxUb09LbiGHHbTJg6s6YDGxDmFy+YNPhwRZpyDRKa59XnmMD20x5NvZO+yb76Tc0yCWbWqRtxw7Zse+wiCnXaRnYkpHMlgGZLnu5uvm2FFwYMcOCm30bi4K4xkZpavI1GRuUTnyfdP5Uobpq12mY4n9uaNgked+F5mZpbshpqt+RzZ2TOcg+PCgtDRlpbO2TEQx5jg3INlNevaLKWzkO/uXW2lanFtBU5mWkBW1Lk2wb8L8H/ne70bY7aThXL0lWH+082+8rDXGrfw9iIA7fi7z61CB2m2PnoyzvfRjYaWavr8gBAF33uASc5SdSCsQtHeyXdoDGrmE5MDUlUweGZReGbdv75aDhFR/i2tulo2OXDB9AmFHp7wLY2BPqj8pod1aygLvxKZmampLxAczhy0p3MOveh7j2dmkPwo3LUHe7mevXfzBAGlG7tu/cI+Owa3xIuiOGk4+OwjPZLt1D4ybNA8O7vPzsyTXKs3u8+HcNHwiFyfbsz9MwKK/F/dIDeOsa8NKfGpcBk+d2CaJeOij9sEl1mTogw7u8tAZmvLyYMmnfY/UlIjI3LB3ZrOw+4OdX4+nql1HoG6TVIzlW9/XNdoiXjwMy2u/pGy6HIAd84yiwDhAHuNgsmc3OJPzlMWlryIh2YI5dJX/Mh5uIqGb7TAff7FDK8tg248WJhDg/mkTxRySZ7NKsDDTlD6lOdqJTagstYnDtWJ7slM2An9BKh2UZa2uQzGavQ13Yt9V09MFCYgMRjdIIwA4yjUUTKK/oTjhZPqJCuR2v35k0tEiwJgaPoV5kMhJ4DCd3GIDtnLDjnJU+6NQy4q2ADrzBurjGCzs70CyZjP5Q8NOPnIPmdmx2Wmt97+bbi295floGABsAL9/s4iDOmUs3OyBN8J4GhQs+ww8OZzqECyX+5xY1ws/ubB88tJiDaWuK+gSP3A5/TmhONzuUzA5Ic8z8zkp74ry5pe73QCF/syjTJw2nkBt8PZLUxwJVpqIQl+h7kCuzkCfObZ8VVv2FVAWyVPKtxf09ks12y7hPbStTuyWb7ZLhI+Eoi4e4IzIMMNk5KqHFjb63z4NGhTiFOj9NH0S6R32v0+yQdHV0OIsuFmUcYNcxLHPmMR/ist3h1ZQrB4zHKjugKzZ8u7r0OT/NJT+ceuKOjsrObFZ27g1ZL3NmAYgC0IwMmHmEUyGx5oY6jKZqfuimiJwwcNgloaiXDsguxOXbeWL/buno6JHxUPIz3txF9bKZFcIW+ImIt0BFh8RX5GB/u4HmKdvJ5+e13SfGxf27DBDvPmAHEvHyYcO0mxN+VgUSQFx4qElXhAWNWtBw6Nio20h4Q4H5sLYg+7aWfysSr+OKtlmHyQ4Pbsl5LVQJnGM6uCCvJkhEx2jHscb3hw142HPfPP0a2iZy3o8IOwzoRYCXgptZD+GXlf66NveaBmQScBc865WfDXVrzJL/uAszbj3RVA7LILxiKvphDwha+qKGw7xnPPhRWNN4zBJesxjEi8pN3woncbbYYUp976frrE7F96hhU4v0TefcuUVBnOoTmDVhVv9qHcflYiDOjc6zZUsAmJqMd90HQ78+5XmOAQBYSe1GKlJhT5wPmUFdVqtzPw68dihpuIg2IUF9tFLNe1s8xEW3ZdoO46wyJ/seuHXd/ZwzWdtJ63dB7uaa3/kgFPIaeWDV5VBc0RDng1j+0OyKHJ2Zkqk5UKMOp7r7lEyZrUc80IvPZNim3HBqiHvkqOwFTDpw1hUiKKThP++H8+aDKaxZNsxi/qBuraKgOiSzruvSesR964Fyu+zefyI35OkGivzs5tGDuo5hD2ODPOye8uP19FVYy0W5KPt7coA95W4f4wfknLicYqu9SwBx0Ss9g1Weq0Gcf99udELvy7wtgNdxRds86S+njezcoFQVQJz4nUSrv4JBPQbqQdACDefBb4gjQMHTWrcp8Dx9npfL68hMp2bKyB8+9T1hCnqa3trPLkTFdR7+de2ZZFmwJ14wJ2trpwyMzYbmN3laxHd2XlRu+naO4myxw5T63k/XXkk52Ba50nhtEOelU16I03qTy3sI4vzvS+j7bNfBoAxzz1fWE1eoHP17ZuFQ0nARbUKC+pjLbf674iGuSTrNVIOIHQL6WkMjB8m+B27e3c+WzaZ8c95L687a3x4Zli4MvTkrGWYwROgM04WByax0MN4bZaM8YxLtIxcHcd71EMT588M6dE6cmUuGYVfdu84FHLUoDGcSa1c4nJdff/5dkFbus+Z7aW5YunXOWleP9A8fkLnF3NCtWhE+n5AD/fDWYYi4Xbp3D8nowaN5QId5c0M9O4M5cSY8nrG8m6as1BvpezmD8vS9icFzbj5MPHG6iRDiwqVW6FMCiHOGY9zYEkJcU6c3Vylvq5IybwsQhhvXWO9zbJhqgDhZkJFWbJ+ARQzLMmENh9q5CefBb4ibOr15SaHtGND457aDMUOlmBe3PCFtDdpAe883YXjZDBdFeLXsxEt670JUXOfhX3cBYPmwTI8MSOdWf3HMJVsCL5anRTS4o755Pzjc9O1MxNlihyn1fVS6fhlvDg+JphXiWvsiAAN1MPill9Nu4yDO9/CuCnF2uCiI8/NSoD7mcpv/rniIywfpIFanvUr2PXDruvs5iN3/UatthHW9DG+9obccmIQ7+/CecRsKcUtTshughDlks0fMv0vDv0wz8/cqCnE9MoQ5cxEv40jUMlhZkiOz4zLcrwsvtsvO4dk8KNPgel45MSdTo0OyWxc4dOyS/epGnPMAG/MJp+ZO+HmezR+iNiuLveFvb2hch1LhXPSGhDv6vTl9efmYATgS4rQ81nKuPMT5np384dS1mB3/bBhuosPFDhM4jWKeZ8606ZUdToXFCyP4hd0qI4cBWtHzBsP5LDA85EpgFkm0yOBIpzQ05ADdDOO2DMoYVquW2TvqmeDCTFzn4V9XiDOT9HNDjiauhQnpxHCdPyfOW2FrD0G7mcZnN307TJwtdphS38ekG7G9SOogzp+Hp17jJApVFuIKfA9C7VDScBEQl6A+FtKhkhCX7Hvg1nX3c8762HYyF6TEd/78qp7hCEgZl/6OrGSDYbkSthg5utfz8ukEe8vKlaVFWVyCtyqZJ86bQ5Y/NysMlnEwEvawyYlRswI35OUztoXDzQ1789p0rqBlfu7typKBK5OV4OqiTGEeGubmxSxRzeU/eEhWjuw1c/B0TtzMgO1l1HBRefTKcefonAe1VpmJPx8wfwWrxuedveHUAdFZg3qXnjhVYvVz5SFOFmTfNm8lqju3Ynl6wtvGYHU7E4cIw03MYzqvJTRpW+EpN8dkoyDO/BcMTCpvwYrLZhkIzRr38uTmc2HfNm8lar7IMmH2ivC10M5s82bJtI3l5tmZDrlZmpszYjxyMdKVftmFmbjOw7/uQ1z0/nh+J6yw6S9Uya1EVSsPy8SEiuemr2FwjrPFDlPq+7h0fW+cvWDFrAp2VgqrZzZYoBAXn3d9XYdTZVb6YlaiHp6YMP9ZxFWtshAnotMPwgt8yrewIVF9dDNtfa4kxEmi74Fb1/3PeQsbZmWgOfcfYqwsrP2t8eDo3K786DyIyXl1wsCUYDhV5mQIqyvdla7+pHpvzl0yiPNgwlkIgLlu2BKkWE+cJFzYMDfkr0SdcTxqR2Vq6oh3zZ8f1+2Q3soBLA7Jh05PZX8+WvseB5rmZBjg7I/Tqt6hJRNLU96KVWs4FXGaFbJdXQaadZg3SGsXNOqRcQcol2amgq1edI5ef2j1g4gZqo3NR36dqecr6wBxZv8Hsw1BprFV+vz5Hd52BQ1m9ZvjZ1lTeXhwEz+05s2Li9lipKHBWwmpu2C4njlkxSw8aJS2wQmpyA7xJvf+MCrmF8WsDnMhTuSwDJrVjrktISZG+qQVK09bBq3/ruEvKMlknO0D/MnomcoMn+R7wtzORIvdv66euPkRU3cadPuDiQkZ6d1i5sg1B3Sr5dkgzZ2DMma2uvC33WjslAmzQXIc/CBdX++GFunFNiYRw4BqXfHnAun63rggH2aI29pOBVuHbLlEGhqwilW9pnHx5UNcZF1167T72c9gnFcwNCcOyk12mpXeue2DxmSwE1vbNEqnJ3xIskpDHIC8oluMJKqPoSyHPlQU4iTJ98D93vmfsdDG2gKqdwv2W2y0tvoJZWMNH/y94QIAiohKV4j6gKJQESxBiJ1blotLt/IIbTECUHG3GAmTR+ChC7xl/ty9bEePDI1PyYHRAelBPGaOV5Fz4kQSbjGy5K3szGalq3/U3yLF3/6kvV+mzEIGd2sObFfi7z+HffdyUoTercwMGEAMtjgx24d4c+R0PpsHVlnZvtPbGmR8eHewr509J85E7MNkDmit5I56nsdse7fRzmzPMtRt0u/e68MohlSx0tfZYsTbwy4ORq00+FbWB+Ig9PyE9Ol8pkz8hq1rLRMPbuInuec8FRGb/U56GxcrP0R54mR5WvpavI1pG1r9LS7WanTE855HIf7fbOVDnBE5b/PSrX0T3jYcVhpeR5w/7814GawhVuuRMrx14cPtTDQJB+JwOVR3MoJNjDtHnA2BMeF8pDPY7DdzSaPzv0nd9DU9/3x4n7Q1exsFX9KrFO+EKeljoXRz3jjdAnDZbHzs2WHy0Dshk+Z/aBYPcZF11YU297Ofx6QQh+DLsyPSqRsCm428O2Uk5p/CVh7iYFGFN/tNVB+jK0tlIc6UxirfA/d7p58HZHI9Nvt1t9OIlMn3DPmetFIgDtHmbfa7e9RayZnME4d4lrCBb4duBuxtuju7F3uZqYcuaqgRT4aHSTWryTb7XZK58X5rE+J26e4ft+xHbO4mxF4Yd99eTVfPS3Pj0q9z4bJZ2d6F+Xdhd1m+jSdEV5KGPHTib/CbB8N+amaBhG72m0srtPwiYrPfuQP9BTyKmhOeoUBBiKNEVIAKUIFyKlAeiCunResbVzEQtz6WKcQN5v3YW5/0mYqI7vkW+BopChVIrAAhLrFUDEgFqMBaFSDE/UHm5+fNf3/Bf604d+6c2TtvrbqW/vz6QtwTTzzhD0XqkGR9nLV8lqb2yB7vX0boJUwAM0OMuq9deKVufehTKM/4nvCIV4AQF68N71ABKlBmBQhx9Q1xZa5OqYvO+68LuX+nFcxjax8Q/z9apS5PNHhjFSDEbaz+TJ0K1JUChDhCXF1V+LzM4h/bD0lPl86xSzaPLS8aXqACvgKEOFYFKkAF1k0BQly1Qdy6FT0TogJUoAIKEOIqICqjpAJUIFoBQhwhLrpm8CoVoAKlKECIK0U1PkMFqEBJChDiCHElVRw+RAWoQKQChLhIWXiRClCBSihAiCPEVaJeMU4qUK8KEOLqteSZbyqwAQpcuHDBbKuBbQPwj8SPHTsm2DutXg7kFXlG3nWLEWjCgwpQASpQigKEuFJU4zNUgAqUpACA5fz587K8vCwnT56U48eP1xXEHTp0KA/i4J2ELnxRA9aB+qwDJTWm/kOEuLWox2epABUoSgGFuLNnz8qpU6fkxIkT8s477xQVR5oDv/322wZc1RO3srJioBYgxxc1YB2o7zqgEF9MG0eIK0YthqUCVGBNCqCRQkcFiDt9+rS89957deWJw3AqX9SAdYB1IK4OoH0sBuYIcWvqkvgwFaACxSignjh4oABxCwsLdQVxxWjFsFSACtSXAgA7/Cs+TDlJCnIXxdEgr/OXAusA60Al6gDmhb388ssyPT0tL774IiGuvvop5pYKUIEYBdDeok1E24g2Em3lam0wPXExYvIyFaAC5VdAh1PxaxOLG+CNQyPFgwpQASpQ7wqgLUSbiLYRbaQOrRbShRBXSB3eowJUoKwKKMRhOHVpaYnDqWVVl5FRASqQZgUAcZhigrYRbSQhLs2lSdupQA0qoHPidHXqu+++S09cDZYzs0QFqEDxCgDi0CZi5T7aSJ0bVygmeuIKqcN7VIAKlFUBhbh63SeurGIyMipABWpKAUAc9s7EHppoIwlxNVW8zAwVSL8CgDjM9ajX/9iQ/hJkDqgAFaiUAoC4Yv+jCz1xlSoNxksFqECeApjjoRCHuR/z8/McTs1TiReoABWoRwUAcWgT0Tbqv+VDm1noIMQVUof3qAAVKKsChLiyysnIqAAVqCEFCHE1VJjMChWoRQUIcbVYqswTFaAC5VCAEFcOFRkHFaACFVOAEFcxaRkxFaACKVeAEJfyAqT5VKDWFSDE1XoJM39UgAqUqgAhrlTl+BwVoALrogAhbl1kZiJUgAqkUAFCXAoLjSZTgXpSgBBXT6XNvFIBKlCMAoS4YtRiWCpABdZdAULcukvOBKkAFUiJAoS4lBQUzaQC9aoAIa5eS575pgJUYDUFCHGrKcT7VIAKbKgChLgNlZ+JUwEqUMUK1AzE4R/AtrS0yL333lvFctM0KkAFilWAEFesYgxPBahAvSiwLhB3+vRp+fGPfyzXXnutfOQjH5FPfOITcvvtt8vhw4fLpnM9QBwAFfoVel111VUyOztbNl0ZERXYaAXSBHH4tzd9fX3mO5rJZGTTpk3S29sraAPr+XjllVcEbRPOlTweeeQRk86JEycqmQzjjlEA/+f4ueeek2984xty3XXXmdedd94pf/zjH2OeKHz5wIED8pWvfEVeffXVwgGdu2fPnpWf//zn8vWvf12+8IUvyJe+9CXp6ekx/yhegw4PD8u//Mu/CNgh7pienpZHH3009P09evSodHV1mbz927/9mywtLcU9vup15Av5g436gm7QDzpCz9WOikMc/qcXjLzyyivlwQcflF//+tfy+OOPG68ZYG7//v2r2Zjofhog7uWXXzYFhXMpBwoLeukLBf2pT31KnnzyyeDab37zGzl58mQp0ec9gw4JsI0X3vOgAhuhQFog7tSpU3LrrbcaiBgbGxM09jgDXnAd9+v1qGaIQ2eJMrLBD+9xDfd4JFMAwAEwam1tFcD0kSNHZGZmRr773e/KTTfdFAJ4hEsCQKVA3Pnz580PKXAHQA4M8tJLL8m3v/1tA0f4jCMJxD399NMGBN98803zDOIGDGazWXnxxRdNncE12LkaEEapqBCHdgIMg9cbb7wh3//+9+WLX/yi4aWo5+xrFYU4ZO6BBx4wXwYXXBYXF+VrX/uaAbz333/ftqmk9/UAca4w8MxhCBl5r8RBiKuEqoyzWAXSAnEjIyPGA3fo0KFQFg8ePCgf+tCHDNCFbtTRB0Jc7Rc24OPmm282cGR7kNDXA6AAP2ACHOWAOMALXu6BET7YAYCzj/fee884JB5++GFzOQnE2c/jPbxugM9du3aFbhWCOOQZwBc18qgQh+ft49y5c4adOjo6Ql5AO4y+ryjEweh//ud/NlRpF6omvnfvXvn4xz8uzz//vF4SwB6I9qMf/ah5wdvkZh5xPfvss3LNNdeYRvOzn/2sqRSf//zn8+bE4VnEgfjg+duxY0fFoCfIRMybtXri3GgLQRzcyT/96U+Npw7Dr9AImkE7VBDosGXLlpCb+/e//73R6KGHHjI6usO2Q0NDrgn8TAUqrkAaIA6N+y233CJ33HGH+X7ZouAeOrEf/vCHwWV8B/F9wncMw64YqXjmmWeC4RON7wc/+IEZuvnABz4geGFodmFhwXgaMFTb0NBgfgwfO3YsiBteEHg+9uzZY+K/+OKL5cYbbzTtKDz1SEvT/O1vfxs8hzfwOGzdutXEi/QwbIROWI+7777b3EcHefnllwvixvCPO1z2wgsvmOkzSAfTaDAkVWg4FR6vf/zHf5Sf/OQnJl59DvHYx2r2RQ2n2s9AMwx3o31UjZGWvpA/xKGfcba9dPjB3NnZacoiSh/b1np7DyiCY+add97JyzrqC+AHoIf+XYcOccZzKAvc7+/vN33TV7/6VTOEWsgTB5ByYQoJKxiNj4+H7FCYUvBTiMPoIEabYMu2bdsEP7r00DAod43Xth19Kuy2r7k2ad4Ql3tonC7EIZydtvuc/bmiEIcGAo3UxMSEnWbwfmVlxQAVzjjQwAC0UBHgXvzlL39pPHUYMlThEQ7DiXY4DM9+5jOfMWnZCxvwDJ795je/aeLbt2+fAPTgZi2H9y/ISMI36wVx6CAwdI3GBw059Lr//vvlYx/7mPziF78w1qLRBcTdd999ptNRrxvmDhw/ftwM/bz99tvmC4cvHd5zSDVhQTNYWRVIA8Tp8BsAYLUDP6QAY5s3b5annnpKAGD4nuIzOgUcChiADnj4MDT72GOPGXgAPHV3dxvgQht7xRVXCOYd4XuPAzYArtC5AGDwI/mTn/ykif/LX/6y6aTw/UfHBXDSThfDX4gL4Ib09Dk7bkDOn/3Zn5k2+rXXXgvC3HbbbQaMkD7m5KLdB+wg/d/97nemLUL+4ubEAeIATPCgIF6EAxzCHtiFI4l9LsQhH3AktLW1GdBEHwPbAAuoVwBilAHAFuliKgq0x3tcwz14cBBWh8thF+zDUCF0hbdEtTeG1ukfwAvqHPSLO6Aj+l6UE3RDv4LweOHZG264QfDDBfUaZVEKxGH+KeLGkOfrr78e/DBybQIkoSzBB/CUISzqLL4XKHMcNkihjGEv4kZ/CrBbXl42P3LAK5h/hzjcaROat2IgDm3Ef/zHf8j27dtNHXVttz+XBHFJJ+nqL033155tgL7XLwi8ZrYIGL9GwX7rW98yjQR+FYLSAXr2L1snuCwAACAASURBVMS33nrLeOYU4hRK3PgwURFfToUZTb8SZ0Abvuj6wtw1EDvOek3PpaQf54kDNCOP2iEgblRAeN/wixwNFw50Cmgk4YFDJQQY28+ohpwTV0rp8JlyKVBrEDc3NyeXXXaZYL6NHmi0Mdz0uc99znw/0fDDswfvHe7hgPcI30W0h/a81x/96EfBcwiHDvL6668Pvue4hlGPD37wg6azMpGJmPcAq6mpKXPpV7/6lWlb7blhGHqyPVGAOHjWtJPTuO0w+AGJeVF2+6xe/kIQ19TUZDpJtU+hDfnBkcQ+F+IwquDaCyi++uqrg0nuSefEoc9AuaH89ACgNjY2xsKphquHcxKIUx0ANDbwKegAXLS+I2wpEIfnAO8AMvS3gCuMSrnTjmADPNbwDuoBzy880fCQ4bAhDp/VTtfbBjvh7HDTsJ9JCnFo7yYnJ41tWBBq62GMcv6UBHGAkyRHMRCHiYcAiii4+q//+i/zawpDo2gE0GC4Q3sQz95iBL8GEc6NDwADkFHYS5KPUsPYLtbV3peSRhTEocDhXbNhTeOGFtBEV68ClgG5mEAJTyYgz/5FSYhT5XjeSAVqDeLwQwkw4A5BAqYUCBTiFGBUf0AU4A739XDBBZ/dMAAV1xOGthTXcC/ucOOOSt+GILX7nnvuCUWp7XYhiLNBEA8rtCLNuMO1z/4cZwu8LvjBqrbY9ms66lm1tYEdWKAC74se8MwAPu1weq/ezuWAOBd0bIhDeQL84vpSGwqhPdoNOEnw4wgjTPC6gRu0j3MBDc8A3gBja4U48Ig7bGzbrRCow6n2PbyHrfAWJxn9KgniKuGJ06HXKK8druncubhwLsRpOLjOo17rAXGAXfuF4VwUEM729aRQ7DYKURCn4BWVZ1yzIQ7xqWfSnR+HexoXPXGu8vy8ngrUGsTZoGHraIOOAgjC2kcURLnx4XMpEAedMY8Ic40xHKvzwmy4ikrfhqA4u+282fnR93Yceg1npIfhK8xnSmKfrQU8gfhhr/mwz8if9jVRabsQhyk///qv/xoZF+LFXL56PyoNcTqnDSNNeGGYHy/9DDhHmKgDPwgw8gQPMUbCcFQS4pAevGmwDXNd4Sz53ve+F9gK8MKhEGevTgXL4PmkR0kQlzRyBSlkJOqw58RpWP1i2eHxfKkQB3ekbslhn1VEO51KvwesAeJKhTbXvkIQh8qKimHnGe/dLUh0HqI77xBpEeJcxfl5IxRIA8QpvOzcuTNv+AP37IUN8MS5Q4fQFW3fpZdeajxEGt96QhzaC3gC0eloJ+ICTlKIw5CqfZQCcfB4wfOFNHEksc+GONUQQ9KAMvcVl0ek5UIcrsEOTOvBnGE3LqRV7wegCAsDoI176MIGncqDsLbnDPrhM67bh+2Js6/jPaBRPVr2PYzYAaC0fPUe0vjOd74TPFNJiNM0cY7LG+4pxCGfpR4VhTiImXR1arHDqW5hu544jQ9zQarlWA+Iwy+Ru+66y7iP7XkrURpggikWeWAOAKAPvzRt9y0hLko1XltvBdIAcdBEtxjR6Qqqk7vFSDFz4tYT4qIADV6LYjxxyHOl5sQlsc+GOEwtwVAa2jd7njWG0xQmYC9AFQs87BW+CnH2HGGULxYy6EIQPIs00M6uNm9J60Itn3WLkZ/97GehbMIjGrXFCIBK4TcOdEqBOJQZphOBAewDdQCrx7FwAke5IQ4/OAD47hGXN4SreogDUOg+ca7nCwVr7xMHgSGCuxDBXdgQFw4VCN4kHSZF/FgAgcIE4OmBLxvmntgTg/Vepc/rAXHIA1b1YiUqANZuXFDBYAOu4TUwMGAWQGBIFd5OzBOx5xAS4ipdIxh/EgXSAnHaNgF60JEACuA9wme0bbiPA9+9qNWpWIk6OjpqwqDhx5DoekIcIAXbZgwODprJ+xjFgE3FQpy7OhVaIA53Tp5d9gApDEti6gZWhuKF9ttenZrEPhviEL/aoqtTsVoWK3sxIqL9AvoD5BPtpnbCgDwsMsEPYkAbwA/liUUSujoVk+cxXxt5sxc72Pmqp/eo1wAjOARQh9B3Y05a1Ga/uvMEFhJA6zjQKQXiMN0L5Qa+QDpqB+Zpwjbd0qycEId8YN4dvu+uJzIub6gbVQ9xMFIhDKslQcAY0tP/2IBr9lCrDu2VssUI9kEDuCjEIW2kBTCBtwmFif1gUKHQMOD9eh/rBXHoLNBoIe9YnaWaY/ECliwDcAHVaHx2795tOhU0UljYgDCYrIsDEA69AMdPPPFEaJuX9daO6dWvAmmBOJQQOhAAGqAAUIJ5qBjOc+cR4/umC78QDm1h1D5x6wlxGH7CHmqwHfvPYS4a2uoPf/jDohsYR3nD3CFX6IBODcCDvOFc6j5xmi7iTGKfC3F4zt4nDvmCowDX9EAni7lVmCdnL8jAj2BoAe+bjmoA/HSfOIQHFOBHMA9PAXxX0bfqv7vCSmr0Ie4iHugITxxgGnUsDnQKQVwhzVFXMIRr24H00AfrUU6Ig/3w+gLw1dOn6RQ6pwLikAE0YPhVBxhAo4YGCw0EhlvdAyJjVUexm/3C7Y8vpw1xiNuND3FjAiR+NaT9iJoTp3mCF83WHNrjM8pCIc8GNjyHX60AO3uVKn4R4xcGyg0TM3lQgfVWIE0Qt97a1Ep6USBYK3ljPqhAJRWo6Jy4ShrOuKkAFagPBQhxtV/OhLjaL2PmsDIKEOIqoytjpQJUoEwKEOLKJGQVR0OIq+LCoWlVrQAhrqqLh8ZRASpAiGMdoAJUgApEK0CIi9aFV6kAFagSBQhxVVIQNIMKUIGqU4AQV3VFQoOoABWwFSDE2WrwPRWgAlQgpwAhLqcF31EBKlCFChDiqrBQaBIVoAJVoQAhriqKgUZQASoQpwAhLk4ZXqcCVKDeFSDE1XsNYP6pQJUrQIir8gKieVSACmyYAoS4DZOeCVMBKpBEAUJcEpUYhgpQgXpUgBBXj6XOPFOBFClAiEtRYdFUKkAF1lUBQty6ys3EqAAVKFYBQlyxijE8FaAC9aIAIa5eSpr5pAIpVYAQl9KCo9lUgApUXAFCXMUlZgJUgAqsRQFC3FrU47NUgArUsgKEuFouXeaNCtSAAoS4GihEZoEKUIGKKECIq4isjJQKUIFyKUCIK5eSjIcKUIFaU6AkiMNDfFED1gHWgfWoAzMzM/LSSy/JwYMHZXJyUp577jnT/tRaY8z8UAEqQAWKVQBtMNpEtI1oI9FWos0s1DZfdOHCBeGLGrAOsA6sRx04f/68rKysyNLSkrz//vty9OhRQlyxLT3DUwEqUJMKANbQJqJtRBuJthJtZqG2+aKaVIKZogJUoCoV4HBqVRYLjaICVKAKFADEzc/Py8LCgpw5c0bOnTsnaDMLHYS4QurwHhWgAmVVIA7ijh07JnxRA9YB1oF6rgOEuLJ2N4yMClCBcisQB3HlTofxUQEqQAXSpgAhLm0lRnupQJ0pQIirswJndqkAFUisACEusVQMSAWowEYoQIjbCNWZJhWgAmlQgBCXhlKijVSgjhUgxNVx4TPrVIAKFFSAEFdQHt6kAlRgoxUgxG10CTB9KkAFqlUBQly1lgztogJUwChAiGNFoAJUgApEK0CIi9aFV6kAFagSBQhxVVIQNIMKUIGqU4AQV3VFQoOoABWwFSDE2WrwPRWgAlQgpwAhLqcF31EBKlCFChDiqrBQaBIVoAJVoQAhriqKgUZQASoQpwAhLk4ZXqcCVKDeFSDE1XsNYP6pQJUrQIir8gKieVSACmyYAoS4DZOeCVMBKpBEAUJcEpUYhgpQgXpUgBBXj6XOPFOBFClAiEtRYdFUKkAF1lUBQty6ys3EqAAVKFYBQlyxijE8FaAC9aIAIa5eSpr5pAIpVYAQl9KCo9lUgApUXAFCXMUlZgJUgAqsRQFC3FrU47NUgArUsgKEuFouXeaNCtSAAoS4GihEZoEKUIGKKECIq4isjJQKUIFyKUCIK5eSjIcKUIFaU4AQV2slyvxQgRpTIC0QBzvHx8flmmuukYsvvlg+8IEPyM033yxvvPFGRUrk3Llz8thjj8nTTz8tFy5cqEgajJQKUIHqVoAQV93lQ+uoQN0rkBaIGxoakg9+8IPS398vb775prz22mvS1tYmjY2NcujQocTleOLECbnqqqvkueeeCz3zyCOPyC233CJLS0vm+tmzZ6W9vd288J4HFaAC9acAIa7+ypw5pgKpUiANELewsCCf+9znpKenJ+QVA1zddtttcscddwg8Z0mOpBCXJC6GoQJUoLYVIMTVdvkyd1Qg9QqkAeIUvH70ox/l6T0zMyPPP/98AHGAOXjtPvKRj5hhV8CfeurgbctkMsELHrnZ2VnjmbOvIxw8cvDM3X333SZNtQGewN7eXjOciyHde+65R86cORPYtbi4KF1dXcF9hIVHT+NBQIS59957TRgMDcPGF154IYiDb6gAFagOBQhx1VEOtIIKUIEYBdIAcQCzO++804DZb3/7W4HNUQfmrj366KPy4Q9/WJ566ik5evSoAaorrrhCjhw5YsAMw7BXXnmluf/ee+8Z+MMZcHbjjTcG4eIg7q/+6q+kr69P3nrrLTNnDiA3MjJizIGdO3fuNHY+88wzJv0HHnjAwKRCnOblk5/8pABAMTTc2dkpH/vYx2Rubi4qW7xGBajABilAiNsg4ZksFaACyRRIA8QhJ/BedXR0GCCClw0eLoCZfRw+fFg+8YlPBFCFewC0a6+9VuBdw6EetdXmxMVBnD2ki+Hc22+/PfCyvfLKK3LppZeaxRBqF6DN9sRp+mqP2vTQQw/Jq6++qo/xTAWoQBUoQIirgkKgCVSACsQrkBaIQw7gacNq1Pvuuy8YLoXnS4czAWaAKHjb9ABEYc6cesIUokqFOBu+kAbi1bij0nfDqCeuqalJnnzyScF8Px5UgApUpwKEuOosF1pFBaiAr0CaIM4uNNg9OjoqmzdvNl45AN6+ffuC+W72HDe8v/XWW2V5eXnNnrhCEDc2Nmbm1wEU7cMGPVwHdGJIFh5F2PbpT39aMEzMrUxs1fieCmy8AoS4jS8DWkAFqEABBdIAccePH5eJiQkzpGpnBdCDRQS6NQg8YfBwYbECQMp+weOF8JX2xF122WXyxz/+0TYz5K0L3fCHe3/wgx+Y7VOwQIMHFaAC1aMAIa56yoKWUAEqEKFAGiDu5Zdflg996EOhuWbIig6VqpcNCwMwJw6LCuwD8+l0rzeFuGeffdYOYubM3XTTTXL69GlzPW5OXCFPHOANCxSwQbAe7pw4zJu7/vrrgxWzCKc2uXFrHDxTASqwMQoQ4jZGd6ZKBahAQgXSAHEAoe7ubjN0+vDDD5sVnQA2bO/xF3/xF7J3716TW4S7//77TTisTgUcAdauvvpqefzxx00Y3XPurrvuknfeeSfYmgRxYGh2ampK3n///dgtRlzQsodKNX0MkwIksfIUdmMbEZ03B6BsbW2V6667TgB0WEELTxwgFbDKgwpQgepRgBBXPWVBS6gAFYhQIA0QB7Nhp/1vtxoaGsz+aoA0ey4ZQEr3icN8s8svv9ysVsV1PQBsmzZtEmzzgdWrOAB8X/3qV80ctZ/85CclQRziOXXq1Kr7xL377rtmWxFsTwLAw78S45w4LR2eqUD1KECIq56yoCVUgApEKJAWiIswvSovQU8bKk+ePCk33HCDPPjgg1VpL42iAlQgXgFCXLw2vEMFqEAVKECIK18hYPXr9u3bzZAuhlJ1OBX/3xWLLXhQASqQLgUIcekqL1pLBepOAUJceYsc4IYNgHWolP9Sq7z6MjYqsJ4KEOLWU22mRQWoQNEKEOKKlowPUAEqUCcKEOLqpKCZTSqQVgUIcWktOdpNBahApRUgxFVaYcZPBajAmhQgxK1JPj5MBahADStAiKvhwmXWqEAtKECIq4VSZB6oABWohAKEuEqoyjipABUomwKEuLJJyYioABWoMQUIcTVWoMwOFag1BQhxtVaizA8VoALlUoAQVy4lGQ8VoAIVUYAQVxFZGSkVoAI1oAAhrgYKkVmgArWsACGulkuXeaMCVGAtChDi1qIen6UCVKDiChDiKi4xE6ACVCClChDiUlpwNJsK1IsCq0Hc3NyckYJn6oCKwHrAelBP9YAQVy89IfNJBVKqQBzEobPmixqwDrAO1HMdIMSltGOj2VSgXhQgxLGTrudOmnln/S9UBwhx9dITMp9UIKUKEOLYiRXqxHiP9aOe6wAhLqUdG82mAvWiACGOnXQ9d9LMO+t/oTpAiKuXnpD5pAIpVYAQx06sUCfGe6wf9VwHCHEp7dhoNhWoFwUIceyk67mTZt5Z/wvVAUJcvfSEzCcVSKkChDh2YoU6Md5j/ajnOkCIS2nHRrOpQL0oQIhjJ13PnTTzzvpfqA4Q4uqlJ2Q+qUBKFSDEsRMr1InxHutHPdcBQlxKOzaaTQXqRYG0QNw3v/lN+eIXvygzMzPBJsSvv/667Nq1S/76r/9ahoaGgutr6XR6e3vz0llLfOV6FvnHq9T4kK+mpib5/e9/X3IcpabN59IBgmNjY9LW1ibXXXedeWWzWXnqqacE37Niy/CFF16Qr33ta/LjH/+4qGfvuece+cIXviD//d//Hfsc7iEMwsbZhXvf+ta3Qu2FhoVNsA026rW4MyGuXnpC5pMKpFSBNEMcwA0AB5ArpaOJargJcaUBB+AakA39onRdyzWAJwD0scceK3vca7Grlp59/PHH5YYbbjBg9NxzzwleACFcwz3N6xNPPJEIgNYKcXEAhnoG0CTEpbTDodlUgAqUV4G0QtyvfvUr+fu///uyAhw6KkIcIU6BpV7OBw8elG3btsl9990ns7OzAbDh/Y4dOww0qQe8HBD3/PPPyy9+8Qt55ZVXgrRUa4Bja2ur3HjjjfLMM8/k3Ye38KabbpKtW7fSE1feroCxUQEqkEYF0ghx//u//ytXXXWV3HHHHaFOBx0BPHKPPvqofPzjH5dMJmPOw8PD5vr//M//GPB7+OGHg85BPUi33XabiQsQh+Gk733veybsxRdfLC0tLcYzoR0NzvBUINyf/MmfyF/+5V+aThCdkx3m0KFD0tXVZbyFiOdTn/qUAD41DDxLl19+uUnrb/7mb4LhUn0O8eKFODD8U2g49cUXX5Rvf/vbJrymtW/fviAt5AverEceeUSuvvpqo80VV1whP//5z4MwSfIVZTOuQWt9/e3f/m3QASMv//7v/y7IX5RdUcPkiE+HfmG3xouzXkc5j4yMyD/90z+Z+/DIQiekp/rynAzIAWYAJwCSqxlg6xvf+IaMj4+b4Ul4wPSlw5kYnoR37Pvf/77x3OFzIU9cIRBEnHfeeaeJ78EHHwzZgzLv6emR9vZ2Y4um79qMz7gX583jcGoaeyraTAWoQKQCaYO4yclJ+dKXvmReL730UqiRR+ONIVZABCAMsNfd3W0A4sknnxTMb/nKV74it956awB/ALtLL73UgB+eV2jAr/1f//rXgueuueYaA2A6hwbP/MM//IPcfPPNMjExYYAFYWCX2gQvBrwbV155pYyOjhrow2dA2+9+9ztjN2AFYNPc3GzmDiEcnuvo6DAACRhFHjo7O024OIjDM4BQNy3YCFs1XwpR6JiRN3TGALpi8hVlM3T9zW9+Y2AXeiM+2IQXQBvghSE5zQs8qIAC2LUaxAGyYSugHHOhEPdrr70mTz/9tClXpIc6Aa0QL0CuXEPrsK8eXkmgBppOT0+b7xfq/f79++Xll182+uD566+/3oDXT3/6U1MXUE5xc+JWg7jvfve7pqzxfYGXUMsAP5K+/vWvy3/+538S4iJbc16kAlSg7hRIE8R9/vOfN2D0p3/6pwF0aQOPM7xRn/70p+U73/lO0JEruMFTgI6ov79fLrvsMjlw4IDpHPDZBitAnA02iFeBAQCDOBD/Zz/7WZOepq9ePsSHa4Caz3zmM/Kzn/0s6ITghYNHCvEgDM4ADwUtXAMUAr5sbyFgqJAnTueMwXa1B9fuvvvuAJZwz00LnSmuYdgqab6ibEaa6tG0bUC8iN+eU6Xh4G3Bc6tBHMJo/lQ3XEM66pXDZ7wAcvAGocz1Gs+rg2gSiFMdowAMz7vAtRaIgwdNh03tMsd7fA/wHUEYeuLqrrtihqkAFXAVSBPEYTgN3i403gAxG37QyQAa/u7v/s4Ms2mngzOG83RlK+ANzwKSAEfwyingISzgQMNqHPBAANpwD94HDKMqhGgYgAO8d3HeMoSDffASaseEswsiuIY8wPukceOMeOPiRj7giUO+BgYGQnCpcURBD+xB+jgnzVeUzUhD4QzpaJrQGIAMT5lec8+lQpyCNfINraCBGzc/rw5w0KgcEOcOXboQhzR0GNY9Y/7bs88+a8pPh0FRHzEfD69XX33VzJ/DjyfcR11LAnFuOvZnwCBsXK2O4Hs9Pz8vCwsLcubMGTl37pygzSx0XFToJu9RASpABcqpQJogDsOFGIpEI/7lL385NHyJxhjDhJhDZs+h0vd4Fo22Ag/gDfPaPvrRjwZQhTiiIE4BBcChXiEbVrQjcEELQ04AO9em1SDOBTvE78ataepZ557B84U8Y64Y5ozBw4Ywq0Fc0nwVA3FRaaq9ei4V4vA8tr/AfEWdl4g5gfDGatw8Vw/EwTMNrzRe8JZiWgM8p/i8d+/eYBqCQhy+c/D64fujq2XxHvM8k0IcfpyhvcD33n7t3r3bePQIceXsSRgXFaACG6JAmiDO9pBhThWAxd5eBB4lQBngBVBiv9BgYy4VOnZ0Hgh3//33h+a64V4UxKknDhOt1WMF754NCfjFDi8hoATX0XkAxuBJ0M5CQWk1iMMcPQwZ2fGvBnF2WKSHdDHZH2CLe1FAFeWJWy1fxUBcJT1xdn4B5ujcAerwsHA4NRm8qYaAJdsbptdx1oUNACl8jhtOXc0TZ8cZFYfetyFOV81iLuQPf/hD4zEHwCWFONcmTaMYzyM9cRvSLTFRKkAFkiqQVohDg4z5Z5hjhsUH+Ax4wXw2LGpQDxSuA7zsVYtTU1OClZl//ud/Hpo/h7CAnXLMiQPs2Ks0ETe8EY2NjYHnLwqISpkTBxi79tprQytfFRiRH82X6+GzIa6YOXFuPIgfHSsg215RiPjdOXHoFG+//XZ54IEHjF2ARgxVA5QRD14YErbT0Lzohs6AcQytwfNmD6NGgarGyXM82Cks4UcNhi5VK2iLHwPwaKF8cR0Adsstt5gfSBoOUOQCE76LAGrc03B6TgpxCA94Qzx44T2uEeKStu4MRwWoQM0rkGaIAxBgpRy2G8HKRzTwDz30kPFAAeQwF0tXl2LVonriFFgAcfakezwPEMBwJIZuMNdKn7cXMmAuXtTqVMy50eE8XeiAYVvEA++fbodRyBOHjtNenQoPCFZ4YmWpevlgp/1CmrAPK2QBTtACnS8AF3PHNF82GOGaDXH4nCRfUeCJZ1EW0AzzBQGrgGbkxV2dCrsAdrrVCvTHcDNWmcJudPqAX9tW5A/bs2zfvt14OBEvvHzwNGo5w2MET5xuFQOb+EquAcoBG/tirzjMG0W9g1fM3ewXQ9jYjgRArVvqVBLiMFcOXkIMv6o3kBBX890SM0gFqEBSBdIMcTZ46J5xADQAk+4TB5CBt8f2xOG5wcHBPI8brgPi3H3i8Fm3BVEwQIeC6zofC6vztFNDGNiB/enUDnj3AB7wAKq3Kg6IYCugE3CDF97DExEHcUgPacMGhNdtS4qZE5c0X3E243l4WDZv3hxamKF5AXDBLsAmQEDTA5ABvFFOuI85blEeNXhdEYfObXTLGfc4Jy45tKn+eoaeKBf8qy3Ua7zggcO2N7in4QBQAHHcv/fee831YiFO44o628OpuI8NgfGj5q677gq8hIS4pK07w1EBKlDzCqQF4qIa/FKvARzgsXFXmJYaH58rHR6oHbWr5jrAOXE13wUyg1Qg3QrUE8TBo4D5cFgdhyE9HWqs5k6EthFyWAc2rg4Q4tLdv9F6KlDzCtQTxKFBxgpSDN1hxZs9TMSOcuM6SmpP7au1DhDiar4LZAapQLoVqCeIq9aOgnYRYlgHqrMOEOLS3b/ReipQ8woQ4qqz82CnznJhHdj4OkCIq/kukBmkAulWgBC38R0FO2uWAetAddYBQly6+zdaTwVqXgFCXHV2HuzUWS6sAxtfBwhxNd8FMoNUIN0KEOI2vqNgZ80yYB2ozjpAiEt3/0brqUDNK0CIq87Og506y4V1YOPrACGu5rtAZpAKpFsBQtzGdxTsrFkGrAPVWQcIcenu32g9Fah5BQhx1dl5sFNnubAObHwdIMTVfBfIDFKBdCsQB3GaK3QkOHimDqwH/B7UWztAiNOegGcqQAWqUoHVIK4qjaZRVIAKUIF1UIAQtw4iMwkqQAVKV4AQV7p2fJIKUIHaVoAQV9vly9xRgdQrQIhLfREyA1SAClRIAUJchYRltFSACpRHAUJceXRkLFSACtSeAoS42itT5ogK1JQChLiaKk5mhgpQgTIqQIgro5iMigpQgfIrQIgrv6aMkQpQgdpQgBBXG+XIXFCBmlXgwoULcu7cOTlz5owsLi7KsWPHBA0XDypABahAvSuAthBtItpGtJFoK9FmFjouKnST96gAFaAC5VQADdL58+dleXlZTp48KcePHzcQh8aLL2rAOsA6UO91AG0i2ka0kWgrCXHl7IEYFxWgAmtSQCHu7NmzcurUKXn33Xfl6NGjcvjwYXnttdfklVdekUOHDsnMzAxf1IB1gHWgpusA2jq0eWj70AaiLUSbiLYRbSQhbk3dDR+mAlSg3AoA4jAvbmVlRZaWlmRhYcF449555x1588035Y033jD/reH11183DRsaN76oAesA60Ct1QG0cfiPFGjz0PahDYQXDm0i2ka0kWgr6Ykrdy/E+KgAFShZAYU4zPXAcMHp06dNo3XixAmZZjdSVQAAARNJREFUn583Ddnbb78tb731Fl/UgHWAdaCm6wDaOsAb2j60gQA4tIloG9FGEuJK7mr4IBWgApVSQIdU8UtTQQ5zQNCAvffee2Y4AUMKfFED1gHWgVqvA2jz0PahDVSAQ9uYZCgVbTQXNlSqp2K8VIAKRCoAiFOQw69NzP3ASiwMIaARwwtzQviiBqwDrAO1XAe0vUPbhzYQbSHaRAU4tJOrHYS41RTifSpABcqugIIchgvQYKHhwq9PfaEx44sasA6wDtRyHdD2DmeFNx1CTQJwaJgJcWXvnhghFaACSRWwYQ6NF1/UgHWAdaBe64C2h0nbT4QjxBWjFsNSASpQUQW0EePZG3KmDtSBdaD268BaGtX/ByqzdchZYY+tAAAAAElFTkSuQmCC)"
   ]
  },
  {
   "cell_type": "markdown",
   "metadata": {},
   "source": [
    "##### **2. Open the table of contents**\n",
    "\n",
    "Click on the **Table of contents** indicated by the three-lines symbol on the left to see the entire Content. "
   ]
  },
  {
   "cell_type": "markdown",
   "metadata": {},
   "source": [
    "##### **3. Light or Dark**\n",
    "\n",
    "If you prefer, you can change Google Colab to dark theme.\n",
    "\n",
    "Go to ***Tools → Settings → Site*** and under **Theme**, pick **dark**."
   ]
  }
 ],
 "metadata": {
  "interpreter": {
   "hash": "aee8b7b246df8f9039afb4144a1f6fd8d2ca17a180786b69acc140d282b71a49"
  },
  "kernelspec": {
   "display_name": "Python 3.9.5 64-bit",
   "language": "python",
   "name": "python3"
  },
  "language_info": {
   "codemirror_mode": {
    "name": "ipython",
    "version": 3
   },
   "file_extension": ".py",
   "mimetype": "text/x-python",
   "name": "python",
   "nbconvert_exporter": "python",
   "pygments_lexer": "ipython3",
   "version": "3.9.5"
  },
  "orig_nbformat": 4
 },
 "nbformat": 4,
 "nbformat_minor": 2
}
