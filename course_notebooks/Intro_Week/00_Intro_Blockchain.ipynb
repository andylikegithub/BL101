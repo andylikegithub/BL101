{
 "cells": [
  {
   "cell_type": "markdown",
   "metadata": {},
   "source": [
    "[![Open In Colab](https://colab.research.google.com/assets/colab-badge.svg)](https://colab.research.google.com/drive/1Ul1OjDmr_WF_F2mES17AYiMlG2Un3QXn?usp=sharing)"
   ]
  },
  {
   "cell_type": "markdown",
   "metadata": {},
   "source": [
    "# Welcome to the unpackBC Bootcamp!\n",
    "\n",
    "**Congratulations** on being part of the unpackBC Bootcamp. We are super excited to learn and progress with you throughout the upcoming weeks. This course will put you ahead of the curve and kick-off your understanding in Blockchain. In the next 5 weeks we will dive into the main areas of Blockchain applications (Cryptocurrencies, NFTs, DeFi and more). In each area you will build your own little project and understand what potentials and limitations come along with each."
   ]
  },
  {
   "cell_type": "markdown",
   "metadata": {},
   "source": [
    "### 📕 Learning Objectives of this Notebook\n",
    "\n",
    "* Understand the context of the Bootcamp (i.e. organizer, requirements structure, etc.)\n",
    "* Learn how to interact with and use Google Collab.\n",
    "* Dive into a brief introduction of the foundation of the Blockchain.\n",
    "* Interact with a blockchain."
   ]
  },
  {
   "cell_type": "markdown",
   "metadata": {},
   "source": [
    "## Who is unpack?\n",
    "\n",
    "unpackAI is an educational platform for learning and applying AI and Blockchain in life and work in order to stay relevant in this ever-changing world. unpackAI explores new forms of community engagement and is determined to build a decentralized platform for life-long learners, educators, and contributors. You can find out more about us via our [Website](https://unpackai.com/) or [LinkedIn](https://www.linkedin.com/company/14590931/admin/)."
   ]
  },
  {
   "cell_type": "markdown",
   "metadata": {},
   "source": [
    "## Bootcamp Code of Conduct\n",
    "\n",
    "1. **Be a Student** - We are here to learn so do not hold back any questions or problems that you are facing. We can help.\n",
    "2. **Be persistent** - In order to achieve your learning goals you will have to persistently invest enough time to complete all learning materials and deliverables.\n",
    "3. **Be respectful** - Everyone who is part of this Bootcamp is here to help you. We ask you to be respectful to your fellow students and mentors, and to stick to the class timings."
   ]
  },
  {
   "cell_type": "markdown",
   "metadata": {},
   "source": [
    "## The unpackAI Teaching Philosophy\n",
    "\n",
    "Over the next 5 weeks you will dive into a field that will be partially or completely new to you. Some code and content that we will utilize might not be very intuitive right away, this, however, is normal.\n",
    "\n",
    "At unpack, we have adopted, a top-down teaching philosophy, that challenges you to dive into the application of Blockchain, before you might fully understand how the entire process works.\n",
    "\n",
    "We will provide you with the instructions, background, and high-level explanations. Your youself will tests your newfound knowledge through application, building greater understanding and clarifying confusion along the way.\n",
    "\n",
    "Even though this is very effective, you might feel uncomfortable, and feel the need to deep dive into a particular topic. We ask you to stick along the content provided make yourself comfortable to learn by doing. For that, our mentors will also help you along the way try to simplify complex concepts to focus and understand the core and not the messy details."
   ]
  },
  {
   "cell_type": "markdown",
   "metadata": {},
   "source": [
    "## Bootcamp Structure\n",
    "\n",
    "Below you can find out more about the entire Bootcamp structure divided into weeks. For every week we have a clear learning objective, paired with a class coursebook, and workbook. In total you will have to invest around 10 hours per week.\n",
    "\n",
    "\n",
    "|Week | Content | Learning Objectives|\n",
    "|:--- |:--- | :--- |\n",
    "|**0** | **Warm-up & Intro** | **Get to know more about your classmates, the mentors, and learn about the fundamental concepts of the Blockchain, how it works, its limitations, and potential.**\n",
    "|1 |Hello Blockchain World | Dive into the technology behind the Blockchain, and learn about how key aspect such as hashing, consensus and smart contracts. Compare different blockchains and their advantages.\n",
    "|2 |Cryptocurrencies & DeFi| Comprehend how cryptocurrencies function, have value and can be integrated into business use cases. Explore the main areas of application in DeFi, GameFi and more.\n",
    "|3 |Non-fungible Tokens (NFTs) | Learn more about Non-fungible Tokens (NFTs) and go through the protocols that make them unique and valuable. Create your own NFT collection, deploy it to a Testnet and view it on OpenSea.\n",
    "|4 | ???: | ???\n",
    "|5 | Personal Project & Graduation | Research, gather feedback, write an article and pitch your project to the class. Successfully graduate from the Bootcamp and receive your AI certification."
   ]
  },
  {
   "cell_type": "markdown",
   "metadata": {},
   "source": [
    "## Weekly Structure\n",
    "\n",
    "Below you can find out more about the weekly structure that is being initiated during the warm-up session. Every week we will have two sessions with their own specific purpose. These sessions will be conducted on Zoom.\n",
    "\n",
    "|  |Monday| Tuesday | Wednesday | Thursday | Friday | Saturday | Sunday |\n",
    "| --- |:--- | :--- | :--- | :--- | :--- | :--- | :--- |\n",
    "|**Type**|Individual study| **Presentation Session** | Individual study | Individual study | Individual study | Individual study|**Review Session**|\n",
    "|**Time**|Self-paced | **7:30pm - 9:30pm**| Self-paced | Self-paced|  Self-paced |Self-paced|**9:00 am - 11:00am**|\n",
    "|**Content** ||**Discuss lesson content & workbook** | | | | |**Discuss questions and problems encountered during the week & review notebook content** |"
   ]
  },
  {
   "cell_type": "markdown",
   "metadata": {},
   "source": [
    "## Software Requirements for the Bootcamp\n",
    "\n",
    "In order to ensure a good learning experience, you will need to use the software listed out below. All of them except the VPN are for free.\n",
    "\n",
    "1. **Zoom**. In order to join live sessions with mentors and fellow students you have to install Zoom on your laptop. You can download it [here](https://zoom.us/download).\n",
    "\n",
    "> *We don't recommend to use your phone to join live sessions as your phone doesn't provide a proper online session environment, and will compromise the quality of live group interactions.*\n",
    "\n",
    "2. **VPN**. Unfortunately, many available resources that we will be utilizing require a VPN. A VPN can cost money if you want to have a reliable connection. We do not advertise any particular one, though many foreigners in China have had a good experience with Astrill.\n",
    "\n",
    "3. **WeChat**. It's our main communication tool for every day communication. You will receive instructions, announcements, ask all sorts of questions related to the content, Bootcamp, and recieve answers on a timely manner in the WeChat group. \n",
    "\n",
    "4. **Google Colab**. You will be able to access all the class content within Google Collab as well as execute and write your own code. It is the main tool for building your AI models, freely provides GPU resources and has other benefits that will be described below."
   ]
  },
  {
   "cell_type": "markdown",
   "metadata": {},
   "source": [
    "# Your Bootcamp learning journey starts here!\n",
    "\n",
    "To get started with the Bootcamp carefully go through the points below. "
   ]
  },
  {
   "cell_type": "markdown",
   "metadata": {},
   "source": [
    "## Introduction to Google Colab\n",
    "\n",
    "Colaboratory, or \"Colab\" for short, allows you to write and execute Python in your browser, with \n",
    "- Zero configuration required\n",
    "- Text, Code, Images and Videos all in one\n",
    "- Easy sharing"
   ]
  }
 ],
 "metadata": {
  "language_info": {
   "name": "python"
  },
  "orig_nbformat": 4
 },
 "nbformat": 4,
 "nbformat_minor": 2
}
