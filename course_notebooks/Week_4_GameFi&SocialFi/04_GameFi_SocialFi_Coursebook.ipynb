{
 "cells": [
  {
   "cell_type": "markdown",
   "metadata": {},
   "source": [
    "# 💻Welcome to Week 4 of the BC101 Bootcamp \n",
    "\n",
    "You have successfully finished the second week! At this point you have already learnt so much about the state of the Blockchain industry. This week we will take you ahead of the curve and introduce you to a new and upcoming field: *GameFi & SocialFi*.\n",
    "\n",
    "## 📕 Learning Objectives\n",
    "\n",
    "* Learn what makes GameFi potentially the next stage to enable mainestream blockchain adoption.\n",
    "* Get an overview of the current GameFi & SocialFi landscape\n",
    "* Understand the differents between on-chain and off-chain gaming\n",
    "* Become familiar with some key players inside the GameFi & SocialFi industry \n",
    "\n",
    "## 📅 Weekly Progress\n",
    "\n",
    "|Week | Content | Learning Objectives|\n",
    "|:--- |:--- | :--- |\n",
    "| 1 | Hello Blockchain World | Get to know more about your classmates, the mentors, and learn about the fundamental concepts of the Blockchain, how it works, and write your first smart contract.|\n",
    "| 2 | Non-fungible Tokens (NFTs)| Learn more about Non-fungible Tokens (NFTs) and go through the protocols that make them unique and valuable. Create your own NFT collection, deploy it to a Testnet and view it on OpenSea. |\n",
    "| 3 | Decentralised Finance (DeFi)| Understand the major innovation behind DeFi, learn about the most popular DeFi protocols, and create your own cryptocurrency and DeFi project for others to interact with. |\n",
    "| **4** | **GameFi & SocialFi** | **Discover a new field in Blockchain that has experienced explosive growth and tapped into concepts such as play-to-earn that currently push the boundaries of blockchain technology application beyond finance. Integrate your own SocialFi project with your DeFi and NFT project.** |\n",
    "| 5 | Decentralised Autonomous Orgaizations (DAOs) & Personal Project  | Find out why DAOs are the industries standard as the governing entity for blockchain-based organizations and how they handle voting mechanisms and tokenomics to make the entire organization function. Go through the process of building your own DAO, and pitch your own Blockchain project to the class. Successfully graduate from the Bootcamp and receive your Blockchain certification. |"
   ]
  },
  {
   "cell_type": "markdown",
   "metadata": {},
   "source": [
    "----\n",
    "\n",
    "Coursebook\n",
    "\n",
    "1. Intro GameFi / SocialFi\n",
    "2. User / Chain Stats Overview (providing students with a broader ecosystem understanding beyond ethereum)\n",
    "3. Token Economy\n",
    "    - Game economy\n",
    "    - Ownership\n",
    "4. Example Cases\n",
    "    - Axie\n",
    "    - STEPN\n",
    "5. On chain gaming ✅\n",
    "6. Industry Issues\n",
    "7. Future Development\n",
    "    - NFT AMM\n",
    "\n",
    "\n",
    "Workbook ✅\n",
    "\n",
    "---- "
   ]
  },
  {
   "cell_type": "markdown",
   "metadata": {},
   "source": []
  },
  {
   "cell_type": "markdown",
   "metadata": {},
   "source": [
    "### Your Deliverables, your time to apply the theory in practice.\n",
    "\n",
    "Congratulations on getting to the end of this Notebook and no worries at all if you struggled with some of the theory and did not fully understand what was taught here as your actual learning starts from here.\n",
    "\n",
    "The ideal time of reading this, is right before the Review Session, so you have a bit of time to reflect about the learning material, identify the most confusing and hard elements of a reading, and bring them to the discussion during the Review Session. The Review session is there for you to close the gap in your current understanding of the material.\n",
    "\n",
    "For your deliverables you will have to work on the Workbook found [here](https://colab.research.google.com/github/unpackAI/BL101/blob/main/course_notebooks/Week_4_GameFi%26SocialFi/04_GameFi_SocialFi_Workbook.ipynb)!"
   ]
  },
  {
   "cell_type": "markdown",
   "metadata": {},
   "source": [
    "---\n",
    "# 📚 Reference"
   ]
  },
  {
   "cell_type": "markdown",
   "metadata": {},
   "source": []
  }
 ],
 "metadata": {
  "language_info": {
   "name": "python"
  },
  "orig_nbformat": 4
 },
 "nbformat": 4,
 "nbformat_minor": 2
}
