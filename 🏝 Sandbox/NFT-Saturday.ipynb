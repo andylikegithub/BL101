{
 "cells": [
  {
   "cell_type": "markdown",
   "metadata": {},
   "source": [
    "---   \n",
    "# Additional Stuff 📦 from NFT-Saturday 🏝\n",
    "---   "
   ]
  },
  {
   "cell_type": "markdown",
   "metadata": {},
   "source": [
    "# What Is Base64 Encoding?"
   ]
  },
  {
   "cell_type": "code",
   "execution_count": 1,
   "metadata": {},
   "outputs": [
    {
     "name": "stdout",
     "output_type": "stream",
     "text": [
      "SGVsbG8gU2hhbmdoYWk=\n"
     ]
    }
   ],
   "source": [
    "# STRING --> BASE64\n",
    "import base64\n",
    "sample_string = \"Hello Shanghai\"\n",
    "sample_string_bytes = sample_string.encode() #convert to byte format\n",
    "base64_bytes = base64.b64encode(sample_string_bytes) #👈🏻 decocde to base64\n",
    "base64_string = base64_bytes.decode(\"ascii\") #convert to string format\n",
    "  \n",
    "print(base64_string)"
   ]
  },
  {
   "cell_type": "markdown",
   "metadata": {},
   "source": [
    "# Hashing"
   ]
  },
  {
   "cell_type": "markdown",
   "metadata": {},
   "source": [
    "![](https://www.dropbox.com/s/v573bvo4idakj4e/hash-algo.png?raw=1)\n",
    "\n",
    "**6. always same output format (OPTIONAL)**"
   ]
  },
  {
   "cell_type": "code",
   "execution_count": 3,
   "metadata": {},
   "outputs": [
    {
     "data": {
      "text/plain": [
       "'764e8ab23aba697ce8365352a91b8e3c57b8f6672c6873f7d9de17f254a31cce'"
      ]
     },
     "execution_count": 3,
     "metadata": {},
     "output_type": "execute_result"
    }
   ],
   "source": [
    "import hashlib\n",
    "hashlib.sha256(\"Dirk\".encode()).hexdigest()"
   ]
  },
  {
   "cell_type": "code",
   "execution_count": 7,
   "metadata": {},
   "outputs": [
    {
     "data": {
      "text/plain": [
       "64"
      ]
     },
     "execution_count": 7,
     "metadata": {},
     "output_type": "execute_result"
    }
   ],
   "source": [
    "# this should be keccak256 (ethereum hashing algorithm)\n",
    "hashlib.sha3_256(\"bla\".encode()).hexdigest()"
   ]
  },
  {
   "cell_type": "code",
   "execution_count": 5,
   "metadata": {},
   "outputs": [
    {
     "name": "stdout",
     "output_type": "stream",
     "text": [
      "4df3c3f68fcc83b27e9d42c90431a72499f17875c81a599b566c9889b9696703\n",
      "d4735e3a265e16eee03f59718b9b5d03019c07d8b6c51f90da3a666eec13ab35\n",
      "e7f6c011776e8db7cd330b54174fd76f7d0216b612387a5ffcfb81e6f0919683\n",
      "97dac45f1b4a569bea99beaaabcdac11abd67ddb0db4041eb9273f26d884cbd2\n"
     ]
    }
   ],
   "source": [
    "# 3. FAST COMPUTATION\n",
    "for i in [\"bla\", \"2\", \"6\", \"asödlkfjaslöfjölasjflöadsjfölasdf\"]:\n",
    "    print(hashlib.sha256(i.encode()).hexdigest())"
   ]
  },
  {
   "cell_type": "code",
   "execution_count": 6,
   "metadata": {},
   "outputs": [
    {
     "name": "stdout",
     "output_type": "stream",
     "text": [
      "21dcfbb385601e8c8021c5d537f49f6426bdd8ff56421ab481066b97eeae03c2\n",
      "3a80cdec3fcc1ea87d1c7a40dee834c1ec277cad990e1a58afc57e8f9ca95bd0\n"
     ]
    }
   ],
   "source": [
    "# 4. AVALANCHE EFFECT\n",
    "for i in [\"Shanghai is the greatest city in the world\", \"Shanghai isn't the greatest city in the world\"]:\n",
    "    print(hashlib.sha256(i.encode()).hexdigest())"
   ]
  },
  {
   "cell_type": "code",
   "execution_count": 8,
   "metadata": {},
   "outputs": [
    {
     "name": "stdout",
     "output_type": "stream",
     "text": [
      "Length of hashvalue:  64\n",
      "Possible Values:  105312291668557186697918027683670432318895095400549111254310977536\n"
     ]
    }
   ],
   "source": [
    "# 5. MUST WITHSTAND COLLISION\n",
    "hash_len = len( hashlib.sha3_256(\"bla\".encode()).hexdigest() )\n",
    "print(\"Length of hashvalue: \", hash_len)\n",
    "print(\"Possible Values: \", 64**(26+10))"
   ]
  },
  {
   "cell_type": "code",
   "execution_count": 9,
   "metadata": {},
   "outputs": [
    {
     "data": {
      "text/plain": [
       "-4696567998424474479"
      ]
     },
     "execution_count": 9,
     "metadata": {},
     "output_type": "execute_result"
    }
   ],
   "source": [
    "# A hash is also a number\n",
    "hash(\"75c9534e499fc7a7065fcfb1f8cd4bf4835dcbd5a23f88248233832420b9c67e\")"
   ]
  },
  {
   "cell_type": "markdown",
   "metadata": {},
   "source": [
    "# Mining 🤑"
   ]
  },
  {
   "cell_type": "code",
   "execution_count": 15,
   "metadata": {},
   "outputs": [
    {
     "name": "stdout",
     "output_type": "stream",
     "text": [
      "Execution time 0.62\n",
      "Number of trials:  111130\n"
     ]
    },
    {
     "data": {
      "text/plain": [
       "'0000a13e79fb89055f8b83cae730e046e14dbb3b99e15cd2f9ece73ec032662f'"
      ]
     },
     "execution_count": 15,
     "metadata": {},
     "output_type": "execute_result"
    }
   ],
   "source": [
    "# BLOCK #2\n",
    "import time\n",
    "def proof_of_work(previous_hash=\"sd46h42f6\"):\n",
    "    t0=time.time()\n",
    "    previous_proof = hash(previous_hash) #hash value -> integer\n",
    "    BLOCK = 2 # BLOCK No. 2\n",
    "    nonce = 1 # 👈🏻 this we can change\n",
    "    \n",
    "    # brute-force:\n",
    "    check_proof = False\n",
    "    while check_proof is False:\n",
    "        hash_operation = hashlib.sha256(str(nonce**2 - previous_proof**2 + BLOCK).encode()).hexdigest()\n",
    "        n = 4 # 👈🏻  change number of leading zeros\n",
    "        if hash_operation[:n] == n*'0': \n",
    "            check_proof = True # success -> mined the block 💰💃🕺\n",
    "        else:\n",
    "            nonce += 1\n",
    "    t1=time.time()\n",
    "    print(f\"Execution time {t1-t0:.2f}\")\n",
    "    print(\"Number of trials: \", nonce)\n",
    "    return hash_operation\n",
    "\n",
    "hash_block2 = proof_of_work()\n",
    "hash_block2 "
   ]
  },
  {
   "cell_type": "code",
   "execution_count": 19,
   "metadata": {},
   "outputs": [
    {
     "name": "stdout",
     "output_type": "stream",
     "text": [
      "Execution time 2.43\n",
      "Number of trials:  433041\n"
     ]
    },
    {
     "data": {
      "text/plain": [
       "'000005e7a0f01c6245d2674c0e0d0e3c1d533e3671412a4c1f1d7d6976e4cf18'"
      ]
     },
     "execution_count": 19,
     "metadata": {},
     "output_type": "execute_result"
    }
   ],
   "source": [
    "# BLOCK #3\n",
    "\n",
    "def proof_of_work(previous_hash):\n",
    "    t0=time.time()\n",
    "    previous_proof = hash(previous_hash) #hash value -> integer\n",
    "    BLOCK = 3 # BLOCK No. 3\n",
    "    nonce = 1 # 👈🏻 this we can change 👨‍💻\n",
    "    \n",
    "    # brute-force:\n",
    "    check_proof = False\n",
    "    while check_proof is False:\n",
    "        hash_operation = hashlib.sha256(str(nonce**2 - previous_proof**2 + BLOCK).encode()).hexdigest()\n",
    "        n = 5 # 👈🏻  change number of leading zeros\n",
    "        if hash_operation[:n] == n*'0': \n",
    "            check_proof = True # success -> mined the block 💰💃🕺\n",
    "        else:\n",
    "            nonce += 1\n",
    "    t1=time.time()\n",
    "    print(f\"Execution time {t1-t0:.2f}\")\n",
    "    print(\"Number of trials: \", nonce)\n",
    "    return hash_operation\n",
    "\n",
    "proof_of_work(hash_block2)"
   ]
  },
  {
   "cell_type": "markdown",
   "metadata": {},
   "source": []
  }
 ],
 "metadata": {
  "interpreter": {
   "hash": "b37b38a6f47cd4b4051719b99ea9057f05be0d4b3ac061a1b37302dbc9fa3caa"
  },
  "kernelspec": {
   "display_name": "Python 3 (ipykernel)",
   "language": "python",
   "name": "python3"
  },
  "language_info": {
   "codemirror_mode": {
    "name": "ipython",
    "version": 3
   },
   "file_extension": ".py",
   "mimetype": "text/x-python",
   "name": "python",
   "nbconvert_exporter": "python",
   "pygments_lexer": "ipython3",
   "version": "3.7.11"
  }
 },
 "nbformat": 4,
 "nbformat_minor": 4
}
