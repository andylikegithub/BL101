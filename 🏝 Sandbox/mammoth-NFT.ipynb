{
 "cells": [
  {
   "cell_type": "markdown",
   "metadata": {},
   "source": [
    ">Conda Environment: `blockchain39` (iMac)"
   ]
  },
  {
   "cell_type": "markdown",
   "metadata": {},
   "source": [
    "--- \n",
    "# Mammoth NFT\n",
    "---  \n",
    "> 🏁🏎  build an NFT smart contract - compile it - deploy it to the ethereum testnet - interact with it (mint NFTs)   \n",
    "## Source: \n",
    "The code follows these 5 tutorials from Mammothinteractive:\n",
    "- https://www.youtube.com/watch?v=SQ-chPSNgGw&list=PLw-9a9yL-pt3oKQgq_ZYzkMKAkbr8M67P&index=10\n",
    "- https://www.youtube.com/watch?v=HOJ-Xl9_FYg&list=PLw-9a9yL-pt3oKQgq_ZYzkMKAkbr8M67P&index=11\n",
    "- https://www.youtube.com/watch?v=lL5s9FDYo64&list=PLw-9a9yL-pt3oKQgq_ZYzkMKAkbr8M67P&index=12\n",
    "- https://www.youtube.com/watch?v=lL5s9FDYo64&list=PLw-9a9yL-pt3oKQgq_ZYzkMKAkbr8M67P&index=12\n",
    "- https://www.youtube.com/watch?v=DjMoJEnnvXs&list=PLw-9a9yL-pt3oKQgq_ZYzkMKAkbr8M67P&index=13\n",
    "\n",
    "_`MammothNFT` are - if I understand it right - NFT collectibles of mammoths: the user basically creates a herd of mammoths, e.g. every new mammoth must be minted (and depends on father and mother mammoth), can be owned and ownership can be transferred.    \n",
    "It is basically not so different to our `HelloWorld` example. It starts with a smart contract and shows how to deploy and interact with it. But we could use this to design our own NFTs collectibles (instead of mammoths we can create something else: puppy breeds, aliens, faultier (everybody loves 🦥), or ...)_\n",
    "\n",
    "> The code from the videos did not work -> I substitated some parts with different code. Especially the `EthereumTesterProvider` was not working, but might be useful for us: it provides a nice testing evnironment where the students dont need a Metamask wallet but can write and deploy to the testnet."
   ]
  },
  {
   "cell_type": "code",
   "execution_count": 29,
   "metadata": {},
   "outputs": [],
   "source": [
    "# IMPORT LIBRARIES\n",
    "\n",
    "# Standard library imports\n",
    "import sys\n",
    "import os\n",
    "import pkg_resources\n",
    "import time as time\n",
    "\n",
    "# Third party imports\n",
    "import solcx\n",
    "from web3 import Web3 \n",
    "from web3.auto.gethdev import w3\n",
    "from web3 import EthereumTesterProvider\n",
    "from Crypto.Hash import keccak\n",
    "from dotenv import load_dotenv\n",
    "\n",
    "# UnpackAI Trainings Module\n",
    "import bl101\n",
    "\n",
    "# Constants\n",
    "ENVIRONMENT = pkg_resources.resource_filename('bl101', '.env')\n",
    "CONTRACT_DIR = pkg_resources.resource_filename(\"bl101\", \"contracts\")\n",
    "\n",
    "# Load environment variables from .env in bl101\n",
    "load_dotenv(ENVIRONMENT)\n",
    "\n",
    "# LOAD METAMASK CREDENTIALS from local file\n",
    "load_dotenv('.privatecredentials')\n",
    "private_key = \"0x\" + os.getenv(\"private_key_A\")\n"
   ]
  },
  {
   "cell_type": "code",
   "execution_count": 31,
   "metadata": {},
   "outputs": [],
   "source": [
    "# Load nft contract from bl101 package (I puth the contract into our package)\n",
    "contract_file = os.path.join(CONTRACT_DIR, 'MammothNFT.sol')\n",
    "with open(contract_file, \"r\") as file:\n",
    "    contract = file.read()"
   ]
  },
  {
   "cell_type": "code",
   "execution_count": null,
   "metadata": {},
   "outputs": [],
   "source": [
    "# Compile it\n",
    "solcx.install_solc('0.8.12') # install the right solidity version\n",
    "\n",
    "compiled_contract = solcx.compile_standard(\n",
    "    {\n",
    "    \"language\": \"Solidity\",\n",
    "    \"sources\": {\"helloworld.sol\": {\"content\": contract}},\n",
    "    \"settings\": {\"outputSelection\": {\"*\": {\"*\": [\"abi\", \"metadata\", \"evm.bytecode\", \"evm.bytecode.sourceMap\"] }}},\n",
    "    \n",
    "    },\n",
    "    solc_version = \"0.8.12\"\n",
    ")\n",
    "# -> creates dict with keys: errors, sources & >>>contracts<<<"
   ]
  },
  {
   "cell_type": "code",
   "execution_count": 32,
   "metadata": {},
   "outputs": [],
   "source": [
    "compiled_solidity = solcx.compile_source(contract, output_values = ['abi', 'bin'])"
   ]
  },
  {
   "cell_type": "code",
   "execution_count": 33,
   "metadata": {},
   "outputs": [],
   "source": [
    "# compiled_solidity contains all the information we need - we now only grab the part we really need:\n",
    "contract_id, contract_interface = compiled_solidity.popitem()"
   ]
  },
  {
   "cell_type": "code",
   "execution_count": 34,
   "metadata": {},
   "outputs": [
    {
     "data": {
      "text/plain": [
       "'<stdin>:MammothNFT'"
      ]
     },
     "execution_count": 34,
     "metadata": {},
     "output_type": "execute_result"
    }
   ],
   "source": [
    "contract_id"
   ]
  },
  {
   "cell_type": "markdown",
   "metadata": {},
   "source": [
    "The `contract_interface` contains the ABI. And like in our Helloworld contract from course 1 the abi contains all the metadata of the contract in json-format:"
   ]
  },
  {
   "cell_type": "code",
   "execution_count": 35,
   "metadata": {},
   "outputs": [],
   "source": [
    "abi = contract_interface[\"abi\"]\n",
    "#abi"
   ]
  },
  {
   "cell_type": "markdown",
   "metadata": {},
   "source": [
    "And again we need the bytecode, i.e. the (for humans) non-readable code which can be converted back to solidity and which we send then to the blockchain. We can grab it from the `contract_interface`:"
   ]
  },
  {
   "cell_type": "code",
   "execution_count": 36,
   "metadata": {},
   "outputs": [],
   "source": [
    "# and again we need the bytecode of the contract:\n",
    "bytecode = contract_interface['bin']"
   ]
  },
  {
   "cell_type": "markdown",
   "metadata": {},
   "source": [
    "... of course the bytecode is not readable but we can print out length and the first 500 character:"
   ]
  },
  {
   "cell_type": "code",
   "execution_count": 37,
   "metadata": {},
   "outputs": [
    {
     "name": "stdout",
     "output_type": "stream",
     "text": [
      "8394\n"
     ]
    },
    {
     "data": {
      "text/plain": [
       "'608060405234801561001057600080fd5b50611045806100206000396000f3fe608060405234801561001057600080fd5b506004361061009e5760003560e01c806370a082311161006657806370a082311461016f57806391f8866e1461019f57806395d89b41146101cf578063a9059cbb146101ed578063e9716b66146102095761009e565b80630137b84f146100a357806306fdde03146100d357806318160ddd146100f15780635d6bd20a1461010f5780636352211e1461013f575b600080fd5b6100bd60048036038101906100b89190610b26565b610239565b6040516100ca9190610b94565b60405180910390f35b6100db61026c'"
      ]
     },
     "execution_count": 37,
     "metadata": {},
     "output_type": "execute_result"
    }
   ],
   "source": [
    "print(len(bytecode)) #maybe we should refer to the HelloWorld contract length and show how much more the gas price now is\n",
    "bytecode[:500]"
   ]
  },
  {
   "cell_type": "markdown",
   "metadata": {},
   "source": [
    "## Deploy to `Ethereum` blockchain"
   ]
  },
  {
   "cell_type": "code",
   "execution_count": null,
   "metadata": {},
   "outputs": [
    {
     "name": "stderr",
     "output_type": "stream",
     "text": [
      "/Users/dirkkalmbach/opt/anaconda3/envs/blockchain39/lib/python3.9/site-packages/eth_tester/backends/__init__.py:30: UserWarning: Ethereum Tester: No backend was explicitly set, and no *full* backends were available.  Falling back to the `MockBackend` which does not support all EVM functionality.  Please refer to the `eth-tester` documentation for information on what backends are available and how to set them.  Your py-evm package may need to be updated.\n",
      "  warnings.warn(UserWarning(\n"
     ]
    },
    {
     "data": {
      "text/plain": [
       "<web3.main.Web3 at 0x1079d5730>"
      ]
     },
     "metadata": {},
     "output_type": "display_data"
    }
   ],
   "source": [
    "# WAS NOT RUNNING\n",
    "# alternative to infura: EthereumTesterProvider:\n",
    "\"\"\"\n",
    "w3 = Web3(Web3.EthereumTesterProvider())\n",
    "w3.eth.default_account = w3.eth.accounts[0]\n",
    "w3.eth.default_account\n",
    "w3\n",
    "\"\"\""
   ]
  },
  {
   "cell_type": "code",
   "execution_count": 39,
   "metadata": {},
   "outputs": [
    {
     "data": {
      "text/plain": [
       "True"
      ]
     },
     "execution_count": 39,
     "metadata": {},
     "output_type": "execute_result"
    }
   ],
   "source": [
    "# So I used again Rinkeby Testnet via Infura\n",
    "infura_url_rinkeby = 'https://rinkeby.infura.io/v3/' + os.environ.get(\"INFURA\")  #my Infura project ID/uri for Rinkeby (stored in bl101)\n",
    "\n",
    "w3 = Web3(Web3.HTTPProvider(infura_url_rinkeby))\n",
    "w3.isConnected()"
   ]
  },
  {
   "cell_type": "markdown",
   "metadata": {},
   "source": [
    "Last time we used an http-provder (infura). Now we use the `EthereumTesterProvider` - a useful ..."
   ]
  },
  {
   "cell_type": "code",
   "execution_count": 40,
   "metadata": {},
   "outputs": [
    {
     "data": {
      "text/plain": [
       "web3._utils.datatypes.Contract"
      ]
     },
     "execution_count": 40,
     "metadata": {},
     "output_type": "execute_result"
    }
   ],
   "source": [
    "# build contract from abi and bytecode\n",
    "NFT = w3.eth.contract(abi=abi, bytecode=bytecode)\n",
    "NFT"
   ]
  },
  {
   "cell_type": "code",
   "execution_count": 41,
   "metadata": {},
   "outputs": [
    {
     "data": {
      "text/plain": [
       "137"
      ]
     },
     "execution_count": 41,
     "metadata": {},
     "output_type": "execute_result"
    }
   ],
   "source": [
    "# Get Nonce from wallet\n",
    "wallet_address = os.environ.get(\"WALLETADDRESS\") # <-from bl101, my personal Metamask account (? shall we provide one unpackai metamask account for the students?)\n",
    "nonce = w3.eth.get_transaction_count(wallet_address)\n",
    "nonce"
   ]
  },
  {
   "cell_type": "markdown",
   "metadata": {},
   "source": [
    "Perform a transaction."
   ]
  },
  {
   "cell_type": "code",
   "execution_count": 42,
   "metadata": {},
   "outputs": [],
   "source": [
    "rinkeby_chain = 4\n",
    "transaction = NFT.constructor().buildTransaction(\n",
    "    {\n",
    "        \"chainId\": rinkeby_chain, \n",
    "        \"from\": wallet_address, \n",
    "        \"nonce\": nonce, \n",
    "        \"gasPrice\": w3.eth.gas_price})"
   ]
  },
  {
   "cell_type": "code",
   "execution_count": 43,
   "metadata": {},
   "outputs": [],
   "source": [
    "signed_transaction = w3.eth.account.sign_transaction(transaction, private_key=private_key)"
   ]
  },
  {
   "cell_type": "code",
   "execution_count": 44,
   "metadata": {},
   "outputs": [],
   "source": [
    "transaction_hash = w3.eth.send_raw_transaction(signed_transaction.rawTransaction)"
   ]
  },
  {
   "cell_type": "code",
   "execution_count": 45,
   "metadata": {},
   "outputs": [],
   "source": [
    "transaction_receipt = w3.eth.wait_for_transaction_receipt(transaction_hash)"
   ]
  },
  {
   "cell_type": "code",
   "execution_count": 46,
   "metadata": {},
   "outputs": [
    {
     "data": {
      "text/plain": [
       "<web3._utils.datatypes.Contract at 0x10dd8c3d0>"
      ]
     },
     "execution_count": 46,
     "metadata": {},
     "output_type": "execute_result"
    }
   ],
   "source": [
    "nft_object = w3.eth.contract(address=transaction_receipt.contractAddress, abi=abi)\n",
    "nft_object"
   ]
  },
  {
   "cell_type": "markdown",
   "metadata": {},
   "source": [
    "## Interact with smart contract [📺](https://youtu.be/DjMoJEnnvXs?list=PLw-9a9yL-pt3oKQgq_ZYzkMKAkbr8M67P)"
   ]
  },
  {
   "cell_type": "markdown",
   "metadata": {},
   "source": [
    "`nft_object` is a reference to our nft object on the blockchain. We can call any function inside this contract as long as they are public or external. The syntaxt for acessing functions are:   \n",
    ">*[smart contract object]*.`functions`.*[function name]*`(`*[parameters (optional)]*`)`.`call()`\n",
    "\n",
    "Call are acessing a value or trying out a transaction, but its not a official transaction (no gas needed)"
   ]
  },
  {
   "cell_type": "code",
   "execution_count": 47,
   "metadata": {},
   "outputs": [
    {
     "data": {
      "text/plain": [
       "0"
      ]
     },
     "execution_count": 47,
     "metadata": {},
     "output_type": "execute_result"
    }
   ],
   "source": [
    "# reference to nft object which exists on the blockchain = nft_object\n",
    "nft_object.functions.totalSupply().call() #calls the totalSupply function the smart contract"
   ]
  },
  {
   "cell_type": "markdown",
   "metadata": {},
   "source": [
    "We can increase that supply (I think with supply they mean the size of the herd) we need to mint an NFT:\n",
    "\n",
    "`_createMammoth` is the public function to mint the NFT. It has these parameters:\n",
    "- _motherID\n",
    "- _father_ID\n",
    "- _generation\n",
    "- _genes\n",
    "_ _owner\n",
    "and returns `newMammothId`, which is an address and will become the owner of the NFT. \n",
    "\n",
    "\n",
    "*(maybe it would make sense to look into the contract at this time to understand also the other functions)*"
   ]
  },
  {
   "cell_type": "code",
   "execution_count": 49,
   "metadata": {},
   "outputs": [
    {
     "data": {
      "text/plain": [
       "0"
      ]
     },
     "execution_count": 49,
     "metadata": {},
     "output_type": "execute_result"
    }
   ],
   "source": [
    "# we mint it to ourself\n",
    "# this is not making a transaction (just a call) -> does not cost gas\n",
    "nft_object.functions._createMammoth(1, 2, 3, 12342, wallet_address).call()"
   ]
  },
  {
   "cell_type": "markdown",
   "metadata": {},
   "source": [
    "### Minting a 🐘"
   ]
  },
  {
   "cell_type": "markdown",
   "metadata": {},
   "source": [
    "Make a transaction:"
   ]
  },
  {
   "cell_type": "code",
   "execution_count": 50,
   "metadata": {},
   "outputs": [],
   "source": [
    "# nonce from my wallet \n",
    "nonce = w3.eth.get_transaction_count(wallet_address)\n",
    "\n",
    "# instead of call function, we build a transaction function:\n",
    "update_nft_transaction = nft_object.functions._createMammoth(1, 2, 3, 12342, wallet_address).buildTransaction(\n",
    "    {\n",
    "        \"gasPrice\": w3.eth.gas_price,\n",
    "        \"chainId\": rinkeby_chain,\n",
    "        \"from\": wallet_address,\n",
    "        \"nonce\": nonce\n",
    "    }\n",
    ")\n"
   ]
  },
  {
   "cell_type": "code",
   "execution_count": null,
   "metadata": {},
   "outputs": [
    {
     "data": {
      "text/plain": [
       "{'value': 0,\n",
       " 'gas': 165133,\n",
       " 'gasPrice': 1025981699,\n",
       " 'chainId': 4,\n",
       " 'from': '0x7Dda3ae0b40D7d86AC54edc7888c40EF7521c3c0',\n",
       " 'nonce': 136,\n",
       " 'to': '0xcB1AEd0F4BeB0B5749E096D109e37eF4Da6D903e',\n",
       " 'data': '0x91f8866e00000000000000000000000000000000000000000000000000000000000000010000000000000000000000000000000000000000000000000000000000000002000000000000000000000000000000000000000000000000000000000000000300000000000000000000000000000000000000000000000000000000000030360000000000000000000000007dda3ae0b40d7d86ac54edc7888c40ef7521c3c0'}"
      ]
     },
     "metadata": {},
     "output_type": "display_data"
    }
   ],
   "source": [
    "# from: my wallet to: contract address\n",
    "update_nft_transaction"
   ]
  },
  {
   "cell_type": "markdown",
   "metadata": {},
   "source": [
    "![contract on ethereum](images/mint-mammoth-contract.png)"
   ]
  },
  {
   "cell_type": "code",
   "execution_count": 51,
   "metadata": {},
   "outputs": [
    {
     "name": "stdout",
     "output_type": "stream",
     "text": [
      "Execution time: 16.91s\n"
     ]
    }
   ],
   "source": [
    "# this might take a while (depending on how big the contract is)\n",
    "t0=time.time()\n",
    "\n",
    "# 1.\n",
    "signed_transaction = w3.eth.account.sign_transaction(update_nft_transaction,\n",
    "                                                        private_key=private_key)\n",
    "# 2.\n",
    "transaction_hash = w3.eth.send_raw_transaction(signed_transaction.rawTransaction)\n",
    "\n",
    "# 3.\n",
    "transaction_receipt = w3.eth.wait_for_transaction_receipt(transaction_hash)\n",
    "\n",
    "t1=time.time()\n",
    "print(f\"Execution time: {t1-t0:.2f}s\")"
   ]
  },
  {
   "cell_type": "code",
   "execution_count": 53,
   "metadata": {},
   "outputs": [
    {
     "data": {
      "text/plain": [
       "AttributeDict({'blockHash': HexBytes('0x7a096e43dcdc07f606b8ee6e8fecc82b90e2f79cadea2bb1731509738a16f195'),\n",
       " 'blockNumber': 10668583,\n",
       " 'contractAddress': None,\n",
       " 'cumulativeGasUsed': 4680653,\n",
       " 'effectiveGasPrice': 1025605415,\n",
       " 'from': '0x7Dda3ae0b40D7d86AC54edc7888c40EF7521c3c0',\n",
       " 'gasUsed': 165133,\n",
       " 'logs': [AttributeDict({'address': '0xFb0D532e28233f989986bBD5fA2D89b43F98AE49',\n",
       "   'blockHash': HexBytes('0x7a096e43dcdc07f606b8ee6e8fecc82b90e2f79cadea2bb1731509738a16f195'),\n",
       "   'blockNumber': 10668583,\n",
       "   'data': '0x0000000000000000000000007dda3ae0b40d7d86ac54edc7888c40ef7521c3c00000000000000000000000000000000000000000000000000000000000000000000000000000000000000000000000000000000000000000000000000000000100000000000000000000000000000000000000000000000000000000000000020000000000000000000000000000000000000000000000000000000000003036',\n",
       "   'logIndex': 56,\n",
       "   'removed': False,\n",
       "   'topics': [HexBytes('0x0a5311bd2a6608f08a180df2ee7c5946819a649b204b554bb8e39825b2c50ad5')],\n",
       "   'transactionHash': HexBytes('0x0ebd4b07764bdc79093343cf88181294cf0a67065594c64ae9114319f3cee5a4'),\n",
       "   'transactionIndex': 47}),\n",
       "  AttributeDict({'address': '0xFb0D532e28233f989986bBD5fA2D89b43F98AE49',\n",
       "   'blockHash': HexBytes('0x7a096e43dcdc07f606b8ee6e8fecc82b90e2f79cadea2bb1731509738a16f195'),\n",
       "   'blockNumber': 10668583,\n",
       "   'data': '0x',\n",
       "   'logIndex': 57,\n",
       "   'removed': False,\n",
       "   'topics': [HexBytes('0xddf252ad1be2c89b69c2b068fc378daa952ba7f163c4a11628f55a4df523b3ef'),\n",
       "    HexBytes('0x0000000000000000000000000000000000000000000000000000000000000000'),\n",
       "    HexBytes('0x0000000000000000000000007dda3ae0b40d7d86ac54edc7888c40ef7521c3c0'),\n",
       "    HexBytes('0x0000000000000000000000000000000000000000000000000000000000000000')],\n",
       "   'transactionHash': HexBytes('0x0ebd4b07764bdc79093343cf88181294cf0a67065594c64ae9114319f3cee5a4'),\n",
       "   'transactionIndex': 47})],\n",
       " 'logsBloom': HexBytes('0x00000000000002000000000000001000000000000000000000000000000000000000000000000000000000000000000000000000000000000000000000000000000000000000000000000008000000000000000000000000000000000000000000002000020000000000000000000800800000000000000000000010000020000000000000000000000000000000000000000000000000000000000000000000000000000000000000000000000000000000000000000000000000000000000000000002000000000010000000000000000000000400000000000000000020000000000100000000000040000000000000000000000000000000000000000000'),\n",
       " 'status': 1,\n",
       " 'to': '0xFb0D532e28233f989986bBD5fA2D89b43F98AE49',\n",
       " 'transactionHash': HexBytes('0x0ebd4b07764bdc79093343cf88181294cf0a67065594c64ae9114319f3cee5a4'),\n",
       " 'transactionIndex': 47,\n",
       " 'type': '0x0'})"
      ]
     },
     "execution_count": 53,
     "metadata": {},
     "output_type": "execute_result"
    }
   ],
   "source": [
    "# If we want we can printout the details of the transaction\n",
    "transaction_receipt"
   ]
  },
  {
   "cell_type": "markdown",
   "metadata": {},
   "source": [
    "Rerun again `totalSuplly` function of our contract:"
   ]
  },
  {
   "cell_type": "code",
   "execution_count": 55,
   "metadata": {},
   "outputs": [
    {
     "data": {
      "text/plain": [
       "1"
      ]
     },
     "execution_count": 55,
     "metadata": {},
     "output_type": "execute_result"
    }
   ],
   "source": [
    "nft_object.functions.totalSupply().call()"
   ]
  },
  {
   "cell_type": "markdown",
   "metadata": {},
   "source": [
    "È voilà! `totalSupply` increased by 1! 🥳🎊🎉"
   ]
  }
 ],
 "metadata": {
  "interpreter": {
   "hash": "ea271a8d55864f2db1b3c7d9182e9261e5d717f60008da9ec5479eef0acaf401"
  },
  "kernelspec": {
   "display_name": "Python 3.9.10 ('blockchain39')",
   "language": "python",
   "name": "python3"
  },
  "language_info": {
   "codemirror_mode": {
    "name": "ipython",
    "version": 3
   },
   "file_extension": ".py",
   "mimetype": "text/x-python",
   "name": "python",
   "nbconvert_exporter": "python",
   "pygments_lexer": "ipython3",
   "version": "3.9.10"
  },
  "orig_nbformat": 4
 },
 "nbformat": 4,
 "nbformat_minor": 2
}
