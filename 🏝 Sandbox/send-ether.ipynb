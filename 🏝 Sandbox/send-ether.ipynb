{
 "cells": [
  {
   "cell_type": "code",
   "execution_count": 1,
   "metadata": {},
   "outputs": [],
   "source": [
    "# IMPORT LIBRARIES\n",
    "import os\n",
    "from web3 import Web3 \n",
    "from dotenv import load_dotenv\n",
    "import pkg_resources\n",
    "\n",
    "# UnpackAI Trainings Module\n",
    "import bl101\n",
    "\n",
    "# Constants\n",
    "ENVIRONMENT = pkg_resources.resource_filename('bl101', '.env')\n",
    "\n",
    "# Load environment variables from .env in bl101\n",
    "load_dotenv(ENVIRONMENT)\n",
    "\n",
    "# LOAD METAMASK CREDENTIALS from local file\n",
    "load_dotenv('.privatecredentials')\n",
    "private_key = \"0x\" + os.getenv(\"private_key_A\")\n",
    "account_1 = os.getenv(\"wallet_address_A1\")\n",
    "account_2 = os.getenv(\"wallet_address_B1\")"
   ]
  },
  {
   "cell_type": "markdown",
   "metadata": {},
   "source": [
    "This code sends ether from `account_1` to `account_2`. The students shold use their own accounts (a commpany account would sooner or later run out of gas). They can either transfer between two different Metamask wallets or simply add a second account to heir wallet. \n",
    "\n",
    "We need:\n",
    "1. address of `account_1`\n",
    "2. private key of `account_1`'s wallet\n",
    "3. address of `account_2`\n",
    "4. enough gas on `account_1` \n"
   ]
  },
  {
   "cell_type": "code",
   "execution_count": 19,
   "metadata": {},
   "outputs": [
    {
     "name": "stdout",
     "output_type": "stream",
     "text": [
      "0x1aa23d73a0e1262f9a7e54a62d3d2637919ba70a5040e2bbcb1ca28b788452b6\n"
     ]
    }
   ],
   "source": [
    "from web3 import Web3 \n",
    "\n",
    "infura_url_rinkeby = 'https://rinkeby.infura.io/v3/' + os.environ.get(\"INFURA\")  #my Infura project ID/uri for Rinkeby (stored in bl101)\n",
    "\n",
    "web3 = Web3(Web3.HTTPProvider(infura_url_rinkeby))\n",
    "\n",
    "account_1 = '0x7Dda3ae0b40D7d86AC54edc7888c40EF7521c3c0'\n",
    "private_key1 = private_key\n",
    "account_2 = '0xB077DB97595a1509fC5B1714429178a7F6ef28E2'\n",
    "\n",
    "#get the nonce.  Prevents one from sending the transaction twice\n",
    "nonce = web3.eth.getTransactionCount(account_1)\n",
    "\n",
    "#build a transaction in a dictionary\n",
    "tx = {\n",
    "    'nonce': nonce,\n",
    "    'to': account_2,\n",
    "    'value': web3.toWei(0.2, 'ether'),\n",
    "    'gas': 2000000,\n",
    "    'gasPrice': web3.toWei('50', 'gwei'),\n",
    "    'data': 'Enyjoy your Ether :-)'\n",
    "}\n",
    "\n",
    "#sign the transaction\n",
    "signed_tx = web3.eth.account.sign_transaction(tx, private_key1)\n",
    "\n",
    "#send transaction\n",
    "tx_hash = web3.eth.sendRawTransaction(signed_tx.rawTransaction)\n",
    "\n",
    "#get transaction hash\n",
    "print(web3.toHex(tx_hash))"
   ]
  },
  {
   "cell_type": "markdown",
   "metadata": {},
   "source": [
    "Paste `transaction hash` into [https://rinkeby.etherscan.io](https://rinkeby.etherscan.io/tx/0x2cd2866010ee6e47e4aeb948527c05de38049d1f0a5641c0145f3f78fcbfef9d):  \n",
    "\n",
    "![transfer receipt](images/transfer-ether-receipt.png)"
   ]
  },
  {
   "cell_type": "markdown",
   "metadata": {},
   "source": [
    "## Reference\n",
    "https://cryptomarketpool.com/send-a-transaction-to-the-ethereum-blockchain-using-python-and-web3-py/"
   ]
  },
  {
   "cell_type": "markdown",
   "metadata": {},
   "source": []
  }
 ],
 "metadata": {
  "interpreter": {
   "hash": "ea271a8d55864f2db1b3c7d9182e9261e5d717f60008da9ec5479eef0acaf401"
  },
  "kernelspec": {
   "display_name": "Python 3.9.10 ('blockchain39')",
   "language": "python",
   "name": "python3"
  },
  "language_info": {
   "codemirror_mode": {
    "name": "ipython",
    "version": 3
   },
   "file_extension": ".py",
   "mimetype": "text/x-python",
   "name": "python",
   "nbconvert_exporter": "python",
   "pygments_lexer": "ipython3",
   "version": "3.9.10"
  },
  "orig_nbformat": 4
 },
 "nbformat": 4,
 "nbformat_minor": 2
}
