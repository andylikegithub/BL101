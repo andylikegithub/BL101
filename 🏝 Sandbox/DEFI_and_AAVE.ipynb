{
 "cells": [
  {
   "cell_type": "markdown",
   "metadata": {},
   "source": [
    "----   \n",
    "Lesson 10: Defi & Aave    \n",
    "---         \n",
    "\n",
    "> this notebook *translated* the code from [Solidity, Blockchain, and Smart Contract Course, Lesson 10: Defi & Aave](https://www.youtube.com/watch?v=M576WGiDBdQ&t=30893s)   \n",
    "> The students learn:   \n",
    ">   a) how get `WETH` into their `Metamask` wallet and    \n",
    ">   b) how to borrow (and repay) `ETH` on `aave`.   \n",
    "----     "
   ]
  },
  {
   "cell_type": "code",
   "execution_count": 156,
   "metadata": {},
   "outputs": [],
   "source": [
    "# IMPORT LIBRARIES\n",
    "import os\n",
    "import sys\n",
    "from web3 import Web3 \n",
    "from web3.gas_strategies.time_based import medium_gas_price_strategy # 👈🏻 NEW\n",
    "from dotenv import load_dotenv\n",
    "import pkg_resources\n",
    "\n",
    "# UnpackAI Trainings Module\n",
    "import bl101\n",
    "\n",
    "# Constants\n",
    "ENVIRONMENT = pkg_resources.resource_filename('bl101', '.env')\n",
    "\n",
    "# Load environment variables from .env in bl101\n",
    "load_dotenv(ENVIRONMENT)\n",
    "\n",
    "# LOAD METAMASK CREDENTIALS from local file\n",
    "load_dotenv('.privatecredentials')\n",
    "private_key = \"0x\" + os.getenv(\"private_key_A\")\n",
    "account_1 = os.getenv(\"wallet_address_A1\")\n",
    "infura_url_kovan = os.getenv(\"infura_kovan\")"
   ]
  },
  {
   "cell_type": "code",
   "execution_count": 157,
   "metadata": {},
   "outputs": [],
   "source": [
    "#  ABI for getting weth and borrowing\n",
    "sys.path.insert(0, './helpers')\n",
    "from abis import weth_abi\n",
    "from abis import lending_pool_addresses_provider_abi\n",
    "from abis import lending_pool_abi\n",
    "from abis import erc20_abi\n",
    "from abis import price_feed_abi"
   ]
  },
  {
   "cell_type": "markdown",
   "metadata": {},
   "source": [
    "# Getting `WETH`\n",
    "> Minting WETH by depositing ETH"
   ]
  },
  {
   "cell_type": "markdown",
   "metadata": {},
   "source": [
    "Wrapped Ethereum (WETH) is used to buy and sell with auctions on OpenSea. WETH is a currency that allows users to make pre-authorized bids that can be fulfilled at a later date without any further action from the bidder. ETH and WETH are worth exactly the same amount and can be exchanged directly on your OpenSea profile.\n",
    "\n",
    ">*The following code explains how to get WETH to your Metamask walet in `web3.py`*"
   ]
  },
  {
   "cell_type": "code",
   "execution_count": 158,
   "metadata": {},
   "outputs": [],
   "source": [
    "# We are going to borrow:\n",
    "weth_I_want = 0.001 #WETH"
   ]
  },
  {
   "cell_type": "markdown",
   "metadata": {},
   "source": [
    "Unfortunately, Eth for `Kovan` is a little bit more difficult to get than for `Rinkeby`. You can get `Kovan` Eths from a couple of sites:\n",
    "1. [Kovan Faucet](https://faucet.kovan.network/)\n",
    "    - site was offline recently 😕\n",
    "2. [Gitter](https://gitter.im/kovan-testnet/faucet#)\n",
    "    - you need to sign on with your `twitter`, `github` or `gitlab` account\n",
    "    - then click on `join room` at the buttom of the page and paste in your wallet address\n",
    "    - only 0.001 Eth and you have to wait 24h to claim ETH again\n",
    "3. [Ethdrop](https://ethdrop.dev/)\n",
    "    - very simply: just paste your wallet address\n",
    "    - only 0.001 Eth and you have to wait 24h to claim ETH again"
   ]
  },
  {
   "cell_type": "code",
   "execution_count": 159,
   "metadata": {},
   "outputs": [
    {
     "data": {
      "text/plain": [
       "True"
      ]
     },
     "execution_count": 159,
     "metadata": {},
     "output_type": "execute_result"
    }
   ],
   "source": [
    "# Connect to Kovan Testnet via Infura\n",
    "provider = 'https://kovan.infura.io/v3/' + os.environ.get(\"INFURA\")  #my Infura project ID/uri for Rinkeby (stored in bl101)\n",
    "w3 = Web3(Web3.HTTPProvider(provider))\n",
    "w3.isConnected()"
   ]
  },
  {
   "cell_type": "code",
   "execution_count": 160,
   "metadata": {},
   "outputs": [],
   "source": [
    "# weth_token\n",
    "weth_address = Web3.toChecksumAddress(\"0xd0a1e359811322d97991e03f863a0c30c2cf029c\")\n",
    "weth = w3.eth.contract(address=weth_address, abi=weth_abi)"
   ]
  },
  {
   "cell_type": "code",
   "execution_count": 161,
   "metadata": {},
   "outputs": [],
   "source": [
    "# deposit function in weth_abi\n",
    "function_call = weth.functions.deposit()"
   ]
  },
  {
   "cell_type": "code",
   "execution_count": 162,
   "metadata": {},
   "outputs": [],
   "source": [
    "amount = w3.toWei(weth_I_want, \"ether\")\n",
    "nonce = w3.eth.getTransactionCount(account_1)\n",
    "transaction = function_call.buildTransaction(\n",
    "        {\n",
    "            \"chainId\": 42,\n",
    "            \"from\": account_1,\n",
    "            \"nonce\": nonce,\n",
    "            \"value\": amount,\n",
    "        }\n",
    "    )"
   ]
  },
  {
   "cell_type": "code",
   "execution_count": 164,
   "metadata": {},
   "outputs": [],
   "source": [
    " # Sign transaction\n",
    " signed_txn = w3.eth.account.sign_transaction(transaction, private_key=private_key)"
   ]
  },
  {
   "cell_type": "code",
   "execution_count": 165,
   "metadata": {},
   "outputs": [
    {
     "name": "stdout",
     "output_type": "stream",
     "text": [
      "Transaction (tx) hash: 0x12694dd3e16b9df64e96b7c65ad35909a2e39b8c13fc951a5c4bedf8168f4f1c\n"
     ]
    }
   ],
   "source": [
    "# Send transaction\n",
    "tx_hash = w3.eth.send_raw_transaction(signed_txn.rawTransaction)\n",
    "print(f\"Transaction (tx) hash: {tx_hash.hex()}\")"
   ]
  },
  {
   "cell_type": "code",
   "execution_count": 166,
   "metadata": {},
   "outputs": [
    {
     "name": "stdout",
     "output_type": "stream",
     "text": [
      "Received 0.001 WETH\n"
     ]
    }
   ],
   "source": [
    "w3.eth.wait_for_transaction_receipt(tx_hash)\n",
    "print(f\"Received {weth_I_want} WETH\")"
   ]
  },
  {
   "cell_type": "markdown",
   "metadata": {},
   "source": [
    "Checking our `Metamask` wallet, we can see that we received 0.01 WETH in exchange to 0.01 ETH.\n",
    "![Metamask wallets before and after transaction](images/getting_weth.png)\n",
    "\n",
    "As you might notice, our Ether decreased by a little bit more than 0.01 Ether. Thats the transaction (gas Price * gas). We can also derrive the transaction fee from the transaction:"
   ]
  },
  {
   "cell_type": "code",
   "execution_count": 167,
   "metadata": {},
   "outputs": [
    {
     "name": "stdout",
     "output_type": "stream",
     "text": [
      "Transaction Fee: 0.000070 Wei\n"
     ]
    }
   ],
   "source": [
    "# See transaction fee\n",
    "tx = w3.eth.get_transaction(tx_hash)\n",
    "transaction_fee = tx[\"gas\"] * tx[\"gasPrice\"] / 10**18\n",
    "print(f\"Transaction Fee: {transaction_fee:02f} Wei\")"
   ]
  },
  {
   "cell_type": "markdown",
   "metadata": {},
   "source": [
    "We can also check our transaction on the [Koven Testnet](https://kovan.etherscan.io/) by searching for our `transaction hash`:\n",
    "\n",
    "![Receipt for Getting Weth](images/getting_weth_txreceipt.png)"
   ]
  },
  {
   "cell_type": "markdown",
   "metadata": {},
   "source": []
  },
  {
   "cell_type": "markdown",
   "metadata": {},
   "source": [
    "# Borrowing `LINK`"
   ]
  },
  {
   "cell_type": "code",
   "execution_count": 102,
   "metadata": {},
   "outputs": [
    {
     "data": {
      "text/plain": [
       "True"
      ]
     },
     "execution_count": 102,
     "metadata": {},
     "output_type": "execute_result"
    }
   ],
   "source": [
    "# Although we are probably still connected ... Let's connect again to Kovan Testnet via Infura\n",
    "infura_url_rinkeby = 'https://kovan.infura.io/v3/' + os.environ.get(\"INFURA\")  #my Infura project ID/uri for Rinkeby (stored in bl101)\n",
    "w3 = Web3(Web3.HTTPProvider(infura_url_rinkeby))\n",
    "w3.isConnected()"
   ]
  },
  {
   "cell_type": "markdown",
   "metadata": {},
   "source": [
    "### Get Lending Pool"
   ]
  },
  {
   "cell_type": "code",
   "execution_count": 168,
   "metadata": {},
   "outputs": [],
   "source": [
    "w3.eth.set_gas_price_strategy(medium_gas_price_strategy)"
   ]
  },
  {
   "cell_type": "code",
   "execution_count": 169,
   "metadata": {},
   "outputs": [],
   "source": [
    "lending_pool_addresses_provider_address = Web3.toChecksumAddress(\"0x88757f2f99175387aB4C6a4b3067c77A695b0349\")\n",
    "lending_poll_addresses_provider = w3.eth.contract(\n",
    "        address=lending_pool_addresses_provider_address,\n",
    "        abi=lending_pool_addresses_provider_abi,\n",
    "    )\n",
    "lending_pool_address = (\n",
    "        lending_poll_addresses_provider.functions.getLendingPool().call()\n",
    "    )"
   ]
  },
  {
   "cell_type": "markdown",
   "metadata": {},
   "source": [
    "So where is the ABI coming from? We stored it in our `bl101` package and we loaded it at the beginning into `lending_pool_addresses_provider_abi`. But here we are interested in the function `getLendingPool`:  \n",
    "```\n",
    "{\n",
    "    \"inputs\": [],\n",
    "    \"name\": \"getLendingPool\",\n",
    "    \"outputs\": [{\"internalType\": \"address\", \"name\": \"\", \"type\": \"address\"}],\n",
    "    \"stateMutability\": \"view\",\n",
    "    \"type\": \"function\",\n",
    "}\n",
    "```\n",
    "*We can see the function has no input parameters and 1 output value of `type` address.* "
   ]
  },
  {
   "cell_type": "markdown",
   "metadata": {},
   "source": [
    "### Approve `ERC20`"
   ]
  },
  {
   "cell_type": "code",
   "execution_count": 170,
   "metadata": {},
   "outputs": [],
   "source": [
    "weth_token_address = Web3.toChecksumAddress(\"0xd0a1e359811322d97991e03f863a0c30c2cf029c\")\n",
    "nonce = w3.eth.getTransactionCount(account_1)\n",
    "erc20 = w3.eth.contract(address=weth_token_address, abi=erc20_abi)"
   ]
  },
  {
   "cell_type": "code",
   "execution_count": 171,
   "metadata": {},
   "outputs": [],
   "source": [
    "amount = w3.toWei(0.01, \"ether\")\n",
    "function_call = erc20.functions.approve(lending_pool.address, amount)"
   ]
  },
  {
   "cell_type": "code",
   "execution_count": 172,
   "metadata": {},
   "outputs": [
    {
     "name": "stdout",
     "output_type": "stream",
     "text": [
      "Nonce:  34\n",
      "Approved 10000000000000000 tokens for contract 0xE0fBa4Fc209b4948668006B2bE61711b7f465bAe\n"
     ]
    }
   ],
   "source": [
    "# Get the new nonce\n",
    "nonce = w3.eth.getTransactionCount(account_1)\n",
    "print(\"Nonce: \", nonce)\n",
    "\n",
    "# Build Transaction\n",
    "transaction = function_call.buildTransaction(\n",
    "        {\n",
    "            \"chainId\": 42,\n",
    "            \"from\": account_1,\n",
    "            \"nonce\": nonce,\n",
    "        }\n",
    "    )\n",
    "# Sign Transaction\n",
    "signed_txn = w3.eth.account.sign_transaction(transaction, private_key=private_key)\n",
    "    \n",
    "# Send Transaction\n",
    "tx_hash = w3.eth.send_raw_transaction(signed_txn.rawTransaction)\n",
    "w3.eth.wait_for_transaction_receipt(tx_hash)\n",
    "\n",
    "print(f\"Approved {amount} tokens for contract {lending_pool.address}\")"
   ]
  },
  {
   "cell_type": "markdown",
   "metadata": {},
   "source": [
    "### Depositing to `AAVE`"
   ]
  },
  {
   "cell_type": "code",
   "execution_count": 173,
   "metadata": {},
   "outputs": [],
   "source": [
    "# deposit function of lenging_pool contract\n",
    "function_call = lending_pool.functions.deposit(\n",
    "        weth_address, amount, account_1, 0)"
   ]
  },
  {
   "cell_type": "code",
   "execution_count": 174,
   "metadata": {},
   "outputs": [
    {
     "name": "stdout",
     "output_type": "stream",
     "text": [
      "Nonce:  35\n"
     ]
    },
    {
     "data": {
      "text/plain": [
       "AttributeDict({'blockHash': HexBytes('0x6fb6794dd68c76d3a1c6b51c9209afe2ea9d923c7fef0c5271757a070eb2ab5b'),\n",
       " 'blockNumber': 31648376,\n",
       " 'contractAddress': None,\n",
       " 'cumulativeGasUsed': 369940,\n",
       " 'effectiveGasPrice': 1500000007,\n",
       " 'from': '0x7Dda3ae0b40D7d86AC54edc7888c40EF7521c3c0',\n",
       " 'gasUsed': 181704,\n",
       " 'logs': [AttributeDict({'address': '0x87b1f4cf9BD63f7BBD3eE1aD04E8F52540349347',\n",
       "   'blockHash': HexBytes('0x6fb6794dd68c76d3a1c6b51c9209afe2ea9d923c7fef0c5271757a070eb2ab5b'),\n",
       "   'blockNumber': 31648376,\n",
       "   'data': '0x000000000000000000000000000000000000000000000000017416815ce8d8d7',\n",
       "   'logIndex': 2,\n",
       "   'removed': False,\n",
       "   'topics': [HexBytes('0xddf252ad1be2c89b69c2b068fc378daa952ba7f163c4a11628f55a4df523b3ef'),\n",
       "    HexBytes('0x0000000000000000000000000000000000000000000000000000000000000000'),\n",
       "    HexBytes('0x000000000000000000000000464c71f6c2f760dda6093dcb91c24c39e5d6e18c')],\n",
       "   'transactionHash': HexBytes('0x199cad6d2051b9d58bf6d44236ea92d46e5c7cb83d6a7f01a45a1898160cda41'),\n",
       "   'transactionIndex': 2,\n",
       "   'transactionLogIndex': '0x0',\n",
       "   'type': 'mined'}),\n",
       "  AttributeDict({'address': '0x87b1f4cf9BD63f7BBD3eE1aD04E8F52540349347',\n",
       "   'blockHash': HexBytes('0x6fb6794dd68c76d3a1c6b51c9209afe2ea9d923c7fef0c5271757a070eb2ab5b'),\n",
       "   'blockNumber': 31648376,\n",
       "   'data': '0x000000000000000000000000000000000000000000000000017416815ce8d8d700000000000000000000000000000000000000000ccef720031ead24c05b8f6b',\n",
       "   'logIndex': 3,\n",
       "   'removed': False,\n",
       "   'topics': [HexBytes('0x4c209b5fc8ad50758f13e2e1088ba56a560dff690a1c6fef26394f4c03821c4f'),\n",
       "    HexBytes('0x000000000000000000000000464c71f6c2f760dda6093dcb91c24c39e5d6e18c')],\n",
       "   'transactionHash': HexBytes('0x199cad6d2051b9d58bf6d44236ea92d46e5c7cb83d6a7f01a45a1898160cda41'),\n",
       "   'transactionIndex': 2,\n",
       "   'transactionLogIndex': '0x1',\n",
       "   'type': 'mined'}),\n",
       "  AttributeDict({'address': '0xE0fBa4Fc209b4948668006B2bE61711b7f465bAe',\n",
       "   'blockHash': HexBytes('0x6fb6794dd68c76d3a1c6b51c9209afe2ea9d923c7fef0c5271757a070eb2ab5b'),\n",
       "   'blockNumber': 31648376,\n",
       "   'data': '0x0000000000000000000000000000000000000000032453dade9e99e6d1366753000000000000000000000000000000000000000003a6b6830070695b2dbf13b10000000000000000000000000000000000000000037d5a99920c62f1bbbf13b100000000000000000000000000000000000000000ccef720031ead24c05b8f6b00000000000000000000000000000000000000000f1321a0e07686138866898e',\n",
       "   'logIndex': 4,\n",
       "   'removed': False,\n",
       "   'topics': [HexBytes('0x804c9b842b2748a22bb64b345453a3de7ca54a6ca45ce00d415894979e22897a'),\n",
       "    HexBytes('0x000000000000000000000000d0a1e359811322d97991e03f863a0c30c2cf029c')],\n",
       "   'transactionHash': HexBytes('0x199cad6d2051b9d58bf6d44236ea92d46e5c7cb83d6a7f01a45a1898160cda41'),\n",
       "   'transactionIndex': 2,\n",
       "   'transactionLogIndex': '0x2',\n",
       "   'type': 'mined'}),\n",
       "  AttributeDict({'address': '0xd0A1E359811322d97991E03f863a0C30C2cF029C',\n",
       "   'blockHash': HexBytes('0x6fb6794dd68c76d3a1c6b51c9209afe2ea9d923c7fef0c5271757a070eb2ab5b'),\n",
       "   'blockNumber': 31648376,\n",
       "   'data': '0x000000000000000000000000000000000000000000000000002386f26fc10000',\n",
       "   'logIndex': 5,\n",
       "   'removed': False,\n",
       "   'topics': [HexBytes('0xddf252ad1be2c89b69c2b068fc378daa952ba7f163c4a11628f55a4df523b3ef'),\n",
       "    HexBytes('0x0000000000000000000000007dda3ae0b40d7d86ac54edc7888c40ef7521c3c0'),\n",
       "    HexBytes('0x00000000000000000000000087b1f4cf9bd63f7bbd3ee1ad04e8f52540349347')],\n",
       "   'transactionHash': HexBytes('0x199cad6d2051b9d58bf6d44236ea92d46e5c7cb83d6a7f01a45a1898160cda41'),\n",
       "   'transactionIndex': 2,\n",
       "   'transactionLogIndex': '0x3',\n",
       "   'type': 'mined'}),\n",
       "  AttributeDict({'address': '0x87b1f4cf9BD63f7BBD3eE1aD04E8F52540349347',\n",
       "   'blockHash': HexBytes('0x6fb6794dd68c76d3a1c6b51c9209afe2ea9d923c7fef0c5271757a070eb2ab5b'),\n",
       "   'blockNumber': 31648376,\n",
       "   'data': '0x000000000000000000000000000000000000000000000000002386f26fc10000',\n",
       "   'logIndex': 6,\n",
       "   'removed': False,\n",
       "   'topics': [HexBytes('0xddf252ad1be2c89b69c2b068fc378daa952ba7f163c4a11628f55a4df523b3ef'),\n",
       "    HexBytes('0x0000000000000000000000000000000000000000000000000000000000000000'),\n",
       "    HexBytes('0x0000000000000000000000007dda3ae0b40d7d86ac54edc7888c40ef7521c3c0')],\n",
       "   'transactionHash': HexBytes('0x199cad6d2051b9d58bf6d44236ea92d46e5c7cb83d6a7f01a45a1898160cda41'),\n",
       "   'transactionIndex': 2,\n",
       "   'transactionLogIndex': '0x4',\n",
       "   'type': 'mined'}),\n",
       "  AttributeDict({'address': '0x87b1f4cf9BD63f7BBD3eE1aD04E8F52540349347',\n",
       "   'blockHash': HexBytes('0x6fb6794dd68c76d3a1c6b51c9209afe2ea9d923c7fef0c5271757a070eb2ab5b'),\n",
       "   'blockNumber': 31648376,\n",
       "   'data': '0x000000000000000000000000000000000000000000000000002386f26fc1000000000000000000000000000000000000000000000ccef720031ead24c05b8f6b',\n",
       "   'logIndex': 7,\n",
       "   'removed': False,\n",
       "   'topics': [HexBytes('0x4c209b5fc8ad50758f13e2e1088ba56a560dff690a1c6fef26394f4c03821c4f'),\n",
       "    HexBytes('0x0000000000000000000000007dda3ae0b40d7d86ac54edc7888c40ef7521c3c0')],\n",
       "   'transactionHash': HexBytes('0x199cad6d2051b9d58bf6d44236ea92d46e5c7cb83d6a7f01a45a1898160cda41'),\n",
       "   'transactionIndex': 2,\n",
       "   'transactionLogIndex': '0x5',\n",
       "   'type': 'mined'}),\n",
       "  AttributeDict({'address': '0xE0fBa4Fc209b4948668006B2bE61711b7f465bAe',\n",
       "   'blockHash': HexBytes('0x6fb6794dd68c76d3a1c6b51c9209afe2ea9d923c7fef0c5271757a070eb2ab5b'),\n",
       "   'blockNumber': 31648376,\n",
       "   'data': '0x0000000000000000000000007dda3ae0b40d7d86ac54edc7888c40ef7521c3c0000000000000000000000000000000000000000000000000002386f26fc10000',\n",
       "   'logIndex': 8,\n",
       "   'removed': False,\n",
       "   'topics': [HexBytes('0xde6857219544bb5b7746f48ed30be6386fefc61b2f864cacf559893bf50fd951'),\n",
       "    HexBytes('0x000000000000000000000000d0a1e359811322d97991e03f863a0c30c2cf029c'),\n",
       "    HexBytes('0x0000000000000000000000007dda3ae0b40d7d86ac54edc7888c40ef7521c3c0'),\n",
       "    HexBytes('0x0000000000000000000000000000000000000000000000000000000000000000')],\n",
       "   'transactionHash': HexBytes('0x199cad6d2051b9d58bf6d44236ea92d46e5c7cb83d6a7f01a45a1898160cda41'),\n",
       "   'transactionIndex': 2,\n",
       "   'transactionLogIndex': '0x6',\n",
       "   'type': 'mined'})],\n",
       " 'logsBloom': HexBytes('0x00000000000002000000000000000000000000000000000000000000000001000000000000001000002000000000000080000000800000000004000000000000000000000800000000000208040000000000000000000000000000800000000000002000020000000000000000800800800000008008000000000010000000000000000000000000000010000000040000000000000000000000000000000000000000000000000000000000004000000000000000000000000000000000010000100002000000000000002400020000000000000000000000000800000020004004000000000000000000000000000000000000000000000010000000000000'),\n",
       " 'status': 1,\n",
       " 'to': '0xE0fBa4Fc209b4948668006B2bE61711b7f465bAe',\n",
       " 'transactionHash': HexBytes('0x199cad6d2051b9d58bf6d44236ea92d46e5c7cb83d6a7f01a45a1898160cda41'),\n",
       " 'transactionIndex': 2})"
      ]
     },
     "execution_count": 174,
     "metadata": {},
     "output_type": "execute_result"
    }
   ],
   "source": [
    "# Get the new nonce\n",
    "nonce = w3.eth.getTransactionCount(account_1)\n",
    "print(\"Nonce: \", nonce)\n",
    "\n",
    "# Build Transaction\n",
    "transaction = function_call.buildTransaction(\n",
    "        {\n",
    "            \"chainId\": 42,\n",
    "            \"from\": account_1,\n",
    "            \"nonce\": nonce,\n",
    "        }\n",
    "    )\n",
    "\n",
    "# Sign Transaction\n",
    "signed_txn = w3.eth.account.sign_transaction(transaction, private_key=private_key)\n",
    "\n",
    "# Send Transaction\n",
    "tx_hash = w3.eth.send_raw_transaction(signed_txn.rawTransaction)\n",
    "w3.eth.wait_for_transaction_receipt(tx_hash)"
   ]
  },
  {
   "cell_type": "code",
   "execution_count": 175,
   "metadata": {},
   "outputs": [
    {
     "name": "stdout",
     "output_type": "stream",
     "text": [
      "The deposit transaction hex: 0x199cad6d2051b9d58bf6d44236ea92d46e5c7cb83d6a7f01a45a1898160cda41\n"
     ]
    }
   ],
   "source": [
    "print(f\"The deposit transaction hex: {tx_hash.hex()}\")"
   ]
  },
  {
   "cell_type": "markdown",
   "metadata": {},
   "source": [
    "![deposit transaction receipt](images/deposit_txreceipt.png)"
   ]
  },
  {
   "cell_type": "markdown",
   "metadata": {},
   "source": [
    "### (Finally) borrowing"
   ]
  },
  {
   "cell_type": "code",
   "execution_count": 176,
   "metadata": {},
   "outputs": [],
   "source": [
    "# getUserAccountData function from lending_pool contract\n",
    "(\n",
    "        total_collateral_eth,\n",
    "        total_debt_eth,\n",
    "        available_borrow_eth,\n",
    "        current_liquidation_threshold,\n",
    "        tlv,\n",
    "        health_factor,\n",
    "    ) = lending_pool.functions.getUserAccountData(account_1).call()"
   ]
  },
  {
   "cell_type": "code",
   "execution_count": 177,
   "metadata": {},
   "outputs": [
    {
     "name": "stdout",
     "output_type": "stream",
     "text": [
      "You have 0.3785671307172159 worth of ETH deposited.\n",
      "You have 1.87363573865e-07 worth of ETH borrowed.\n",
      "You can borrow 0.3028535172101989 worth of ETH.\n"
     ]
    }
   ],
   "source": [
    "available_borrow_eth = float(Web3.fromWei(available_borrow_eth, \"ether\"))\n",
    "total_collateral_eth = float(Web3.fromWei(total_collateral_eth, \"ether\"))\n",
    "total_debt_eth = float(Web3.fromWei(total_debt_eth, \"ether\"))\n",
    "print(f\"You have {total_collateral_eth} worth of ETH deposited.\")\n",
    "print(f\"You have {total_debt_eth} worth of ETH borrowed.\")\n",
    "print(f\"You can borrow {available_borrow_eth} worth of ETH.\")"
   ]
  },
  {
   "cell_type": "markdown",
   "metadata": {},
   "source": [
    "*So, now know hoch much we can borrow.*"
   ]
  },
  {
   "cell_type": "markdown",
   "metadata": {},
   "source": [
    "#### Get Asset Price"
   ]
  },
  {
   "cell_type": "code",
   "execution_count": 178,
   "metadata": {},
   "outputs": [
    {
     "name": "stdout",
     "output_type": "stream",
     "text": [
      "The LINK/ETH price is 0.003738343147504658\n"
     ]
    }
   ],
   "source": [
    "link_eth_price_feed = w3.eth.contract(\n",
    "        address=\"0x3Af8C569ab77af5230596Acf0E8c2F9351d24C38\", #link_eth_price contract\n",
    "        abi=price_feed_abi)\n",
    "\n",
    "# function latestRoundData from lenk_eth_price contract        \n",
    "latest_price = float(Web3.fromWei(\n",
    "        link_eth_price_feed.functions.latestRoundData().call()[1], \"ether\"\n",
    "    ))\n",
    "print(f\"The LINK/ETH price is {latest_price}\")"
   ]
  },
  {
   "cell_type": "code",
   "execution_count": 179,
   "metadata": {},
   "outputs": [
    {
     "name": "stdout",
     "output_type": "stream",
     "text": [
      "We are going to borrow 76.96212733754412 LINK\n"
     ]
    }
   ],
   "source": [
    "# In case we want to borrow all (95%)\n",
    "amount_erc20_to_borrow = (1 / latest_price) * (available_borrow_eth * 0.95)\n",
    "print(f\"We are going to borrow {amount_erc20_to_borrow} LINK\")\n"
   ]
  },
  {
   "cell_type": "code",
   "execution_count": 180,
   "metadata": {},
   "outputs": [],
   "source": [
    "# ERC20 address\n",
    "aave_link_token_address = \"0xAD5ce863aE3E4E9394Ab43d4ba0D80f419F61789\"\n",
    "\n"
   ]
  },
  {
   "cell_type": "code",
   "execution_count": 181,
   "metadata": {},
   "outputs": [],
   "source": [
    "# borrow function from lending_pool contract\n",
    "function_call = lending_pool.functions.borrow(\n",
    "        aave_link_token_address, Web3.toWei(amount_erc20_to_borrow, \"ether\"), 1, 0, account_1\n",
    "    ) # 1 is stable interest rate and 0 is the referral code\n"
   ]
  },
  {
   "cell_type": "code",
   "execution_count": 182,
   "metadata": {},
   "outputs": [
    {
     "name": "stdout",
     "output_type": "stream",
     "text": [
      "Nonce:  36\n",
      "Congratulations! We have just borrowed 76.96212733754412\n"
     ]
    },
    {
     "ename": "NameError",
     "evalue": "name 'borrow_tx' is not defined",
     "output_type": "error",
     "traceback": [
      "\u001b[0;31m---------------------------------------------------------------------------\u001b[0m",
      "\u001b[0;31mNameError\u001b[0m                                 Traceback (most recent call last)",
      "\u001b[1;32m/Users/dirkkalmbach/Library/Mobile Documents/com~apple~CloudDocs/Projekte/🎖🎓 Unpack AI/UnpackAI/blockchain-dev/course_dev/google-colab/BL101/bl101/🏝 Sandbox/lend-borrow.ipynb Cell 41'\u001b[0m in \u001b[0;36m<module>\u001b[0;34m\u001b[0m\n\u001b[1;32m     <a href='vscode-notebook-cell:/Users/dirkkalmbach/Library/Mobile%20Documents/com~apple~CloudDocs/Projekte/%F0%9F%8E%96%F0%9F%8E%93%20Unpack%20AI/UnpackAI/blockchain-dev/course_dev/google-colab/BL101/bl101/%F0%9F%8F%9D%20Sandbox/lend-borrow.ipynb#ch0000064?line=18'>19</a>\u001b[0m w3\u001b[39m.\u001b[39meth\u001b[39m.\u001b[39mwait_for_transaction_receipt(tx_hash)\n\u001b[1;32m     <a href='vscode-notebook-cell:/Users/dirkkalmbach/Library/Mobile%20Documents/com~apple~CloudDocs/Projekte/%F0%9F%8E%96%F0%9F%8E%93%20Unpack%20AI/UnpackAI/blockchain-dev/course_dev/google-colab/BL101/bl101/%F0%9F%8F%9D%20Sandbox/lend-borrow.ipynb#ch0000064?line=19'>20</a>\u001b[0m \u001b[39mprint\u001b[39m(\u001b[39mf\u001b[39m\u001b[39m\"\u001b[39m\u001b[39mCongratulations! We have just borrowed \u001b[39m\u001b[39m{\u001b[39;00mamount_erc20_to_borrow\u001b[39m}\u001b[39;00m\u001b[39m\"\u001b[39m)\n\u001b[0;32m---> <a href='vscode-notebook-cell:/Users/dirkkalmbach/Library/Mobile%20Documents/com~apple~CloudDocs/Projekte/%F0%9F%8E%96%F0%9F%8E%93%20Unpack%20AI/UnpackAI/blockchain-dev/course_dev/google-colab/BL101/bl101/%F0%9F%8F%9D%20Sandbox/lend-borrow.ipynb#ch0000064?line=20'>21</a>\u001b[0m \u001b[39mprint\u001b[39m(\u001b[39mf\u001b[39m\u001b[39m\"\u001b[39m\u001b[39mHere is the borrow transaction hex: \u001b[39m\u001b[39m{\u001b[39;00mborrow_tx\u001b[39m.\u001b[39mhex()\u001b[39m}\u001b[39;00m\u001b[39m\"\u001b[39m)\n",
      "\u001b[0;31mNameError\u001b[0m: name 'borrow_tx' is not defined"
     ]
    }
   ],
   "source": [
    "# Get the new nonce\n",
    "nonce = w3.eth.getTransactionCount(account_1)\n",
    "print(\"Nonce: \", nonce)\n",
    "\n",
    "# Build Transaction\n",
    "transaction = function_call.buildTransaction(\n",
    "        {\n",
    "            \"chainId\": 42,\n",
    "            \"from\": account_1,\n",
    "            \"nonce\": nonce,\n",
    "        }\n",
    "    )\n",
    "\n",
    "# Sign Transaction\n",
    "signed_txn = w3.eth.account.sign_transaction(transaction, private_key=private_key)\n",
    "\n",
    "# Send Transaction\n",
    "tx_hash = w3.eth.send_raw_transaction(signed_txn.rawTransaction)\n",
    "w3.eth.wait_for_transaction_receipt(tx_hash)\n",
    "print(f\"Congratulations! We have just borrowed {amount_erc20_to_borrow} Link\")"
   ]
  },
  {
   "cell_type": "code",
   "execution_count": 183,
   "metadata": {},
   "outputs": [
    {
     "name": "stdout",
     "output_type": "stream",
     "text": [
      "Here is the borrow transaction hex: 0x04ed1f089bf654d9e242fb4646c041e87258154103dcd76518ee502bb9c06cd9\n"
     ]
    }
   ],
   "source": [
    "print(f\"Here is the borrow transaction hex: {tx_hash.hex()}\")"
   ]
  },
  {
   "cell_type": "markdown",
   "metadata": {},
   "source": [
    "![borrow transaction receipt](images/borrow_txreceipt.png)"
   ]
  },
  {
   "cell_type": "markdown",
   "metadata": {},
   "source": [
    "## Repay all"
   ]
  },
  {
   "cell_type": "code",
   "execution_count": 196,
   "metadata": {},
   "outputs": [
    {
     "name": "stdout",
     "output_type": "stream",
     "text": [
      "Amount to repay: 0.00005 ETH (or 47613444819949 WEI)\n"
     ]
    }
   ],
   "source": [
    "# How much do we have to repay in ETHER?\n",
    "amount_to_repay = (1 / latest_price) * (total_debt_eth * 0.95)\n",
    "print(f\"Amount to repay: {amount_to_repay:.5f} ETH (or {w3.toWei(amount_to_repay, 'ether')} WEI)\") "
   ]
  },
  {
   "cell_type": "markdown",
   "metadata": {},
   "source": [
    "> first, we have again approve `ERC20` (see above)"
   ]
  },
  {
   "cell_type": "code",
   "execution_count": 193,
   "metadata": {},
   "outputs": [
    {
     "data": {
      "text/plain": [
       "1.028044365563781"
      ]
     },
     "execution_count": 193,
     "metadata": {},
     "output_type": "execute_result"
    }
   ],
   "source": [
    "# Get the new nonce\n",
    "nonce = w3.eth.getTransactionCount(account_1)\n",
    "print(\"Nonce: \", nonce)\n",
    "\n",
    "erc20 = w3.eth.contract(address=erc20_address, abi=erc20_abi)\n",
    "function_call = erc20.functions.approve(spender, amount)\n",
    "nonce = w3.eth.getTransactionCount(my_address)\n",
    "transaction = function_call.buildTransaction(\n",
    "    {\n",
    "        \"chainId\": config[\"networks\"][network][\"chain_id\"],\n",
    "        \"from\": my_address,\n",
    "        \"nonce\": nonce,\n",
    "    }\n",
    ")\n",
    "signed_txn = w3.eth.account.sign_transaction(\n",
    "    transaction, private_key=os.getenv(\"PRIVATE_KEY\")\n",
    ")\n",
    "tx_hash = w3.eth.send_raw_transaction(signed_txn.rawTransaction)\n",
    "w3.eth.wait_for_transaction_receipt(tx_hash)\n",
    "print(f\"Approved {amount} tokens for contract {spender}\")\n"
   ]
  },
  {
   "cell_type": "markdown",
   "metadata": {},
   "source": [
    "### Approve `ERC20`"
   ]
  },
  {
   "cell_type": "code",
   "execution_count": 198,
   "metadata": {},
   "outputs": [],
   "source": [
    "erc20 = w3.eth.contract(address=aave_link_token_address, abi=erc20_abi)"
   ]
  },
  {
   "cell_type": "code",
   "execution_count": 207,
   "metadata": {},
   "outputs": [
    {
     "data": {
      "text/plain": [
       "4.761344481994967e-05"
      ]
     },
     "execution_count": 207,
     "metadata": {},
     "output_type": "execute_result"
    }
   ],
   "source": [
    "amount_to_repay"
   ]
  },
  {
   "cell_type": "code",
   "execution_count": 199,
   "metadata": {},
   "outputs": [],
   "source": [
    "function_call = erc20.functions.approve(lending_pool.address,  w3.toWei(amount_to_repay, 'ether'))"
   ]
  },
  {
   "cell_type": "code",
   "execution_count": 200,
   "metadata": {},
   "outputs": [
    {
     "name": "stdout",
     "output_type": "stream",
     "text": [
      "Nonce:  37\n",
      "Approved 10000000000000000 tokens for contract 0xE0fBa4Fc209b4948668006B2bE61711b7f465bAe\n"
     ]
    }
   ],
   "source": [
    "# Get the new nonce\n",
    "nonce = w3.eth.getTransactionCount(account_1)\n",
    "print(\"Nonce: \", nonce)\n",
    "\n",
    "# Build Transaction\n",
    "transaction = function_call.buildTransaction(\n",
    "        {\n",
    "            \"chainId\": 42,\n",
    "            \"from\": account_1,\n",
    "            \"nonce\": nonce,\n",
    "        }\n",
    "    )\n",
    "# Sign Transaction\n",
    "signed_txn = w3.eth.account.sign_transaction(transaction, private_key=private_key)\n",
    "    \n",
    "# Send Transaction\n",
    "tx_hash = w3.eth.send_raw_transaction(signed_txn.rawTransaction)\n",
    "w3.eth.wait_for_transaction_receipt(tx_hash)\n",
    "\n",
    "print(f\"Approved {amount} tokens for contract {lending_pool.address}\")"
   ]
  },
  {
   "cell_type": "markdown",
   "metadata": {},
   "source": [
    "... and finally repaying by calling the `repay` function from `lending_pool` contract:"
   ]
  },
  {
   "cell_type": "code",
   "execution_count": 203,
   "metadata": {},
   "outputs": [],
   "source": [
    "function_call = lending_pool.functions.repay(\n",
    "        aave_link_token_address,\n",
    "        Web3.toWei(amount_to_repay, \"ether\"),\n",
    "        # the ratemode\n",
    "        1,\n",
    "        account_1,\n",
    "    )"
   ]
  },
  {
   "cell_type": "code",
   "execution_count": 205,
   "metadata": {},
   "outputs": [
    {
     "name": "stdout",
     "output_type": "stream",
     "text": [
      "Nonce:  38\n",
      "Repaying...\n"
     ]
    }
   ],
   "source": [
    "# Get the new nonce\n",
    "nonce = w3.eth.getTransactionCount(account_1)\n",
    "print(\"Nonce: \", nonce)\n",
    "\n",
    "transaction = function_call.buildTransaction(\n",
    "        {\n",
    "            \"chainId\": 42,\n",
    "            \"from\": account_1,\n",
    "            \"nonce\": nonce,\n",
    "        }\n",
    "    )\n",
    "print(\"Repaying...\")\n",
    "signed_txn = w3.eth.account.sign_transaction(\n",
    "    transaction, private_key=private_key)\n"
   ]
  },
  {
   "cell_type": "code",
   "execution_count": 206,
   "metadata": {},
   "outputs": [
    {
     "name": "stdout",
     "output_type": "stream",
     "text": [
      "Repaid!\n",
      "Here is the repay transaction hex: 0x5159830b94a7ba4e48e13fd95026c0394938fc0637a8cea917772ded6f389c5e\n"
     ]
    }
   ],
   "source": [
    "tx_hash = w3.eth.send_raw_transaction(signed_txn.rawTransaction)\n",
    "w3.eth.wait_for_transaction_receipt(tx_hash)\n",
    "print(\"Repaid!\")\n",
    "print(f\"Here is the repay transaction hex: {tx_hash.hex()}\")"
   ]
  },
  {
   "cell_type": "markdown",
   "metadata": {},
   "source": [
    "![Repay receipt](images/repaying_txreceipt.png)"
   ]
  },
  {
   "cell_type": "markdown",
   "metadata": {},
   "source": [
    "# 📚 Reference"
   ]
  },
  {
   "cell_type": "markdown",
   "metadata": {},
   "source": [
    "<a name=\"cite_note-1\"></a>1. [^](#cite_ref-1) Github repository [🌏 aave_web3_py](https://github.com/PatrickAlphaC/aave_web3_py)"
   ]
  },
  {
   "cell_type": "markdown",
   "metadata": {},
   "source": []
  },
  {
   "cell_type": "code",
   "execution_count": null,
   "metadata": {},
   "outputs": [],
   "source": []
  }
 ],
 "metadata": {
  "interpreter": {
   "hash": "ea271a8d55864f2db1b3c7d9182e9261e5d717f60008da9ec5479eef0acaf401"
  },
  "kernelspec": {
   "display_name": "Python 3.9.10 ('blockchain39')",
   "language": "python",
   "name": "python3"
  },
  "language_info": {
   "codemirror_mode": {
    "name": "ipython",
    "version": 3
   },
   "file_extension": ".py",
   "mimetype": "text/x-python",
   "name": "python",
   "nbconvert_exporter": "python",
   "pygments_lexer": "ipython3",
   "version": "3.9.10"
  },
  "orig_nbformat": 4
 },
 "nbformat": 4,
 "nbformat_minor": 2
}
